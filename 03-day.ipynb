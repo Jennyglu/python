{
 "cells": [
  {
   "cell_type": "code",
   "execution_count": null,
   "metadata": {},
   "outputs": [],
   "source": [
    "分支结构\n",
    "1、if语句的使用\n"
   ]
  },
  {
   "cell_type": "code",
   "execution_count": 1,
   "metadata": {},
   "outputs": [
    {
     "name": "stdout",
     "output_type": "stream",
     "text": [
      "请输入用户名: qwer\n",
      "请输入口令: 3456\n",
      "身份验证失败!\n"
     ]
    }
   ],
   "source": [
    "#用户身份验证\n",
    "\n",
    "\n",
    "username = input('请输入用户名: ')\n",
    "password = input('请输入口令: ')\n",
    "# 如果希望输入口令时 终端中没有回显 可以使用getpass模块的getpass函数\n",
    "# import getpass\n",
    "# password = getpass.getpass('请输入口令: ')\n",
    "if username == 'admin' and password == '123456':\n",
    "    print('身份验证成功!')\n",
    "else:\n",
    "    print('身份验证失败!')"
   ]
  },
  {
   "cell_type": "code",
   "execution_count": 1,
   "metadata": {},
   "outputs": [
    {
     "name": "stdout",
     "output_type": "stream",
     "text": [
      "请输入用户名: qwer\n",
      "请输入口令: ········\n",
      "身份验证失败!\n"
     ]
    }
   ],
   "source": [
    "import getpass\n",
    "username = input('请输入用户名: ')\n",
    "password = getpass.getpass('请输入口令: ')\n",
    "if username == 'admin' and password == '123456':\n",
    "    print('身份验证成功!')\n",
    "else:\n",
    "    print('身份验证失败!')\n"
   ]
  },
  {
   "cell_type": "code",
   "execution_count": 10,
   "metadata": {},
   "outputs": [
    {
     "name": "stdout",
     "output_type": "stream",
     "text": [
      "input the passwd:········\n",
      "error\n"
     ]
    }
   ],
   "source": [
    "import getpass\n",
    "def check_user(user,password):\n",
    "    if user=='guolingyu' and password=='1234':\n",
    "        print('用户名：%s; password: %s'%(user,password))\n",
    "        return True\n",
    "    else:\n",
    "        return False\n",
    "if __name__=='__main__':\n",
    "    usr=getpass.getuser()\n",
    "    pwd=getpass.getpass('input the passwd:')\n",
    "\n",
    "    if check_user(usr,pwd):\n",
    "            print('ok')\n",
    "    else:\n",
    "            print('error')"
   ]
  },
  {
   "cell_type": "code",
   "execution_count": 9,
   "metadata": {},
   "outputs": [
    {
     "name": "stdout",
     "output_type": "stream",
     "text": [
      "用户名：guolingyu; password: 1234\n"
     ]
    },
    {
     "data": {
      "text/plain": [
       "True"
      ]
     },
     "execution_count": 9,
     "metadata": {},
     "output_type": "execute_result"
    }
   ],
   "source": [
    "check_user(user='guolingyu',password='1234')"
   ]
  },
  {
   "cell_type": "code",
   "execution_count": null,
   "metadata": {},
   "outputs": [],
   "source": []
  },
  {
   "cell_type": "code",
   "execution_count": null,
   "metadata": {},
   "outputs": [],
   "source": [
    "#唯一需要说明的是和C/C++、Java等语言不同，\n",
    "#Python中没有用花括号来构造代码块而是使用了缩进的方式来设置代码的层次结构，\n",
    "#如果if条件成立的情况下需要执行多条语句，只要保持多条语句具有相同的缩进就可以了，\n",
    "#换句话说连续的代码如果又保持了相同的缩进那么它们属于同一个代码块，\n",
    "#相当于是一个执行的整体。"
   ]
  },
  {
   "cell_type": "code",
   "execution_count": 11,
   "metadata": {},
   "outputs": [
    {
     "name": "stdout",
     "output_type": "stream",
     "text": [
      "x = 7\n",
      "f(7.00) = 16.00\n"
     ]
    }
   ],
   "source": [
    "\"\"\"\n",
    "分段函数求值\n",
    "\n",
    "        3x - 5  (x > 1)\n",
    "f(x) =  x + 2   (-1 <= x <= 1)\n",
    "        5x + 3  (x < -1)\n",
    "\"\"\"\n",
    "\n",
    "x = float(input('x = '))\n",
    "#强制转化成浮点型。\n",
    "if x > 1:\n",
    "    y = 3 * x - 5\n",
    "elif x >= -1:\n",
    "    y = x + 2\n",
    "else:\n",
    "    y = 5 * x + 3\n",
    "print('f(%.2f) = %.2f' % (x, y))"
   ]
  },
  {
   "cell_type": "code",
   "execution_count": null,
   "metadata": {},
   "outputs": [],
   "source": [
    "练习："
   ]
  },
  {
   "cell_type": "code",
   "execution_count": 12,
   "metadata": {},
   "outputs": [
    {
     "name": "stdout",
     "output_type": "stream",
     "text": [
      "请输入长度：23\n",
      "请输入单位：cm\n",
      "23.0 厘米=9.4 英寸\n"
     ]
    }
   ],
   "source": [
    "\"\"\"\n",
    "\n",
    "练习1：英制单位与公制单位互换\n",
    "\n",
    "\"\"\"\n",
    "long=float(input('请输入长度：'))\n",
    "unit=input('请输入单位：')\n",
    "if unit=='in' or unit=='英寸':\n",
    "    print('%.1f 英寸=%.1f 厘米'%(long,long*2.45))\n",
    "elif unit=='cm' or unit=='厘米':\n",
    "    print('%.1f 厘米=%.1f 英寸'%(long,long/2.45))\n",
    "else:\n",
    "    print('输入的格式不正确')"
   ]
  },
  {
   "cell_type": "code",
   "execution_count": 63,
   "metadata": {},
   "outputs": [
    {
     "name": "stdout",
     "output_type": "stream",
     "text": [
      "唱歌\n"
     ]
    }
   ],
   "source": [
    "\"\"\"\n",
    "练习2：掷骰子决定做什么\n",
    "\n",
    "\"\"\"\n",
    "import random\n",
    "dianshu=random.randint(1,6)\n",
    "#或者from random import randint / face = randint(1, 6)\n",
    "if dianshu==1:\n",
    "    print('唱歌')\n",
    "elif dianshu==2:\n",
    "    print('跳舞')\n",
    "elif dianshu==3:\n",
    "    print('小品')\n",
    "elif dianshu==4:\n",
    "    print('笑话')\n",
    "elif dianshu==5:\n",
    "    print('朗诵')\n",
    "else:\n",
    "    print('念诗')"
   ]
  },
  {
   "cell_type": "code",
   "execution_count": 17,
   "metadata": {},
   "outputs": [
    {
     "name": "stdout",
     "output_type": "stream",
     "text": [
      "学狗叫\n"
     ]
    }
   ],
   "source": [
    "\"\"\"\n",
    "掷骰子决定做什么事情\n",
    "\n",
    "Version: 0.1\n",
    "Author: 骆昊\n",
    "\"\"\"\n",
    "\n",
    "from random import randint\n",
    "\n",
    "face = randint(1, 6)\n",
    "if face == 1:\n",
    "    result = '唱首歌'\n",
    "elif face == 2:\n",
    "    result = '跳个舞'\n",
    "elif face == 3:\n",
    "    result = '学狗叫'\n",
    "elif face == 4:\n",
    "    result = '做俯卧撑'\n",
    "elif face == 5:\n",
    "    result = '念绕口令'\n",
    "else:\n",
    "    result = '讲冷笑话'\n",
    "print(result)"
   ]
  },
  {
   "cell_type": "code",
   "execution_count": 66,
   "metadata": {},
   "outputs": [
    {
     "name": "stdout",
     "output_type": "stream",
     "text": [
      "输入你的成绩:12\n",
      "对应的等级为 E\n"
     ]
    }
   ],
   "source": [
    "\"\"\"\n",
    "\n",
    "练习3：百分制成绩转等级制\n",
    "90分以上    --> A\n",
    "80分~89分    --> B\n",
    "70分~79分\t   --> C\n",
    "60分~69分    --> D\n",
    "60分以下    --> E\n",
    "\n",
    "\n",
    "\"\"\"\n",
    "score=float(input('输入你的成绩:'))\n",
    "if score>=90:\n",
    "    dengji='A'\n",
    "elif 80<=score<=89:\n",
    "    dengji='B'\n",
    "elif 70<=score<=79:\n",
    "    dengji='C'\n",
    "elif 60<=score<=69:\n",
    "    dengji='D'\n",
    "else:\n",
    "    dengji='E'\n",
    "print('对应的等级为',dengji)\n"
   ]
  },
  {
   "cell_type": "code",
   "execution_count": null,
   "metadata": {},
   "outputs": [],
   "source": [
    "\"\"\"\n",
    "百分制成绩转等级制成绩\n",
    "90分以上    --> A\n",
    "80分~89分    --> B\n",
    "70分~79分\t   --> C\n",
    "60分~69分    --> D\n",
    "60分以下    --> E\n",
    "\n",
    "Version: 0.1\n",
    "Author: 骆昊\n",
    "\"\"\"\n",
    "\n",
    "score = float(input('请输入成绩: '))\n",
    "if score >= 90:\n",
    "    grade = 'A'\n",
    "elif score >= 80:\n",
    "    grade = 'B'\n",
    "elif score >= 70:\n",
    "    grade = 'C'\n",
    "elif score >= 60:\n",
    "    grade = 'D'\n",
    "else:\n",
    "    grade = 'E'\n",
    "print('对应的等级是:', grade)"
   ]
  },
  {
   "cell_type": "code",
   "execution_count": 100,
   "metadata": {},
   "outputs": [],
   "source": [
    "\"\"\"\n",
    "判断输入的边长能否构成三角形\n",
    "如果能则计算出三角形的周长和面积\n",
    "\n",
    "\"\"\"\n",
    "import math\n",
    "class sjx:\n",
    "    \"\"\"\n",
    "    check 能否构成三角形，Area，Perimeter\n",
    "    parameters:\n",
    "    -----------\n",
    "        a：need a default\n",
    "        b：need a default\n",
    "        c: need a default\n",
    "    Return:\n",
    "    \n",
    "    -------\n",
    "        none.\n",
    "    Note:\n",
    "    -----\n",
    "        1.一切类要初始化\n",
    "        2.若某一个参数需要多次使用，可以统一将其统一放在初始化函数中\n",
    "       \n",
    "    -----\n",
    "    \"\"\"\n",
    "    def __init__(self,a,b,c):\n",
    "        print('初始化')\n",
    "        self.a=a\n",
    "        self.b=b\n",
    "        self.c=c\n",
    "    def panduan(self):\n",
    "        if self.a+self.b>self.c and self.a+self.c>self.b and self.b+self.c>self.a:\n",
    "            print('能构成三角形')\n",
    "        else:\n",
    "            print('不能构成三角形重新输入')\n",
    "    def long(self):\n",
    "        self.long_=self.a+self.b+self.c\n",
    "        print('周长为',self.long_)\n",
    "    def area(self):\n",
    "        area1=self.long_/2\n",
    "        area_=math.sqrt(area1*(area1-self.a)*(area1-self.b)*(area1-self.c))\n",
    "        print('三角形的面积为 %.1f:'%area_)\n",
    "        \n",
    "            "
   ]
  },
  {
   "cell_type": "code",
   "execution_count": 104,
   "metadata": {},
   "outputs": [
    {
     "name": "stdout",
     "output_type": "stream",
     "text": [
      "初始化\n"
     ]
    }
   ],
   "source": [
    "mm=sjx(a=6,b=8,c=10)"
   ]
  },
  {
   "cell_type": "code",
   "execution_count": 105,
   "metadata": {},
   "outputs": [
    {
     "name": "stdout",
     "output_type": "stream",
     "text": [
      "能构成三角形\n"
     ]
    }
   ],
   "source": [
    "mm.panduan()"
   ]
  },
  {
   "cell_type": "code",
   "execution_count": 106,
   "metadata": {},
   "outputs": [
    {
     "name": "stdout",
     "output_type": "stream",
     "text": [
      "周长为 24\n",
      "三角形的面积为 24.0:\n"
     ]
    }
   ],
   "source": [
    "mm.long()\n",
    "mm.area()"
   ]
  },
  {
   "cell_type": "code",
   "execution_count": 91,
   "metadata": {},
   "outputs": [
    {
     "name": "stdout",
     "output_type": "stream",
     "text": [
      "a = 6\n",
      "b = 8\n",
      "c = 10\n",
      "周长: 24.000000\n",
      "面积: 24.000000\n"
     ]
    }
   ],
   "source": [
    "import math\n",
    "a = float(input('a = '))\n",
    "b = float(input('b = '))\n",
    "c = float(input('c = '))\n",
    "if a + b > c and a + c > b and b + c > a:\n",
    "    print('周长: %f' % (a + b + c))\n",
    "    p = (a + b + c) / 2\n",
    "    area = math.sqrt(p * (p - a) * (p - b) * (p - c))\n",
    "    print('面积: %f' % (area))\n",
    "else:\n",
    "    print('不能构成三角形')"
   ]
  },
  {
   "cell_type": "code",
   "execution_count": 107,
   "metadata": {},
   "outputs": [
    {
     "name": "stdout",
     "output_type": "stream",
     "text": [
      "本月收入: 10000\n",
      "五险一金: 2500\n",
      "个人所得税: ￥295.00元\n",
      "实际到手收入: ￥7205.00元\n"
     ]
    }
   ],
   "source": [
    "\"\"\"\n",
    "练习5：个人所得税计算器\n",
    "输入月收入和五险一金计算个人所得税\n",
    "\n",
    "\"\"\"\n",
    "salary = float(input('本月收入: '))\n",
    "insurance = float(input('五险一金: '))\n",
    "diff = salary - insurance - 3500\n",
    "if diff <= 0:\n",
    "    rate = 0\n",
    "    deduction = 0\n",
    "elif diff < 1500:\n",
    "    rate = 0.03\n",
    "    deduction = 0\n",
    "elif diff < 4500:\n",
    "    rate = 0.1\n",
    "    deduction = 105\n",
    "elif diff < 9000:\n",
    "    rate = 0.2\n",
    "    deduction = 555\n",
    "elif diff < 35000:\n",
    "    rate = 0.25\n",
    "    deduction = 1005\n",
    "elif diff < 55000:\n",
    "    rate = 0.3\n",
    "    deduction = 2755\n",
    "elif diff < 80000:\n",
    "    rate = 0.35\n",
    "    deduction = 5505\n",
    "else:\n",
    "    rate = 0.45\n",
    "    deduction = 13505\n",
    "tax = abs(diff * rate - deduction)\n",
    "print('个人所得税: ￥%.2f元' % tax)\n",
    "print('实际到手收入: ￥%.2f元' % (diff + 3500 - tax))"
   ]
  },
  {
   "cell_type": "code",
   "execution_count": null,
   "metadata": {},
   "outputs": [],
   "source": []
  },
  {
   "cell_type": "code",
   "execution_count": null,
   "metadata": {},
   "outputs": [],
   "source": []
  },
  {
   "cell_type": "code",
   "execution_count": null,
   "metadata": {},
   "outputs": [],
   "source": []
  },
  {
   "cell_type": "code",
   "execution_count": null,
   "metadata": {},
   "outputs": [],
   "source": []
  }
 ],
 "metadata": {
  "kernelspec": {
   "display_name": "Python 3",
   "language": "python",
   "name": "python3"
  },
  "language_info": {
   "codemirror_mode": {
    "name": "ipython",
    "version": 3
   },
   "file_extension": ".py",
   "mimetype": "text/x-python",
   "name": "python",
   "nbconvert_exporter": "python",
   "pygments_lexer": "ipython3",
   "version": "3.7.3"
  }
 },
 "nbformat": 4,
 "nbformat_minor": 2
}
