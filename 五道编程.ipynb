{
 "cells": [
  {
   "cell_type": "code",
   "execution_count": null,
   "metadata": {},
   "outputs": [],
   "source": [
    "#.编写程序读取三⾓形的三个边，如果输⼊的边是合法的则计算它的周长，\n",
    "#否则显⽰这个输 ⼊是⾮法的。 \n",
    "def sanjiao(a,b,c):\n",
    "    if a+b>=c or a+c>=b or b+c>=a:\n",
    "        sum_=a+b+c\n",
    "        print('三角形的周长：',sum_)\n",
    "    else:\n",
    "        print('输入是非法的')"
   ]
  },
  {
   "cell_type": "code",
   "execution_count": null,
   "metadata": {},
   "outputs": [],
   "source": [
    "a=1\n",
    "b=2\n",
    "c=3\n",
    "sanjiao(a,b,c)"
   ]
  },
  {
   "cell_type": "code",
   "execution_count": null,
   "metadata": {},
   "outputs": [],
   "source": [
    "#.产⽣两个1到15之间的随机数的加法问题，显⽰回答的正确次数和答案 \n",
    "import random\n",
    "count=0\n",
    "while 1:\n",
    "    number1=random.randint(1,16)\n",
    "    number2=random.randint(1,16)\n",
    "    print(number1,number2)\n",
    "    me=eval(input('>>'))\n",
    "    if number1+number2==me:\n",
    "        print(\"输入正确\")\n",
    "        break\n",
    "    else:\n",
    "        print('输入不正确')\n",
    "    count+=1\n",
    "print('回答的次数：',count+1)"
   ]
  },
  {
   "cell_type": "code",
   "execution_count": null,
   "metadata": {},
   "outputs": [],
   "source": [
    "#正方形\n",
    "for i in range(0,4):\n",
    "    if i==0 or i==3:\n",
    "        print('*'*5)\n",
    "    else:\n",
    "        print('*'+' '*3+'*')\n"
   ]
  },
  {
   "cell_type": "code",
   "execution_count": null,
   "metadata": {},
   "outputs": [],
   "source": [
    "#三⾓形\n",
    "for i in range(0,5):\n",
    "    for j in range(i+1):\n",
    "        if i==4:\n",
    "            print('*',end='')\n",
    "            continue\n",
    "        if j==0 or j==i:\n",
    "            print('*',end='')\n",
    "        else:\n",
    "            print(' ',end='')\n",
    "    print()"
   ]
  },
  {
   "cell_type": "code",
   "execution_count": null,
   "metadata": {},
   "outputs": [],
   "source": [
    "#平⾏四边形\n",
    "for i in range(0,7):\n",
    "    if i == 0 :\n",
    "        print('*'*6)\n",
    "    if i == 1 :\n",
    "        print(' '+'*'+' '*3 + ' '+'*')\n",
    "    if i == 2 :\n",
    "        print(' '*2+'*'+' '*3+' '+'*')\n",
    "    if i == 3 :\n",
    "        print(' '*3+'*'*6)"
   ]
  },
  {
   "cell_type": "code",
   "execution_count": null,
   "metadata": {},
   "outputs": [],
   "source": [
    "#⽣成⼀个包含100个随机整数的列表，然后删除其中所有奇数\n",
    "import random\n",
    "def mm():\n",
    "    a=[]\n",
    "    b=[]\n",
    "   \n",
    "    for i in range(100):\n",
    "        a.append(random.randint(0,100))\n",
    "    for j in a:\n",
    "        b.append(j)\n",
    "        if j%2!=0:   \n",
    "            b.remove(j)            \n",
    "    print(b)"
   ]
  },
  {
   "cell_type": "code",
   "execution_count": null,
   "metadata": {},
   "outputs": [],
   "source": [
    "# 函数⽣成0-9的6位数密码\n",
    "import random\n",
    "def mm():\n",
    "    str_=''#定义要输出的是一个字符串\n",
    "    for i in range(6):#控制循环的次数\n",
    "        a=chr(random.randint(ord('0'),ord('9')))\n",
    "        str_+=a\n",
    "    print(str_)"
   ]
  },
  {
   "cell_type": "code",
   "execution_count": null,
   "metadata": {},
   "outputs": [],
   "source": [
    "# 函数⽣成0-9的6位数密码\n",
    "import random\n",
    "choose=random.randint(0,1)\n",
    "n1=[[48,90],[97,122]]\n",
    "range_=n1[choose]\n",
    "N= \"\"\n",
    "for i in range(6):\n",
    "    a=chr(random.randint(range_[0],range_[1]))\n",
    "    N+=a\n",
    "print(\"密码为：\",N)  "
   ]
  }
 ],
 "metadata": {
  "kernelspec": {
   "display_name": "Python 3",
   "language": "python",
   "name": "python3"
  },
  "language_info": {
   "codemirror_mode": {
    "name": "ipython",
    "version": 3
   },
   "file_extension": ".py",
   "mimetype": "text/x-python",
   "name": "python",
   "nbconvert_exporter": "python",
   "pygments_lexer": "ipython3",
   "version": "3.7.3"
  }
 },
 "nbformat": 4,
 "nbformat_minor": 2
}
