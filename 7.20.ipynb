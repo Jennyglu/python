{
 "cells": [
  {
   "cell_type": "markdown",
   "metadata": {},
   "source": [
    "# 函数\n",
    "\n",
    "- 函数可以用来定义可重复代码，组织和简化\n",
    "- 一般来说一个函数在实际开发中为一个小功能\n",
    "- 一个类为一个大功能\n",
    "- 同样函数的长度不要超过一屏"
   ]
  },
  {
   "cell_type": "code",
   "execution_count": 12,
   "metadata": {},
   "outputs": [],
   "source": [
    "def jj():\n",
    "#函数标识符介绍后面是一个函数\n",
    "    print('hello')"
   ]
  },
  {
   "cell_type": "code",
   "execution_count": 13,
   "metadata": {},
   "outputs": [
    {
     "name": "stdout",
     "output_type": "stream",
     "text": [
      "hello\n"
     ]
    }
   ],
   "source": [
    "jj()#（）是调用这个函数"
   ]
  },
  {
   "cell_type": "code",
   "execution_count": 14,
   "metadata": {},
   "outputs": [
    {
     "name": "stdout",
     "output_type": "stream",
     "text": [
      "hello\n",
      "None\n"
     ]
    }
   ],
   "source": [
    "a=jj()\n",
    "print(a)#不给返回值会默认为none"
   ]
  },
  {
   "cell_type": "code",
   "execution_count": 15,
   "metadata": {},
   "outputs": [],
   "source": [
    "def jj2():\n",
    "#函数标识符介绍后面是一个函数\n",
    "    print('hello')\n",
    "    return 100"
   ]
  },
  {
   "cell_type": "code",
   "execution_count": 5,
   "metadata": {},
   "outputs": [
    {
     "name": "stdout",
     "output_type": "stream",
     "text": [
      "hello\n",
      "100\n"
     ]
    }
   ],
   "source": [
    "a=jj2()\n",
    "print(a)"
   ]
  },
  {
   "cell_type": "code",
   "execution_count": null,
   "metadata": {},
   "outputs": [],
   "source": [
    "python中的所有函数实际上都有返回值（retrun none）\n",
    "如果你没有设置retrun，那么不显示none\n",
    "如果你设置retrun，显示none"
   ]
  },
  {
   "cell_type": "markdown",
   "metadata": {},
   "source": [
    "## 定义一个函数\n",
    "\n",
    "def function_name(list of parameters):\n",
    "    \n",
    "    do something\n",
    "![](../Photo/69.png)\n",
    "- 以前使用的random 或者range 或者print.. 其实都是函数或者类"
   ]
  },
  {
   "cell_type": "markdown",
   "metadata": {},
   "source": [
    "## 调用一个函数\n",
    "- functionName()\n",
    "- \"()\" 就代表调用"
   ]
  },
  {
   "cell_type": "code",
   "execution_count": 12,
   "metadata": {},
   "outputs": [],
   "source": [
    "def max_(num1,num2):\n",
    "    if num1>num2:\n",
    "        result=num1\n",
    "    else:\n",
    "        result=num2\n",
    "    return result\n"
   ]
  },
  {
   "cell_type": "code",
   "execution_count": 13,
   "metadata": {},
   "outputs": [
    {
     "data": {
      "text/plain": [
       "67"
      ]
     },
     "execution_count": 13,
     "metadata": {},
     "output_type": "execute_result"
    }
   ],
   "source": [
    "max_(23,67)"
   ]
  },
  {
   "cell_type": "code",
   "execution_count": 9,
   "metadata": {},
   "outputs": [
    {
     "data": {
      "text/plain": [
       "3"
      ]
     },
     "execution_count": 9,
     "metadata": {},
     "output_type": "execute_result"
    }
   ],
   "source": [
    "max(1,2,3)"
   ]
  },
  {
   "cell_type": "code",
   "execution_count": 11,
   "metadata": {},
   "outputs": [
    {
     "name": "stdout",
     "output_type": "stream",
     "text": [
      "6 为最大数\n"
     ]
    }
   ],
   "source": [
    "a=max(2,3,4,5,6)\n",
    "print(a,\"为最大数\")"
   ]
  },
  {
   "cell_type": "code",
   "execution_count": 24,
   "metadata": {},
   "outputs": [],
   "source": [
    "def max1(num1,num2,num3):\n",
    "    if num1>num2 and num1>num3:\n",
    "        result=num1\n",
    "    elif num2>num3 and num2>num1:\n",
    "        result=num2\n",
    "    elif num3>num1 and num3>num2:\n",
    "        result=num3\n",
    "    return result  \n"
   ]
  },
  {
   "cell_type": "code",
   "execution_count": 25,
   "metadata": {},
   "outputs": [
    {
     "data": {
      "text/plain": [
       "56"
      ]
     },
     "execution_count": 25,
     "metadata": {},
     "output_type": "execute_result"
    }
   ],
   "source": [
    "max1(23,45,56)"
   ]
  },
  {
   "cell_type": "code",
   "execution_count": 48,
   "metadata": {},
   "outputs": [],
   "source": [
    "def good(name1,name2):\n",
    "    print('%s!!!!1'%name1,'%s!!!!1'%name2)"
   ]
  },
  {
   "cell_type": "code",
   "execution_count": 28,
   "metadata": {},
   "outputs": [
    {
     "name": "stdout",
     "output_type": "stream",
     "text": [
      "glu!!!!1\n"
     ]
    }
   ],
   "source": [
    "good('glu')"
   ]
  },
  {
   "cell_type": "code",
   "execution_count": 34,
   "metadata": {},
   "outputs": [
    {
     "ename": "TypeError",
     "evalue": "good() missing 1 required positional argument: 'name'",
     "output_type": "error",
     "traceback": [
      "\u001b[1;31m---------------------------------------------------------------------------\u001b[0m",
      "\u001b[1;31mTypeError\u001b[0m                                 Traceback (most recent call last)",
      "\u001b[1;32m<ipython-input-34-2e7ce84a1b7a>\u001b[0m in \u001b[0;36m<module>\u001b[1;34m\u001b[0m\n\u001b[1;32m----> 1\u001b[1;33m \u001b[0mgood\u001b[0m\u001b[1;33m(\u001b[0m\u001b[1;33m)\u001b[0m\u001b[1;33m\u001b[0m\u001b[1;33m\u001b[0m\u001b[0m\n\u001b[0m",
      "\u001b[1;31mTypeError\u001b[0m: good() missing 1 required positional argument: 'name'"
     ]
    }
   ],
   "source": [
    "good()"
   ]
  },
  {
   "cell_type": "code",
   "execution_count": 31,
   "metadata": {},
   "outputs": [],
   "source": [
    "def good(name='glu'):#含有默认值的参数一定放在最后面\n",
    "    print('%s!!!!1'%name)"
   ]
  },
  {
   "cell_type": "code",
   "execution_count": 32,
   "metadata": {},
   "outputs": [
    {
     "name": "stdout",
     "output_type": "stream",
     "text": [
      "glu!!!!1\n"
     ]
    }
   ],
   "source": [
    "good()"
   ]
  },
  {
   "cell_type": "code",
   "execution_count": 36,
   "metadata": {},
   "outputs": [
    {
     "ename": "SyntaxError",
     "evalue": "invalid character in identifier (<ipython-input-36-7ebff238113a>, line 1)",
     "output_type": "error",
     "traceback": [
      "\u001b[1;36m  File \u001b[1;32m\"<ipython-input-36-7ebff238113a>\"\u001b[1;36m, line \u001b[1;32m1\u001b[0m\n\u001b[1;33m    def good2(name='glu'，name1):#含有默认值的参数一定放在最后面\u001b[0m\n\u001b[1;37m                             ^\u001b[0m\n\u001b[1;31mSyntaxError\u001b[0m\u001b[1;31m:\u001b[0m invalid character in identifier\n"
     ]
    }
   ],
   "source": [
    "def good2(name='glu'，name1):#含有默认值的参数一定放在最后面\n",
    "    print('%s!!!!1'%name)"
   ]
  },
  {
   "cell_type": "code",
   "execution_count": 49,
   "metadata": {},
   "outputs": [
    {
     "name": "stdout",
     "output_type": "stream",
     "text": [
      "1!!!!1 2!!!!1\n"
     ]
    }
   ],
   "source": [
    "#位置传参\n",
    "good('1','2')"
   ]
  },
  {
   "cell_type": "code",
   "execution_count": null,
   "metadata": {},
   "outputs": [],
   "source": [
    "good(name1='1',name='2')#建议使用这种"
   ]
  },
  {
   "cell_type": "markdown",
   "metadata": {},
   "source": [
    "![](../Photo/70.png)"
   ]
  },
  {
   "cell_type": "markdown",
   "metadata": {},
   "source": [
    "## 带返回值和不带返回值的函数\n",
    "- return 返回的内容\n",
    "- return 返回多个值\n",
    "- 一般情况下，在多个函数协同完成一个功能的时候，那么将会有返回值"
   ]
  },
  {
   "cell_type": "markdown",
   "metadata": {},
   "source": [
    "![](../Photo/71.png)\n",
    "\n",
    "- 当然也可以自定义返回None"
   ]
  },
  {
   "cell_type": "markdown",
   "metadata": {},
   "source": [
    "## EP：\n",
    "![](../Photo/72.png)"
   ]
  },
  {
   "cell_type": "code",
   "execution_count": 3,
   "metadata": {},
   "outputs": [],
   "source": [
    "#函数嵌套函数\n",
    "def fun1():\n",
    "    print('werty')\n",
    "def fun2():\n",
    "    fun1()"
   ]
  },
  {
   "cell_type": "code",
   "execution_count": 4,
   "metadata": {},
   "outputs": [
    {
     "name": "stdout",
     "output_type": "stream",
     "text": [
      "werty\n"
     ]
    }
   ],
   "source": [
    "fun2()"
   ]
  },
  {
   "cell_type": "code",
   "execution_count": 5,
   "metadata": {},
   "outputs": [],
   "source": [
    "#奇数和偶数\n",
    "#比大小直到对为止\n",
    "#验证码"
   ]
  },
  {
   "cell_type": "code",
   "execution_count": 6,
   "metadata": {},
   "outputs": [],
   "source": [
    "#奇数和偶数\n",
    "def main():\n",
    "    i=eval(input('输入一个数'))\n",
    "    if i%2!=0:\n",
    "        print(i,'是奇数')\n",
    "    if i%2==0:\n",
    "        print(i,'是偶数')\n",
    "    \n",
    "def jioushu():\n",
    "    main()\n",
    "    "
   ]
  },
  {
   "cell_type": "code",
   "execution_count": 7,
   "metadata": {},
   "outputs": [
    {
     "name": "stdout",
     "output_type": "stream",
     "text": [
      "输入一个数2\n",
      "2 是偶数\n"
     ]
    }
   ],
   "source": [
    "jioushu()"
   ]
  },
  {
   "cell_type": "code",
   "execution_count": 28,
   "metadata": {},
   "outputs": [],
   "source": [
    "#奇数和偶数\n",
    "def main(i):\n",
    "    \n",
    "    if i%2!=0:\n",
    "        print(i,'是奇数')\n",
    "    if i%2==0:\n",
    "        print(i,'是偶数')"
   ]
  },
  {
   "cell_type": "code",
   "execution_count": 29,
   "metadata": {},
   "outputs": [
    {
     "name": "stdout",
     "output_type": "stream",
     "text": [
      "6 是偶数\n"
     ]
    }
   ],
   "source": [
    "main(6)"
   ]
  },
  {
   "cell_type": "code",
   "execution_count": null,
   "metadata": {},
   "outputs": [],
   "source": [
    "#比大小直到对为止\n",
    "    \n"
   ]
  },
  {
   "cell_type": "code",
   "execution_count": 1,
   "metadata": {},
   "outputs": [],
   "source": [
    "import random\n",
    "number=random.randint(0,10)"
   ]
  },
  {
   "cell_type": "code",
   "execution_count": 4,
   "metadata": {},
   "outputs": [],
   "source": [
    "def main():\n",
    "    while 1:\n",
    "        num=eval(input('输入一个数：'))\n",
    "        if num>number:\n",
    "            print('太大了')\n",
    "        elif num<number:\n",
    "            print('太小了')\n",
    "        else:\n",
    "            print('满意')\n",
    "            break"
   ]
  },
  {
   "cell_type": "code",
   "execution_count": 5,
   "metadata": {},
   "outputs": [
    {
     "name": "stdout",
     "output_type": "stream",
     "text": [
      "输入一个数：3\n",
      "太小了\n",
      "输入一个数：8\n",
      "太大了\n",
      "输入一个数：9\n",
      "太大了\n",
      "输入一个数：4\n",
      "满意\n"
     ]
    }
   ],
   "source": [
    "main()"
   ]
  },
  {
   "cell_type": "code",
   "execution_count": 25,
   "metadata": {},
   "outputs": [],
   "source": [
    "import random\n",
    "number=random.randint(0,10)\n",
    "def main():\n",
    "    num=eval(input('输入一个数：'))\n",
    "    if num>number:\n",
    "        print(number,num,'太大了')\n",
    "    elif num<number:\n",
    "        print(number,num,'太小了')\n",
    "    else:\n",
    "        print(number,num,'满意')"
   ]
  },
  {
   "cell_type": "code",
   "execution_count": 26,
   "metadata": {},
   "outputs": [
    {
     "name": "stdout",
     "output_type": "stream",
     "text": [
      "输入一个数：4\n",
      "4 4 满意\n"
     ]
    }
   ],
   "source": [
    "main()"
   ]
  },
  {
   "cell_type": "code",
   "execution_count": 128,
   "metadata": {},
   "outputs": [],
   "source": [
    "#验证码\n",
    "import random"
   ]
  },
  {
   "cell_type": "code",
   "execution_count": 129,
   "metadata": {},
   "outputs": [],
   "source": [
    "def yan():\n",
    "    while True:\n",
    "        choose=random.randint(0,1)\n",
    "        n1=[[65,90],[97,122]]\n",
    "        range_=n1[choose]\n",
    "        N= \"\"\n",
    "        for i in range(4):\n",
    "            N+=chr(random.randint(range_[0],range_[1]))\n",
    "        print(\"验证码为：\",N)   \n",
    "        me=input(\">>:\")\n",
    "        if me.lower()==N.lower():\n",
    "            print('验证码正确')\n",
    "            break\n",
    "        else:\n",
    "            print('验证码错误')"
   ]
  },
  {
   "cell_type": "code",
   "execution_count": 130,
   "metadata": {},
   "outputs": [
    {
     "name": "stdout",
     "output_type": "stream",
     "text": [
      "验证码为： layz\n",
      ">>:layz\n",
      "验证码正确\n"
     ]
    }
   ],
   "source": [
    "yan()"
   ]
  },
  {
   "cell_type": "markdown",
   "metadata": {},
   "source": [
    "# KNN算法\n",
    "# 读取图片，进行对比分析\n",
    "import matplotlib.pyplot as plt \n",
    "\n",
    "res = plt.imread('D:/rabbit.jpg')\n",
    "print(res)"
   ]
  },
  {
   "cell_type": "markdown",
   "metadata": {},
   "source": [
    "## 类型和关键字参数\n",
    "- 普通参数\n",
    "- 多个参数\n",
    "- 默认值参数\n",
    "- 不定长参数"
   ]
  },
  {
   "cell_type": "markdown",
   "metadata": {},
   "source": [
    "## 普通参数"
   ]
  },
  {
   "cell_type": "markdown",
   "metadata": {},
   "source": [
    "## 多个参数"
   ]
  },
  {
   "cell_type": "markdown",
   "metadata": {},
   "source": [
    "## 默认值参数\n",
    "- 默认参数只能放在最后  *之后的必须强制命名传入参数,* 之后的变量必须带参数名"
   ]
  },
  {
   "cell_type": "markdown",
   "metadata": {},
   "source": [
    "# 强制命名\n",
    "- *之后的必须强制命名传入参数,* 之后的变量必须带参数名"
   ]
  },
  {
   "cell_type": "code",
   "execution_count": 132,
   "metadata": {},
   "outputs": [
    {
     "name": "stdout",
     "output_type": "stream",
     "text": [
      "asd\n"
     ]
    }
   ],
   "source": [
    "def haha(*,name):#参数特别重要的时候\n",
    "    print(name)\n",
    "haha(name='asd')#要带名字去调用"
   ]
  },
  {
   "cell_type": "markdown",
   "metadata": {},
   "source": [
    "## 不定长参数\n",
    "- \\*args, 不定长，输入多少参数都可以，不写入参数也可以\n",
    "> - 可以输入多个参数\n",
    "  - 返回输出结果的类型是元组类型，元组可以迭代，输入多少个参数都可以迭代来取出\n",
    "  - args 名字是可以修改的，只是通常约定为args\n",
    "- \\**kwargs, 不定长第二种\n",
    "> - 可以输入多个参数，但需要带参数名称\n",
    "  - 返回的数据类型是字典\n",
    "  - 输入的一定要是表达式(键值对)\n",
    "- 一般大的项目传入参数时，使用config文件一次写入所有的参数"
   ]
  },
  {
   "cell_type": "code",
   "execution_count": 133,
   "metadata": {},
   "outputs": [
    {
     "name": "stdout",
     "output_type": "stream",
     "text": [
      "(1, 2, 3)\n"
     ]
    }
   ],
   "source": [
    "def tt(*wert):\n",
    "    print(wert)\n",
    "tt(1,2,3)"
   ]
  },
  {
   "cell_type": "code",
   "execution_count": 9,
   "metadata": {},
   "outputs": [
    {
     "name": "stdout",
     "output_type": "stream",
     "text": [
      "()\n"
     ]
    }
   ],
   "source": [
    "tt()"
   ]
  },
  {
   "cell_type": "code",
   "execution_count": 10,
   "metadata": {},
   "outputs": [
    {
     "data": {
      "text/plain": [
       "5"
      ]
     },
     "execution_count": 10,
     "metadata": {},
     "output_type": "execute_result"
    }
   ],
   "source": [
    "def max_(*n):\n",
    "    res=0\n",
    "    for i in n:\n",
    "        if i>res:\n",
    "            res=i\n",
    "    return res\n",
    "max_(1,2,3,4,5)\n",
    "    \n",
    "\n",
    "    "
   ]
  },
  {
   "cell_type": "code",
   "execution_count": 14,
   "metadata": {},
   "outputs": [
    {
     "data": {
      "text/plain": [
       "15"
      ]
     },
     "execution_count": 14,
     "metadata": {},
     "output_type": "execute_result"
    }
   ],
   "source": [
    "def sum_(*n):\n",
    "    res=0\n",
    "    for i in n:\n",
    "        res=i+res\n",
    "    return res\n",
    "sum_(1,2,3,4,5)"
   ]
  },
  {
   "cell_type": "code",
   "execution_count": 15,
   "metadata": {},
   "outputs": [
    {
     "data": {
      "text/plain": [
       "2.0"
      ]
     },
     "execution_count": 15,
     "metadata": {},
     "output_type": "execute_result"
    }
   ],
   "source": [
    "def avg_(*n):\n",
    "    res=0\n",
    "    count=0\n",
    "    for i in n:\n",
    "        res+=i\n",
    "        count+=1\n",
    "    return (res/count)\n",
    "avg_(1,2,3)"
   ]
  },
  {
   "cell_type": "code",
   "execution_count": 16,
   "metadata": {},
   "outputs": [
    {
     "data": {
      "text/plain": [
       "(6, 2.0)"
      ]
     },
     "execution_count": 16,
     "metadata": {},
     "output_type": "execute_result"
    }
   ],
   "source": [
    "def avg_(*n):\n",
    "    res=0\n",
    "    count=0\n",
    "    for i in n:\n",
    "        res+=i\n",
    "        count+=1\n",
    "    mean=res/count\n",
    "    return res,mean\n",
    "avg_(1,2,3)"
   ]
  },
  {
   "cell_type": "code",
   "execution_count": 21,
   "metadata": {},
   "outputs": [
    {
     "data": {
      "text/plain": [
       "10"
      ]
     },
     "execution_count": 21,
     "metadata": {},
     "output_type": "execute_result"
    }
   ],
   "source": [
    "def sum_(*n,A='sum'):\n",
    "    res=0\n",
    "    count=0\n",
    "    for i in n:\n",
    "        res+=i\n",
    "        count+=1\n",
    "    if A==\"sum\":\n",
    "        return res\n",
    "    elif A==\"mean\":\n",
    "        mean=res/count\n",
    "        return res,mean \n",
    "    else:\n",
    "        print(A,\"还未开放\")\n",
    "sum_(1,2,3,4,A='sum')\n",
    "            "
   ]
  },
  {
   "cell_type": "code",
   "execution_count": 95,
   "metadata": {},
   "outputs": [],
   "source": [
    "#输入任意一个字符串统计大写，小写以及数字有多少个\n"
   ]
  },
  {
   "cell_type": "code",
   "execution_count": 124,
   "metadata": {},
   "outputs": [],
   "source": [
    "def tongji(n):\n",
    "    shuzi=0\n",
    "    xiao=0\n",
    "    da=0\n",
    "    for i in n:\n",
    "        num=ord(i)\n",
    "   \n",
    "        if 48<=num<=57:\n",
    "            shuzi+=1\n",
    "        elif 65<=num<=90:\n",
    "            da+=1\n",
    "        elif 97<=num<=122:\n",
    "            xiao+=1 \n",
    "    return shuzi,xiao,da\n",
    "        \n",
    "        \n",
    "    "
   ]
  },
  {
   "cell_type": "code",
   "execution_count": 125,
   "metadata": {},
   "outputs": [
    {
     "data": {
      "text/plain": [
       "(1, 3, 2)"
      ]
     },
     "execution_count": 125,
     "metadata": {},
     "output_type": "execute_result"
    }
   ],
   "source": [
    "tongji('wASt4g')"
   ]
  },
  {
   "cell_type": "code",
   "execution_count": 90,
   "metadata": {},
   "outputs": [
    {
     "name": "stdout",
     "output_type": "stream",
     "text": [
      "119\n",
      "101\n",
      "114\n",
      "102\n",
      "116\n",
      "53\n",
      "54\n"
     ]
    }
   ],
   "source": [
    "n='werft56'\n",
    "for i in n:\n",
    "    num=ord(i)\n",
    "    print(num)"
   ]
  },
  {
   "cell_type": "code",
   "execution_count": 135,
   "metadata": {},
   "outputs": [
    {
     "name": "stdout",
     "output_type": "stream",
     "text": [
      "{'a': 100, 'b': 233}\n",
      "(1, 2, 3, 4)\n"
     ]
    }
   ],
   "source": [
    "def tt(*args,**kwarges):\n",
    "    print(kwarges)\n",
    "    print(args)\n",
    "tt(1,2,3,4,a=100,b=233)\n",
    "    "
   ]
  },
  {
   "cell_type": "markdown",
   "metadata": {},
   "source": [
    "### \\**kwargs, 不定长第二种\n",
    "- 第二种不定长参数传入方法，使用字典数据传入\n",
    "- 写入参数时，必须先写\\*args, 再写\\**kwargs。 这是固定写法"
   ]
  },
  {
   "cell_type": "markdown",
   "metadata": {},
   "source": [
    "## 变量的作用域\n",
    "- 局部变量 local\n",
    "- 全局变量 global\n",
    "- globals 函数返回一个全局变量的字典，包括所有导入的变量\n",
    "- locals() 函数会以字典类型返回当前位置的全部局部变量。"
   ]
  },
  {
   "cell_type": "code",
   "execution_count": 136,
   "metadata": {},
   "outputs": [
    {
     "name": "stdout",
     "output_type": "stream",
     "text": [
      "1100\n"
     ]
    }
   ],
   "source": [
    "a=1000\n",
    "def t():\n",
    "    global a\n",
    "    a+=100\n",
    "    print(a)\n",
    "t()"
   ]
  },
  {
   "cell_type": "markdown",
   "metadata": {},
   "source": [
    "## 注意：\n",
    "- global ：在进行赋值操作的时候需要声明\n",
    "- 官方解释：This is because when you make an assignment to a variable in a scope, that variable becomes local to that scope and shadows any similarly named variable in the outer scope.\n",
    "- ![](../Photo/73.png)"
   ]
  },
  {
   "cell_type": "markdown",
   "metadata": {},
   "source": [
    "## EP：\n",
    "- 定义一个邮箱加密函数，使得输入邮箱后进行ASCII码加密\n",
    "- 定义一个判断其是否为闰年的函数\n",
    "- 函数的嵌套：定义两个函数A，B，B函数接受A函数的数值并判定是否为奇数或者偶数"
   ]
  },
  {
   "cell_type": "markdown",
   "metadata": {},
   "source": [
    "# Homework\n",
    "- 1\n",
    "![](../Photo/74.png)"
   ]
  },
  {
   "cell_type": "code",
   "execution_count": 137,
   "metadata": {},
   "outputs": [],
   "source": [
    "def getpentagonalNumber():\n",
    "    count = 0\n",
    "    for i in range(1,100):\n",
    "        n=(i*(3*i-1))/2\n",
    "        print('%d'%n,end = '  ')\n",
    "        count+=1\n",
    "        if count % 10==0:\n",
    "            print(\"\\n\")"
   ]
  },
  {
   "cell_type": "code",
   "execution_count": 138,
   "metadata": {},
   "outputs": [
    {
     "name": "stdout",
     "output_type": "stream",
     "text": [
      "1  5  12  22  35  51  70  92  117  145  \n",
      "\n",
      "176  210  247  287  330  376  425  477  532  590  \n",
      "\n",
      "651  715  782  852  925  1001  1080  1162  1247  1335  \n",
      "\n",
      "1426  1520  1617  1717  1820  1926  2035  2147  2262  2380  \n",
      "\n",
      "2501  2625  2752  2882  3015  3151  3290  3432  3577  3725  \n",
      "\n",
      "3876  4030  4187  4347  4510  4676  4845  5017  5192  5370  \n",
      "\n",
      "5551  5735  5922  6112  6305  6501  6700  6902  7107  7315  \n",
      "\n",
      "7526  7740  7957  8177  8400  8626  8855  9087  9322  9560  \n",
      "\n",
      "9801  10045  10292  10542  10795  11051  11310  11572  11837  12105  \n",
      "\n",
      "12376  12650  12927  13207  13490  13776  14065  14357  14652  "
     ]
    }
   ],
   "source": [
    "getpentagonalNumber()"
   ]
  },
  {
   "cell_type": "code",
   "execution_count": 1,
   "metadata": {},
   "outputs": [],
   "source": [
    "\n",
    "def huhu():\n",
    "    count=0\n",
    "    for i in range(100,1001):\n",
    "        if (i%5==0 and i%6==0) :\n",
    "            print(i,end=' ')\n",
    "            count+=1\n",
    "            if (count%10==0):\n",
    "                print(\"\\n\")"
   ]
  },
  {
   "cell_type": "code",
   "execution_count": 31,
   "metadata": {},
   "outputs": [
    {
     "name": "stdout",
     "output_type": "stream",
     "text": [
      "120 150 180 210 240 270 300 330 360 390 \n",
      "\n",
      "420 450 480 510 540 570 600 630 660 690 \n",
      "\n",
      "720 750 780 810 840 870 900 930 960 990 \n",
      "\n"
     ]
    }
   ],
   "source": [
    "huhu()"
   ]
  },
  {
   "cell_type": "markdown",
   "metadata": {},
   "source": [
    "- 2 \n",
    "![](../Photo/75.png)"
   ]
  },
  {
   "cell_type": "code",
   "execution_count": 155,
   "metadata": {},
   "outputs": [],
   "source": [
    "def sumdig(n):\n",
    "\n",
    "    ge=n%10\n",
    "    num1=n//10\n",
    "    shi=num1%10\n",
    "    bai=num1//10\n",
    "    N=ge+shi+bai\n",
    "    return N"
   ]
  },
  {
   "cell_type": "code",
   "execution_count": 156,
   "metadata": {},
   "outputs": [
    {
     "data": {
      "text/plain": [
       "9"
      ]
     },
     "execution_count": 156,
     "metadata": {},
     "output_type": "execute_result"
    }
   ],
   "source": [
    "sumdig(234)"
   ]
  },
  {
   "cell_type": "markdown",
   "metadata": {},
   "source": [
    "- 3\n",
    "![](../Photo/76.png)"
   ]
  },
  {
   "cell_type": "code",
   "execution_count": 3,
   "metadata": {},
   "outputs": [],
   "source": [
    "def displaysortednumbers():\n",
    "    \n",
    "    x1,x2,x3=eval(input('输入三个整数：'))\n",
    "    print('排序为：',sorted({x1,x2,x3}))"
   ]
  },
  {
   "cell_type": "code",
   "execution_count": 4,
   "metadata": {},
   "outputs": [
    {
     "name": "stdout",
     "output_type": "stream",
     "text": [
      "输入三个整数：12,56,34\n",
      "排序为： [12, 34, 56]\n"
     ]
    }
   ],
   "source": [
    "displaysortednumbers()"
   ]
  },
  {
   "cell_type": "code",
   "execution_count": 34,
   "metadata": {},
   "outputs": [],
   "source": [
    "def num(num1,num2):\n",
    "    n=[]\n",
    "    sum_=0\n",
    "    for i in range(0,num2):\n",
    "        num=num1*10**i\n",
    "        sum_+=num\n",
    "        n.append(sum_)\n",
    "        \n",
    "        print(sum_,sum(n))\n",
    "        "
   ]
  },
  {
   "cell_type": "code",
   "execution_count": 35,
   "metadata": {},
   "outputs": [
    {
     "name": "stdout",
     "output_type": "stream",
     "text": [
      "2 2\n",
      "22 24\n",
      "222 246\n",
      "2222 2468\n"
     ]
    }
   ],
   "source": [
    "num(2,4)"
   ]
  },
  {
   "cell_type": "markdown",
   "metadata": {},
   "source": [
    "- 5\n",
    "![](../Photo/78.png)"
   ]
  },
  {
   "cell_type": "code",
   "execution_count": 5,
   "metadata": {},
   "outputs": [],
   "source": [
    "def printchars(ch1,ch2,numberperline):\n",
    "    count=0\n",
    "    for i in range(ch1,ch2):\n",
    "        print(chr(i),end=' ')\n",
    "        count+=1\n",
    "        if count%numberperline==0:\n",
    "            print('\\n')"
   ]
  },
  {
   "cell_type": "code",
   "execution_count": 6,
   "metadata": {},
   "outputs": [
    {
     "name": "stdout",
     "output_type": "stream",
     "text": [
      "8 9 : ; < = > ? @ A \n",
      "\n",
      "B C D E F G H I J K \n",
      "\n",
      "L M N O P Q R S T U \n",
      "\n",
      "V W X Y Z [ \\ ] ^ _ \n",
      "\n",
      "` a b c d e f g h i \n",
      "\n",
      "j k l m n o p q r s \n",
      "\n",
      "t u v "
     ]
    }
   ],
   "source": [
    "printchars(56,119,10)"
   ]
  },
  {
   "cell_type": "markdown",
   "metadata": {},
   "source": [
    "- 6\n",
    "![](../Photo/79.png)"
   ]
  },
  {
   "cell_type": "code",
   "execution_count": 11,
   "metadata": {},
   "outputs": [],
   "source": [
    "def numberofdaysinayear():\n",
    "    for i in range(2010,2020):\n",
    "        if (i%4==0 and i%100!=0) or (i%400==0):\n",
    "            print(i,\"有366天\")\n",
    "        else:\n",
    "            print(i,'有365天')"
   ]
  },
  {
   "cell_type": "code",
   "execution_count": 12,
   "metadata": {},
   "outputs": [
    {
     "name": "stdout",
     "output_type": "stream",
     "text": [
      "2010 有365天\n",
      "2011 有365天\n",
      "2012 有366天\n",
      "2013 有365天\n",
      "2014 有365天\n",
      "2015 有365天\n",
      "2016 有366天\n",
      "2017 有365天\n",
      "2018 有365天\n",
      "2019 有365天\n"
     ]
    }
   ],
   "source": [
    "numberofdaysinayear()"
   ]
  },
  {
   "cell_type": "code",
   "execution_count": null,
   "metadata": {},
   "outputs": [],
   "source": [
    "\n",
    "for i in range(2010,2020):\n",
    "    if (i%4==0 and i%100!=0) or (i%400==0):\n",
    "        print(\"366\")\n",
    "    else:\n",
    "        print('365')"
   ]
  },
  {
   "cell_type": "markdown",
   "metadata": {},
   "source": [
    "- 7\n",
    "![](../Photo/80.png)"
   ]
  },
  {
   "cell_type": "code",
   "execution_count": 67,
   "metadata": {},
   "outputs": [],
   "source": [
    "import math"
   ]
  },
  {
   "cell_type": "code",
   "execution_count": 68,
   "metadata": {},
   "outputs": [],
   "source": [
    "def juli(x1,y1,x2,y2,x3,y3):\n",
    "    a=math.sqrt(math.pow(x1-x2,2)+math.pow(y1-y2,2))\n",
    "    b=math.sqrt(math.pow(x1-x3,2)+math.pow(y1-y3,2))\n",
    "    c=math.sqrt(math.pow(x2-x3,2)+math.pow(y2-y3,2))\n",
    "    side1=a/(-2*b*c)\n",
    "    A=math.acos(side1)\n",
    "    side2=b/(-2*a*c)\n",
    "    B=math.acos(side2)\n",
    "    side3=c/(-2*a*b)\n",
    "    C=math.acos(side3)\n",
    "    print(math.degrees(A))\n",
    "    print(math.degrees(B))\n",
    "    print(math.degrees(C))"
   ]
  },
  {
   "cell_type": "code",
   "execution_count": 69,
   "metadata": {},
   "outputs": [
    {
     "name": "stdout",
     "output_type": "stream",
     "text": [
      "95.07089668283993\n",
      "110.70481105463543\n",
      "95.07089668283993\n"
     ]
    }
   ],
   "source": [
    "juli(1,2,3,4,5,6)"
   ]
  },
  {
   "cell_type": "markdown",
   "metadata": {},
   "source": [
    "- 8\n",
    "![](../Photo/81.png)"
   ]
  },
  {
   "cell_type": "code",
   "execution_count": 1,
   "metadata": {},
   "outputs": [],
   "source": [
    "def meimei():\n",
    "    i=2\n",
    "    for i in range(2,32):\n",
    "        j=2\n",
    "        for j in range(2,i):\n",
    "            if i%j==0:\n",
    "                break\n",
    "        else:\n",
    "            n=2**i-1\n",
    "            print(i, n)\n",
    "        \n",
    "           "
   ]
  },
  {
   "cell_type": "code",
   "execution_count": 2,
   "metadata": {},
   "outputs": [
    {
     "name": "stdout",
     "output_type": "stream",
     "text": [
      "2 3\n",
      "3 7\n",
      "5 31\n",
      "7 127\n",
      "11 2047\n",
      "13 8191\n",
      "17 131071\n",
      "19 524287\n",
      "23 8388607\n",
      "29 536870911\n",
      "31 2147483647\n"
     ]
    }
   ],
   "source": [
    "meimei()"
   ]
  },
  {
   "cell_type": "markdown",
   "metadata": {},
   "source": [
    "- 9\n",
    "![](../Photo/82.png)\n",
    "![](../Photo/83.png)"
   ]
  },
  {
   "cell_type": "code",
   "execution_count": null,
   "metadata": {},
   "outputs": [],
   "source": []
  },
  {
   "cell_type": "markdown",
   "metadata": {},
   "source": [
    "- 10\n",
    "![](../Photo/84.png)"
   ]
  },
  {
   "cell_type": "code",
   "execution_count": 17,
   "metadata": {},
   "outputs": [],
   "source": [
    "import random\n"
   ]
  },
  {
   "cell_type": "code",
   "execution_count": 18,
   "metadata": {},
   "outputs": [],
   "source": [
    "def saizi():\n",
    "     while 1:\n",
    "        i=random.randint(1,6)  \n",
    "        j=random.randint(1,6)\n",
    "        if i+j==2 or i+j==3 or i+j==12:\n",
    "            print('you rolled','%d+%d=%d'%(i,j,i+j))\n",
    "            print('you lose')\n",
    "            break\n",
    "        if i+j==7 or i+j==11:\n",
    "            print('you rolled','%d+%d=%d'%(i,j,i+j))\n",
    "            print('you win')\n",
    "            break\n",
    "        else:\n",
    "            print('you rolled','%d+%d=%d'%(i,j,i+j))\n",
    "            print('point is',i+j)"
   ]
  },
  {
   "cell_type": "code",
   "execution_count": 19,
   "metadata": {},
   "outputs": [
    {
     "name": "stdout",
     "output_type": "stream",
     "text": [
      "you rolled 6+4=10\n",
      "point is 10\n",
      "you rolled 6+5=11\n",
      "you win\n"
     ]
    }
   ],
   "source": [
    "saizi()"
   ]
  },
  {
   "cell_type": "markdown",
   "metadata": {},
   "source": [
    "- 11 \n",
    "### 去网上寻找如何用Python代码发送邮件 \n",
    "    - time.sleep(3)  3秒发送一次\n",
    "    - 一旦错误后，重新换一个邮箱"
   ]
  },
  {
   "cell_type": "code",
   "execution_count": null,
   "metadata": {},
   "outputs": [],
   "source": [
    "import smtplib\n",
    "from email.mime.text import MIMEText\n",
    "from email.mime.multipart import MIMEMultipart\n",
    "from email.mime.image import MIMEImage\n",
    "from email.header import Header\n",
    "from email.utils import parseaddr,formataddr\n",
    "#先定义署名格式化函数\n",
    "def _format_addr(s):\n",
    "    name, addr = parseaddr(s)\n",
    "    return formataddr((Header(name, 'utf-8').encode(), addr))\n",
    "\n",
    "#发送人，接收人\n",
    "sender='840240xxx@qq.com'\n",
    "pwd='xxxxxxxxxxxxx' #请自行登陆邮箱打开SMTP服务，会自动生成第三方授权码，不是登陆密码！\n",
    "receiver='924348xxx@qq.com'\n",
    "\n",
    "#格式化的署名和接收人信息\n",
    "message=MIMEMultipart()\n",
    "message['From']=_format_addr('这是xx<%s>'%sender)\n",
    "message['To']=_format_addr(receiver)\n",
    "message['Subject']=('我是标题！！')\n",
    "message.attach(MIMEText('<html><body>'\n",
    "                        +'<h1>Hello</h1>'\n",
    "                        +'<p>礼物<img src=\"cid:Imgid\">'\n",
    "                        +'</body></html>','html','utf-8'))\n",
    "\n",
    "#MIMEImage，只要打开相应图片，再用read()方法读入数据，指明src中的代号是多少，如这里是'Imgid’，在HTML格式里就对应输入。\n",
    "with open('d:/documents/pictures/V_mode.jpg','rb') as f:\n",
    "    mime=MIMEImage(f.read())\n",
    "    mime.add_header('Content-ID','Imgid')\n",
    "    message.attach(mime)\n",
    "\n",
    "#发送邮件！\n",
    "try:\n",
    "    smtpobj=smtplib.SMTP_SSL('smtp.qq.com',465)\n",
    "    smtpobj.login(sender,pwd)\n",
    "    smtpobj.sendmail(sender,[receiver],message.as_string())\n",
    "    print('邮件发送成功')\n",
    "    smtpobj.quit()\n",
    "except smtplib.SMTPException as e:\n",
    "    print('邮件发送失败，Case:%s'%e)"
   ]
  }
 ],
 "metadata": {
  "kernelspec": {
   "display_name": "Python 3",
   "language": "python",
   "name": "python3"
  },
  "language_info": {
   "codemirror_mode": {
    "name": "ipython",
    "version": 3
   },
   "file_extension": ".py",
   "mimetype": "text/x-python",
   "name": "python",
   "nbconvert_exporter": "python",
   "pygments_lexer": "ipython3",
   "version": "3.7.3"
  }
 },
 "nbformat": 4,
 "nbformat_minor": 2
}
