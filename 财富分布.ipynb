{
 "cells": [
  {
   "cell_type": "code",
   "execution_count": null,
   "metadata": {},
   "outputs": [],
   "source": [
    "#房间内有100人，每人有100块，每分钟随机给另一个人1块，最后这个房间内的财富分布怎样？\n"
   ]
  },
  {
   "cell_type": "code",
   "execution_count": 17,
   "metadata": {},
   "outputs": [
    {
     "name": "stdout",
     "output_type": "stream",
     "text": [
      "\n",
      "高于初值的财富总值 0 \n",
      "等于初值的财富总值 10000 \n",
      "低于初值的财富总值 0\n"
     ]
    }
   ],
   "source": [
    "import random\n",
    "n=random.randint(0,99)#在100个人中随机选择一位\n",
    "people={}\n",
    "#初始财富分配，每人100元(字典结构)\n",
    "for i in range(0,100):\n",
    "    people[i]=100\n",
    "def assign():  \n",
    "#定义一个分配函数\n",
    "    for num in people.nums():\n",
    "        if people[num]<=0 : #如果财富值为0，不再流出，但是同样可以和其他人有同样的机会获取财富\n",
    "             continue\n",
    "        people[num]=people[num]-1\n",
    "        #每个人自己财富+1的机会相等\n",
    "        people[n]=people[n]+1\n",
    "        print(num,\":\",people[num])\n",
    "avalue,bvalue,cvalue=0,0,0\n",
    "for value in people.values():\n",
    "    if value>100:\n",
    "        avalue=avalue+value\n",
    "    elif value==100:\n",
    "        bvalue=bvalue+value\n",
    "    elif value<100 :\n",
    "        cvalue=cvalue+value   \n",
    "print(\"\\n高于初值的财富总值\",avalue,\"\\n等于初值的财富总值\",bvalue,\"\\n低于初值的财富总值\",cvalue)"
   ]
  },
  {
   "cell_type": "code",
   "execution_count": null,
   "metadata": {},
   "outputs": [],
   "source": []
  }
 ],
 "metadata": {
  "kernelspec": {
   "display_name": "Python 3",
   "language": "python",
   "name": "python3"
  },
  "language_info": {
   "codemirror_mode": {
    "name": "ipython",
    "version": 3
   },
   "file_extension": ".py",
   "mimetype": "text/x-python",
   "name": "python",
   "nbconvert_exporter": "python",
   "pygments_lexer": "ipython3",
   "version": "3.7.3"
  }
 },
 "nbformat": 4,
 "nbformat_minor": 2
}
