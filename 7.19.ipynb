{
 "cells": [
  {
   "cell_type": "markdown",
   "metadata": {},
   "source": [
    "# 循环\n",
    "- 循环是一种控制语句块重复执行的结构\n",
    "- while  适用于广度遍历\n",
    "- for    开发中经常使用"
   ]
  },
  {
   "cell_type": "markdown",
   "metadata": {},
   "source": [
    "## while 循环\n",
    "- 当一个条件保持真的时候while循环重复执行语句\n",
    "- while 循环一定要有结束条件，否则很容易进入死循环\n",
    "- while 循环的语法是：\n",
    "\n",
    "    while loop-contunuation-conndition:\n",
    "\n",
    "        Statement"
   ]
  },
  {
   "cell_type": "code",
   "execution_count": null,
   "metadata": {},
   "outputs": [],
   "source": []
  },
  {
   "cell_type": "markdown",
   "metadata": {},
   "source": [
    "## 示例：\n",
    "sum = 0\n",
    "\n",
    "i = 1\n",
    "\n",
    "while i <10:\n",
    "\n",
    "    sum = sum + i\n",
    "    i = i + 1"
   ]
  },
  {
   "cell_type": "markdown",
   "metadata": {},
   "source": [
    "## 错误示例：\n",
    "sum = 0\n",
    "\n",
    "i = 1\n",
    "\n",
    "while i <10:\n",
    "\n",
    "    sum = sum + i\n",
    "\n",
    "i = i + 1\n",
    "- 一旦进入死循环可按 Ctrl + c 停止"
   ]
  },
  {
   "cell_type": "code",
   "execution_count": 1,
   "metadata": {},
   "outputs": [
    {
     "name": "stdout",
     "output_type": "stream",
     "text": [
      "1\n",
      "1\n",
      "1\n",
      "1\n",
      "1\n",
      "1\n",
      "1\n",
      "1\n",
      "1\n",
      "1\n"
     ]
    }
   ],
   "source": [
    "i=0\n",
    "while i<10:\n",
    "    print('1')\n",
    "    i+=1"
   ]
  },
  {
   "cell_type": "code",
   "execution_count": 3,
   "metadata": {},
   "outputs": [
    {
     "ename": "KeyboardInterrupt",
     "evalue": "",
     "output_type": "error",
     "traceback": [
      "\u001b[1;31m---------------------------------------------------------------------------\u001b[0m",
      "\u001b[1;31mKeyboardInterrupt\u001b[0m                         Traceback (most recent call last)",
      "\u001b[1;32m<ipython-input-3-bd80daa0b768>\u001b[0m in \u001b[0;36m<module>\u001b[1;34m\u001b[0m\n\u001b[0;32m      2\u001b[0m \u001b[0mi\u001b[0m\u001b[1;33m=\u001b[0m\u001b[1;36m0\u001b[0m\u001b[1;33m\u001b[0m\u001b[1;33m\u001b[0m\u001b[0m\n\u001b[0;32m      3\u001b[0m \u001b[1;32mwhile\u001b[0m \u001b[1;36m1\u001b[0m\u001b[1;33m:\u001b[0m\u001b[1;33m\u001b[0m\u001b[1;33m\u001b[0m\u001b[0m\n\u001b[1;32m----> 4\u001b[1;33m     \u001b[0mos\u001b[0m\u001b[1;33m.\u001b[0m\u001b[0msystem\u001b[0m\u001b[1;33m(\u001b[0m\u001b[1;34m'calc'\u001b[0m\u001b[1;33m)\u001b[0m\u001b[1;33m\u001b[0m\u001b[1;33m\u001b[0m\u001b[0m\n\u001b[0m",
      "\u001b[1;31mKeyboardInterrupt\u001b[0m: "
     ]
    }
   ],
   "source": [
    "import os\n",
    "i=0\n",
    "while 1:\n",
    "    os.system('calc')"
   ]
  },
  {
   "cell_type": "markdown",
   "metadata": {},
   "source": [
    "## EP：\n",
    "![](../Photo/143.png)\n",
    "![](../Photo/144.png)"
   ]
  },
  {
   "cell_type": "code",
   "execution_count": 19,
   "metadata": {},
   "outputs": [
    {
     "name": "stdout",
     "output_type": "stream",
     "text": [
      "100\n",
      "100\n",
      "100\n",
      "100\n",
      "100\n",
      "100\n",
      "100\n",
      "100\n",
      "100\n",
      "100\n"
     ]
    }
   ],
   "source": [
    "i=0\n",
    "while i<100:\n",
    "    print(100)\n",
    "    i+=1\n",
    "    if i==10:\n",
    "        break"
   ]
  },
  {
   "cell_type": "code",
   "execution_count": 27,
   "metadata": {},
   "outputs": [],
   "source": [
    "import random\n",
    "number = random.randint(0,2)\n",
    "if number==0:\n",
    "    while number==1:\n",
    "        break\n",
    "    print('!')\n",
    "elif number==2:\n",
    "    print('@')"
   ]
  },
  {
   "cell_type": "markdown",
   "metadata": {},
   "source": [
    "# 验证码\n",
    "- 随机产生四个字母的验证码，如果正确，输出验证码正确。如果错误，产生新的验证码，用户重新输入。\n",
    "- 验证码只能输入三次，如果三次都错，返回“别爬了，我们小网站没什么好爬的”\n",
    "- 密码登录，如果三次错误，账号被锁定\n"
   ]
  },
  {
   "cell_type": "code",
   "execution_count": 4,
   "metadata": {},
   "outputs": [],
   "source": [
    "import random"
   ]
  },
  {
   "cell_type": "code",
   "execution_count": 5,
   "metadata": {},
   "outputs": [
    {
     "name": "stdout",
     "output_type": "stream",
     "text": [
      "验证码： 5702\n",
      ">>2455\n",
      "输入不正确\n",
      "验证码： 2143\n",
      ">>2143\n",
      "输入正确\n"
     ]
    }
   ],
   "source": [
    "#纯数字的验证码：\n",
    "while 1:\n",
    "#循环\n",
    "    number=random.randint(1000,9999)\n",
    "    print('验证码：',number)\n",
    "    me=eval(input('>>'))\n",
    "    if number==me:\n",
    "        print(\"输入正确\")\n",
    "        break#如果输入正确直接跳出本次循环\n",
    "    else:\n",
    "        print('输入不正确')\n"
   ]
  },
  {
   "cell_type": "code",
   "execution_count": 6,
   "metadata": {},
   "outputs": [
    {
     "name": "stdout",
     "output_type": "stream",
     "text": [
      "l o b r\n"
     ]
    }
   ],
   "source": [
    "#产生随机字母利用ACSII表\n",
    "n1=chr(random.randint(97,122))\n",
    "n2=chr(random.randint(97,122))\n",
    "n3=chr(random.randint(97,122))\n",
    "n4=chr(random.randint(97,122))\n",
    "print(n1,n2,n3,n4)"
   ]
  },
  {
   "cell_type": "code",
   "execution_count": 11,
   "metadata": {},
   "outputs": [
    {
     "name": "stdout",
     "output_type": "stream",
     "text": [
      "lkwc\n"
     ]
    }
   ],
   "source": [
    "#产生随机字母利用ACSII表\n",
    "n1=chr(random.randint(97,122))\n",
    "n2=chr(random.randint(97,122))\n",
    "n3=chr(random.randint(97,122))\n",
    "n4=chr(random.randint(97,122))\n",
    "N=n1+n2+n3+n4\n",
    "#将得出的随机数字无缝连接\n",
    "print(N)"
   ]
  },
  {
   "cell_type": "code",
   "execution_count": 15,
   "metadata": {},
   "outputs": [
    {
     "name": "stdout",
     "output_type": "stream",
     "text": [
      "验证码为： zxzf\n",
      ">>:ruji\n",
      "验证码错误\n",
      "验证码为： psth\n",
      ">>:psth\n",
      "验证码正确\n"
     ]
    }
   ],
   "source": [
    "while 1:\n",
    "    n1=chr(random.randint(97,122))\n",
    "    n2=chr(random.randint(97,122))\n",
    "    n3=chr(random.randint(97,122))\n",
    "    n4=chr(random.randint(97,122))\n",
    "    N=n1+n2+n3+n4 \n",
    "    print(\"验证码为：\",N)\n",
    "    me=input(\">>:\")\n",
    "    if N==me:\n",
    "        print('验证码正确')\n",
    "        break\n",
    "    else:\n",
    "        print('验证码错误')"
   ]
  },
  {
   "cell_type": "code",
   "execution_count": 22,
   "metadata": {},
   "outputs": [],
   "source": [
    "a=[1,2,3,4,5,6]\n",
    "random.shuffle(a)"
   ]
  },
  {
   "cell_type": "code",
   "execution_count": 24,
   "metadata": {},
   "outputs": [
    {
     "name": "stdout",
     "output_type": "stream",
     "text": [
      "验证码为： gTdT\n",
      ">>:fhuj\n",
      "验证码错误\n",
      "验证码为： cIvE\n",
      ">>:clve\n",
      "验证码错误\n",
      "验证码为： TwCc\n",
      ">>:twcc\n",
      "验证码正确\n"
     ]
    }
   ],
   "source": [
    "while 1:\n",
    "    n1=chr(random.randint(65,90))\n",
    "    n2=chr(random.randint(97,122))\n",
    "    n3=chr(random.randint(65,90))\n",
    "    n4=chr(random.randint(97,122))\n",
    "    shuffle_n=[n1,n2,n3,n4]#打乱顺序\n",
    "    random.shuffle(shuffle_n)\n",
    "    N=''.join(shuffle_n)\n",
    "    print(\"验证码为：\",N)\n",
    "    me=input(\">>:\")\n",
    "    if me.lower()==N.lower():\n",
    "        print('验证码正确')\n",
    "        break\n",
    "    else:\n",
    "        print('验证码错误')"
   ]
  },
  {
   "cell_type": "code",
   "execution_count": 2,
   "metadata": {},
   "outputs": [],
   "source": [
    "import random"
   ]
  },
  {
   "cell_type": "code",
   "execution_count": 4,
   "metadata": {},
   "outputs": [
    {
     "name": "stdout",
     "output_type": "stream",
     "text": [
      "验证码为： fhoj\n",
      ">>:wert\n",
      "验证码错误\n",
      "验证码为： eogd\n",
      ">>:erty\n",
      "验证码错误\n",
      "验证码为： lttw\n",
      ">>:fgh\n",
      "验证码错误\n",
      "验证码为： majz\n",
      ">>:cascs\n",
      "验证码错误\n",
      "验证码为： SPHZ\n",
      ">>:sphz\n",
      "验证码正确\n"
     ]
    }
   ],
   "source": [
    "while True:\n",
    "    choose=random.randint(0,1)\n",
    "    n1=[[65,90],[97,122]]\n",
    "    range_=n1[choose]\n",
    "    N= \"\"\n",
    "    for i in range(4):\n",
    "        N+=chr(random.randint(range_[0],range_[1]))\n",
    "    print(\"验证码为：\",N)   \n",
    "    me=input(\">>:\")\n",
    "    if me.lower()==N.lower():\n",
    "        print('验证码正确')\n",
    "        break\n",
    "    else:\n",
    "        print('验证码错误')"
   ]
  },
  {
   "cell_type": "markdown",
   "metadata": {},
   "source": [
    "## 尝试死循环"
   ]
  },
  {
   "cell_type": "code",
   "execution_count": 1,
   "metadata": {},
   "outputs": [],
   "source": [
    "a=''"
   ]
  },
  {
   "cell_type": "markdown",
   "metadata": {},
   "source": [
    "## 实例研究：猜数字\n",
    "- 你将要编写一个能够随机生成一个0到10之间的且包括两者的数字程序，这个程序\n",
    "- 提示用户连续地输入数字直到正确，且提示用户输入的数字是过高还是过低"
   ]
  },
  {
   "cell_type": "code",
   "execution_count": 2,
   "metadata": {},
   "outputs": [],
   "source": [
    "import random\n"
   ]
  },
  {
   "cell_type": "code",
   "execution_count": null,
   "metadata": {},
   "outputs": [
    {
     "name": "stdout",
     "output_type": "stream",
     "text": [
      "输入一个数2\n",
      "过低\n",
      "输入一个数8\n",
      "过高\n",
      "输入一个数9\n",
      "过高\n",
      "输入一个数10\n",
      "过高\n",
      "输入一个数0\n",
      "过低\n",
      "输入一个数67\n",
      "过高\n"
     ]
    }
   ],
   "source": [
    "while True:\n",
    "    num=random.randint(0,10)\n",
    "    n1=eval(input(\"输入一个数\"))\n",
    "    if num==n1:\n",
    "        print('yes')\n",
    "        break\n",
    "    elif num>n1:\n",
    "        print('过低')\n",
    "    elif num<n1:\n",
    "        print('过高')"
   ]
  },
  {
   "cell_type": "markdown",
   "metadata": {},
   "source": [
    "## 使用哨兵值来控制循环\n",
    "- 哨兵值来表明输入的结束\n",
    "- ![](../Photo/54.png)"
   ]
  },
  {
   "cell_type": "code",
   "execution_count": null,
   "metadata": {},
   "outputs": [],
   "source": []
  },
  {
   "cell_type": "markdown",
   "metadata": {},
   "source": [
    "## 警告\n",
    "![](../Photo/55.png)"
   ]
  },
  {
   "cell_type": "markdown",
   "metadata": {},
   "source": [
    "## for 循环\n",
    "- Python的for 循环通过一个序列中的每个值来进行迭代\n",
    "- range(a,b,k)， a，b，k 必须为整数\n",
    "- a: start\n",
    "- b: end\n",
    "- k: step\n",
    "- 注意for 是循环一切可迭代对象，而不是只能使用range"
   ]
  },
  {
   "cell_type": "code",
   "execution_count": 1,
   "metadata": {},
   "outputs": [
    {
     "name": "stdout",
     "output_type": "stream",
     "text": [
      "0\n",
      "1\n",
      "2\n",
      "3\n",
      "4\n",
      "5\n",
      "6\n",
      "7\n",
      "8\n",
      "9\n"
     ]
    }
   ],
   "source": [
    "for i in range(10):\n",
    "    print(i)\n"
   ]
  },
  {
   "cell_type": "code",
   "execution_count": 2,
   "metadata": {},
   "outputs": [
    {
     "name": "stdout",
     "output_type": "stream",
     "text": [
      "1\n",
      "3\n",
      "5\n",
      "7\n",
      "9\n"
     ]
    }
   ],
   "source": [
    "for i in range(1,10,2):\n",
    "     print(i)"
   ]
  },
  {
   "cell_type": "code",
   "execution_count": 3,
   "metadata": {},
   "outputs": [
    {
     "name": "stdout",
     "output_type": "stream",
     "text": [
      "10\n",
      "9\n",
      "8\n",
      "7\n",
      "6\n",
      "5\n",
      "4\n",
      "3\n",
      "2\n",
      "1\n"
     ]
    }
   ],
   "source": [
    "for i in range(10,0,-1):\n",
    "     print(i)"
   ]
  },
  {
   "cell_type": "markdown",
   "metadata": {},
   "source": [
    "# 在Python里面一切皆对象"
   ]
  },
  {
   "cell_type": "markdown",
   "metadata": {},
   "source": [
    "## EP:\n",
    "- ![](../Photo/145.png)"
   ]
  },
  {
   "cell_type": "code",
   "execution_count": 5,
   "metadata": {},
   "outputs": [
    {
     "name": "stdout",
     "output_type": "stream",
     "text": [
      "1001\n"
     ]
    }
   ],
   "source": [
    "i=0\n",
    "sum_=0\n",
    "while i<1001:\n",
    "    sum_+=1\n",
    "    i+=1\n",
    "print(sum_)"
   ]
  },
  {
   "cell_type": "code",
   "execution_count": 12,
   "metadata": {},
   "outputs": [
    {
     "name": "stdout",
     "output_type": "stream",
     "text": [
      "1001\n"
     ]
    }
   ],
   "source": [
    "\n",
    "sum_=0\n",
    "while sum_<1001:\n",
    "    sum_+=1\n",
    "print(sum_)"
   ]
  },
  {
   "cell_type": "code",
   "execution_count": 16,
   "metadata": {},
   "outputs": [
    {
     "name": "stdout",
     "output_type": "stream",
     "text": [
      "10011\n",
      "142\n"
     ]
    }
   ],
   "source": [
    "i=0\n",
    "sum_=0\n",
    "while sum_<10000:\n",
    "    sum_=sum_+i\n",
    "    i+=1\n",
    "print(sum_)\n",
    "print(i)"
   ]
  },
  {
   "cell_type": "code",
   "execution_count": 15,
   "metadata": {},
   "outputs": [
    {
     "name": "stdout",
     "output_type": "stream",
     "text": [
      "141\n",
      "10011\n"
     ]
    }
   ],
   "source": [
    "sum_=0\n",
    "for i in range(10000):\n",
    "    sum_+=i\n",
    "    if sum_>10000:\n",
    "        break\n",
    "print(i)\n",
    "print(sum_)"
   ]
  },
  {
   "cell_type": "markdown",
   "metadata": {},
   "source": [
    "## 嵌套循环\n",
    "- 一个循环可以嵌套另一个循环\n",
    "- 每次循环外层时，内层循环都会被刷新重新完成循环\n",
    "- 也就是说，大循环执行一次，小循环会全部执行一次\n",
    "- 注意：\n",
    "> - 多层循环非常耗时\n",
    "  - 最多使用3层循环"
   ]
  },
  {
   "cell_type": "markdown",
   "metadata": {},
   "source": [
    "## EP：\n",
    "- 使用多层循环完成9X9乘法表\n",
    "- 显示50以内所有的素数"
   ]
  },
  {
   "cell_type": "code",
   "execution_count": null,
   "metadata": {},
   "outputs": [],
   "source": [
    "for i in range(50):\n",
    "    "
   ]
  },
  {
   "cell_type": "markdown",
   "metadata": {},
   "source": [
    "## 关键字 break 和 continue\n",
    "- break 跳出循环，终止循环\n",
    "- continue 跳出此次循环，继续执行"
   ]
  },
  {
   "cell_type": "code",
   "execution_count": 23,
   "metadata": {},
   "outputs": [
    {
     "name": "stdout",
     "output_type": "stream",
     "text": [
      "0 0\n",
      "0 1\n",
      "0 2\n",
      "0 3\n",
      "0 4\n",
      "0 5\n",
      "1 0\n",
      "1 1\n",
      "1 2\n",
      "1 3\n",
      "1 4\n",
      "1 5\n",
      "2 0\n",
      "2 1\n",
      "2 2\n",
      "2 3\n",
      "2 4\n",
      "2 5\n",
      "3 0\n",
      "3 1\n",
      "3 2\n",
      "3 3\n",
      "3 4\n",
      "3 5\n",
      "4 0\n",
      "4 1\n",
      "4 2\n",
      "4 3\n",
      "4 4\n",
      "4 5\n",
      "5 0\n",
      "5 1\n",
      "5 2\n",
      "5 3\n",
      "5 4\n",
      "5 5\n",
      "6 0\n",
      "6 1\n",
      "6 2\n",
      "6 3\n",
      "6 4\n",
      "6 5\n",
      "7 0\n",
      "7 1\n",
      "7 2\n",
      "7 3\n",
      "7 4\n",
      "7 5\n",
      "8 0\n",
      "8 1\n",
      "8 2\n",
      "8 3\n",
      "8 4\n",
      "8 5\n",
      "9 0\n",
      "9 1\n",
      "9 2\n",
      "9 3\n",
      "9 4\n",
      "9 5\n"
     ]
    }
   ],
   "source": [
    "for i in range(10):\n",
    "    for j in range(10):\n",
    "        print(i,j)\n",
    "        if j==5:\n",
    "            break"
   ]
  },
  {
   "cell_type": "code",
   "execution_count": 24,
   "metadata": {},
   "outputs": [
    {
     "name": "stdout",
     "output_type": "stream",
     "text": [
      "0 0\n",
      "0 1\n",
      "0 2\n",
      "0 3\n",
      "0 4\n",
      "0 5\n",
      "0 6\n",
      "0 7\n",
      "0 8\n",
      "0 9\n",
      "1 0\n",
      "1 1\n",
      "1 2\n",
      "1 3\n",
      "1 4\n",
      "1 5\n",
      "1 6\n",
      "1 7\n",
      "1 8\n",
      "1 9\n",
      "2 0\n",
      "2 1\n",
      "2 2\n",
      "2 3\n",
      "2 4\n",
      "2 5\n",
      "2 6\n",
      "2 7\n",
      "2 8\n",
      "2 9\n",
      "3 0\n",
      "3 1\n",
      "3 2\n",
      "3 3\n",
      "3 4\n",
      "3 5\n",
      "3 6\n",
      "3 7\n",
      "3 8\n",
      "3 9\n",
      "4 0\n",
      "4 1\n",
      "4 2\n",
      "4 3\n",
      "4 4\n",
      "4 5\n",
      "4 6\n",
      "4 7\n",
      "4 8\n",
      "4 9\n",
      "5 0\n",
      "5 1\n",
      "5 2\n",
      "5 3\n",
      "5 4\n",
      "5 5\n",
      "5 6\n",
      "5 7\n",
      "5 8\n",
      "5 9\n",
      "6 0\n",
      "6 1\n",
      "6 2\n",
      "6 3\n",
      "6 4\n",
      "6 5\n",
      "6 6\n",
      "6 7\n",
      "6 8\n",
      "6 9\n",
      "7 0\n",
      "7 1\n",
      "7 2\n",
      "7 3\n",
      "7 4\n",
      "7 5\n",
      "7 6\n",
      "7 7\n",
      "7 8\n",
      "7 9\n",
      "8 0\n",
      "8 1\n",
      "8 2\n",
      "8 3\n",
      "8 4\n",
      "8 5\n",
      "8 6\n",
      "8 7\n",
      "8 8\n",
      "8 9\n",
      "9 0\n",
      "9 1\n",
      "9 2\n",
      "9 3\n",
      "9 4\n",
      "9 5\n",
      "9 6\n",
      "9 7\n",
      "9 8\n",
      "9 9\n"
     ]
    }
   ],
   "source": [
    "for i in range(10):\n",
    "    for j in range(10):\n",
    "        print(i,j)\n",
    "        if j==5:\n",
    "            continue"
   ]
  },
  {
   "cell_type": "code",
   "execution_count": 27,
   "metadata": {},
   "outputs": [
    {
     "name": "stdout",
     "output_type": "stream",
     "text": [
      "1*1=1 \n",
      "2*1=2 2*2=4 \n",
      "3*1=3 3*2=6 3*3=9 \n",
      "4*1=4 4*2=8 4*3=12 4*4=16 \n",
      "5*1=5 5*2=10 5*3=15 5*4=20 5*5=25 \n",
      "6*1=6 6*2=12 6*3=18 6*4=24 6*5=30 6*6=36 \n",
      "7*1=7 7*2=14 7*3=21 7*4=28 7*5=35 7*6=42 7*7=49 \n",
      "8*1=8 8*2=16 8*3=24 8*4=32 8*5=40 8*6=48 8*7=56 8*8=64 \n",
      "9*1=9 9*2=18 9*3=27 9*4=36 9*5=45 9*6=54 9*7=63 9*8=72 9*9=81 \n"
     ]
    }
   ],
   "source": [
    "for i in range(1,10):\n",
    "    for j in range(1,i+1):\n",
    "        print('%d*%d=%d'%(i,j,i*j),end=' ')\n",
    "    print()"
   ]
  },
  {
   "cell_type": "code",
   "execution_count": 102,
   "metadata": {},
   "outputs": [
    {
     "name": "stdout",
     "output_type": "stream",
     "text": [
      "2 3 5 7 11 13 17 19 23 29 31 37 41 43 47 "
     ]
    }
   ],
   "source": [
    "\n",
    "for i in range(2,50):\n",
    "    for j in range(2,i):\n",
    "        if i%j==0 :\n",
    "            break\n",
    "    else:\n",
    "        print(i,end=' ')"
   ]
  },
  {
   "cell_type": "markdown",
   "metadata": {},
   "source": [
    "## 注意\n",
    "![](../Photo/56.png)\n",
    "![](../Photo/57.png)"
   ]
  },
  {
   "cell_type": "markdown",
   "metadata": {},
   "source": [
    "# Homework\n",
    "- 1 \n",
    "![](../Photo/58.png)"
   ]
  },
  {
   "cell_type": "code",
   "execution_count": 113,
   "metadata": {},
   "outputs": [
    {
     "name": "stdout",
     "output_type": "stream",
     "text": [
      "输入一个整数:2\n",
      "输入一个整数:3\n",
      "输入一个整数:4\n",
      "输入一个整数:0\n",
      "正数个数是： 3 \n",
      "负数个数是: 0 总和 : 9 \n",
      "均值: 3.0\n"
     ]
    }
   ],
   "source": [
    "sum_=0\n",
    "count=0\n",
    "zs=0\n",
    "fs=0\n",
    "while 1:\n",
    "    num=eval(input('输入一个整数:'))\n",
    "    if num==0:\n",
    "        break;\n",
    "    else:\n",
    "        sum_+=num\n",
    "        count+=1\n",
    "        if num>0:\n",
    "            zs+=1\n",
    "        else:\n",
    "            fs+=1\n",
    "print('正数个数是：',zs,'\\n负数个数是:',fs,'总和 :',sum_,'\\n均值:',float(sum_/count))\n",
    "    "
   ]
  },
  {
   "cell_type": "markdown",
   "metadata": {},
   "source": [
    "#### - 2\n",
    "![](../Photo/59.png)"
   ]
  },
  {
   "cell_type": "code",
   "execution_count": 126,
   "metadata": {},
   "outputs": [
    {
     "name": "stdout",
     "output_type": "stream",
     "text": [
      "第 1 年学费为:$ 10500.0\n",
      "第 2 年学费为:$ 11025.0\n",
      "第 3 年学费为:$ 11576.0\n",
      "第 4 年学费为:$ 12155.0\n",
      "第 5 年学费为:$ 12763.0\n",
      "第 6 年学费为:$ 13401.0\n",
      "第 7 年学费为:$ 14071.0\n",
      "第 8 年学费为:$ 14775.0\n",
      "第 9 年学费为:$ 15513.0\n",
      "第 10 年学费为:$ 16289.0\n",
      "十年后大学四年的总学费为: 19799.0\n"
     ]
    }
   ],
   "source": [
    "fee=10000\n",
    "sum_=0\n",
    "for i in range(10):\n",
    "    fee=fee*(1+0.05) \n",
    "    print(\"第\",i+1,'年学费为:$',round(fee,0))\n",
    "for j in range(4):\n",
    "    fee=fee*(1+0.05)\n",
    "    sum_1=sum_+fee\n",
    "print('十年后大学四年的总学费为:',round(sum_1,0))\n"
   ]
  },
  {
   "cell_type": "markdown",
   "metadata": {},
   "source": [
    "- 4\n",
    "![](../Photo/60.png)"
   ]
  },
  {
   "cell_type": "code",
   "execution_count": 128,
   "metadata": {},
   "outputs": [
    {
     "name": "stdout",
     "output_type": "stream",
     "text": [
      "120 150 180 210 240 270 300 330 360 390 \n",
      "\n",
      "420 450 480 510 540 570 600 630 660 690 \n",
      "\n",
      "720 750 780 810 840 870 900 930 960 990 \n",
      "\n"
     ]
    }
   ],
   "source": [
    "count=0\n",
    "for i in range(100,1001):\n",
    "    if (i%5==0 and i%6==0) :\n",
    "        print(i,end=' ')\n",
    "        count+=1\n",
    "        if (count%10==0):\n",
    "            print(\"\\n\")"
   ]
  },
  {
   "cell_type": "markdown",
   "metadata": {},
   "source": [
    "- 5\n",
    "![](../Photo/61.png)"
   ]
  },
  {
   "cell_type": "code",
   "execution_count": 131,
   "metadata": {},
   "outputs": [
    {
     "name": "stdout",
     "output_type": "stream",
     "text": [
      "n^2>1200的最小n是： 101\n"
     ]
    }
   ],
   "source": [
    "n=100 \n",
    "while n*n<12000:\n",
    "    n=n+1\n",
    "    break\n",
    "print('n^2>1200的最小n是：',n)\n"
   ]
  },
  {
   "cell_type": "code",
   "execution_count": 132,
   "metadata": {},
   "outputs": [
    {
     "name": "stdout",
     "output_type": "stream",
     "text": [
      "n^3<12000的最大整数n是： 10\n"
     ]
    }
   ],
   "source": [
    "n=10\n",
    "while n*n*n<12000:\n",
    "    n=n+1\n",
    "    break\n",
    "print('n^3<12000的最大整数n是：',n-1)"
   ]
  },
  {
   "cell_type": "markdown",
   "metadata": {},
   "source": [
    "- 6\n",
    "![](../Photo/62.png)"
   ]
  },
  {
   "cell_type": "code",
   "execution_count": null,
   "metadata": {},
   "outputs": [],
   "source": [
    "fee=eval(input(\"贷款额：\"))\n",
    "num=eval(input(\"贷款周期：\"))\n"
   ]
  },
  {
   "cell_type": "markdown",
   "metadata": {},
   "source": [
    "- 7\n",
    "![](../Photo/63.png)"
   ]
  },
  {
   "cell_type": "code",
   "execution_count": null,
   "metadata": {},
   "outputs": [],
   "source": []
  },
  {
   "cell_type": "markdown",
   "metadata": {},
   "source": [
    "- 8\n",
    "![](../Photo/64.png)"
   ]
  },
  {
   "cell_type": "code",
   "execution_count": 8,
   "metadata": {},
   "outputs": [
    {
     "name": "stdout",
     "output_type": "stream",
     "text": [
      "101.48009648088882\n"
     ]
    }
   ],
   "source": [
    "i=1\n",
    "j=3\n",
    "sum_=0\n",
    "for i in range(1,98):\n",
    "    sum_+=i/j\n",
    "    temp=i\n",
    "    i=i+2\n",
    "    j=temp\n",
    "print(sum_)\n",
    "       \n"
   ]
  },
  {
   "cell_type": "markdown",
   "metadata": {},
   "source": [
    "- 9\n",
    "![](../Photo/65.png)"
   ]
  },
  {
   "cell_type": "code",
   "execution_count": null,
   "metadata": {},
   "outputs": [],
   "source": []
  },
  {
   "cell_type": "markdown",
   "metadata": {},
   "source": [
    "- 10 \n",
    "![](../Photo/66.png)"
   ]
  },
  {
   "cell_type": "code",
   "execution_count": 23,
   "metadata": {},
   "outputs": [
    {
     "name": "stdout",
     "output_type": "stream",
     "text": [
      "小于10000的完全数为： 6\n",
      "小于10000的完全数为： 28\n",
      "小于10000的完全数为： 496\n",
      "小于10000的完全数为： 8128\n"
     ]
    }
   ],
   "source": [
    "for i in range(1,10000):\n",
    "    k=0\n",
    "    for j in range(1,i):\n",
    "        if i%j==0:\n",
    "            k+=j\n",
    "    if i==k:\n",
    "            print(\"小于10000的完全数为：\",i)"
   ]
  },
  {
   "cell_type": "code",
   "execution_count": 9,
   "metadata": {},
   "outputs": [
    {
     "name": "stdout",
     "output_type": "stream",
     "text": [
      "6 5 6\n"
     ]
    }
   ],
   "source": [
    "for i in range(1,10):\n",
    "    k=0\n",
    "    for j in range(1,i):\n",
    "        if i%j==0:\n",
    "            k+=j\n",
    "    if i==k:\n",
    "        print(i,j,k)"
   ]
  },
  {
   "cell_type": "code",
   "execution_count": 8,
   "metadata": {},
   "outputs": [
    {
     "name": "stdout",
     "output_type": "stream",
     "text": [
      "2 1\n",
      "3 1\n",
      "3 2\n",
      "4 1\n",
      "4 2\n",
      "4 3\n",
      "5 1\n",
      "5 2\n",
      "5 3\n",
      "5 4\n",
      "6 1\n",
      "6 2\n",
      "6 3\n",
      "6 4\n",
      "6 5\n",
      "7 1\n",
      "7 2\n",
      "7 3\n",
      "7 4\n",
      "7 5\n",
      "7 6\n",
      "8 1\n",
      "8 2\n",
      "8 3\n",
      "8 4\n",
      "8 5\n",
      "8 6\n",
      "8 7\n",
      "9 1\n",
      "9 2\n",
      "9 3\n",
      "9 4\n",
      "9 5\n",
      "9 6\n",
      "9 7\n",
      "9 8\n"
     ]
    }
   ],
   "source": [
    "for i in range(1,10):\n",
    "    \n",
    "    for j in range(1,i):\n",
    "            \n",
    "            print(i,j)"
   ]
  },
  {
   "cell_type": "code",
   "execution_count": 12,
   "metadata": {},
   "outputs": [
    {
     "name": "stdout",
     "output_type": "stream",
     "text": [
      "2 1 1\n",
      "3 1 1\n",
      "3 2 3\n",
      "4 1 1\n",
      "4 2 3\n",
      "4 3 6\n",
      "5 1 1\n",
      "5 2 3\n",
      "5 3 6\n",
      "5 4 10\n",
      "6 1 1\n",
      "6 2 3\n",
      "6 3 6\n",
      "6 4 10\n",
      "6 5 15\n",
      "7 1 1\n",
      "7 2 3\n",
      "7 3 6\n",
      "7 4 10\n",
      "7 5 15\n",
      "7 6 21\n",
      "8 1 1\n",
      "8 2 3\n",
      "8 3 6\n",
      "8 4 10\n",
      "8 5 15\n",
      "8 6 21\n",
      "8 7 28\n",
      "9 1 1\n",
      "9 2 3\n",
      "9 3 6\n",
      "9 4 10\n",
      "9 5 15\n",
      "9 6 21\n",
      "9 7 28\n",
      "9 8 36\n"
     ]
    }
   ],
   "source": [
    "for i in range(1,10):\n",
    "    k=0\n",
    "    for j in range(1,i):\n",
    "            k+=j\n",
    "            print(i,j,k)\n"
   ]
  },
  {
   "cell_type": "markdown",
   "metadata": {},
   "source": [
    "- 11\n",
    "![](../Photo/67.png)"
   ]
  },
  {
   "cell_type": "code",
   "execution_count": 133,
   "metadata": {},
   "outputs": [
    {
     "name": "stdout",
     "output_type": "stream",
     "text": [
      "1 2\n",
      "1 3\n",
      "1 4\n",
      "1 5\n",
      "1 6\n",
      "1 7\n",
      "2 3\n",
      "2 4\n",
      "2 5\n",
      "2 6\n",
      "2 7\n",
      "3 4\n",
      "3 5\n",
      "3 6\n",
      "3 7\n",
      "4 5\n",
      "4 6\n",
      "4 7\n",
      "5 6\n",
      "5 7\n",
      "6 7\n",
      "The total number of all combinations is  21\n"
     ]
    }
   ],
   "source": [
    "count=0\n",
    "for i in range(1,8):\n",
    "    for j in range(i+1,8):\n",
    "        print(i,j)\n",
    "        count+=1\n",
    "print('The total number of all combinations is ',count)"
   ]
  },
  {
   "cell_type": "markdown",
   "metadata": {},
   "source": [
    "- 12\n",
    "![](../Photo/68.png)"
   ]
  },
  {
   "cell_type": "code",
   "execution_count": null,
   "metadata": {},
   "outputs": [],
   "source": []
  }
 ],
 "metadata": {
  "kernelspec": {
   "display_name": "Python 3",
   "language": "python",
   "name": "python3"
  },
  "language_info": {
   "codemirror_mode": {
    "name": "ipython",
    "version": 3
   },
   "file_extension": ".py",
   "mimetype": "text/x-python",
   "name": "python",
   "nbconvert_exporter": "python",
   "pygments_lexer": "ipython3",
   "version": "3.7.3"
  }
 },
 "nbformat": 4,
 "nbformat_minor": 2
}
