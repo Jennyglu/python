{
 "cells": [
  {
   "cell_type": "code",
   "execution_count": null,
   "metadata": {},
   "outputs": [],
   "source": [
    "Day04 -循环结构"
   ]
  },
  {
   "cell_type": "code",
   "execution_count": null,
   "metadata": {},
   "outputs": [],
   "source": [
    "for-in循环\n",
    "如果明确的知道循环执行的次数或者是要对一个容器进行迭代（后面会讲到），\n",
    "那么我们推荐使用for-in循环，"
   ]
  },
  {
   "cell_type": "code",
   "execution_count": 22,
   "metadata": {},
   "outputs": [
    {
     "name": "stdout",
     "output_type": "stream",
     "text": [
      "5050\n"
     ]
    }
   ],
   "source": [
    "\"\"\"\n",
    "\n",
    "用for循环实现1~100求和\n",
    "\n",
    "\n",
    "\"\"\"\n",
    "sum_=0\n",
    "for i in range(101):\n",
    "    sum_+=i\n",
    "print(sum_)"
   ]
  },
  {
   "cell_type": "code",
   "execution_count": 12,
   "metadata": {},
   "outputs": [
    {
     "name": "stdout",
     "output_type": "stream",
     "text": [
      "0\n",
      "1\n",
      "2\n",
      "3\n",
      "4\n",
      "5\n",
      "6\n"
     ]
    }
   ],
   "source": [
    "for i in range(7):\n",
    "\n",
    "    print(i)\n",
    "     "
   ]
  },
  {
   "cell_type": "code",
   "execution_count": 17,
   "metadata": {},
   "outputs": [
    {
     "name": "stdout",
     "output_type": "stream",
     "text": [
      "1\n",
      "4\n"
     ]
    }
   ],
   "source": [
    "for i in range(1,7,3):#其中3为步长\n",
    "    print(i)"
   ]
  },
  {
   "cell_type": "code",
   "execution_count": 23,
   "metadata": {},
   "outputs": [
    {
     "name": "stdout",
     "output_type": "stream",
     "text": [
      "2550\n"
     ]
    }
   ],
   "source": [
    "\"\"\"\n",
    "用for循环实现1~100之间的偶数求和\n",
    "\n",
    "\"\"\"\n",
    "sum_=0\n",
    "for i in range(2,101,2):\n",
    "    sum_+=i\n",
    "print(sum_)"
   ]
  },
  {
   "cell_type": "code",
   "execution_count": 25,
   "metadata": {},
   "outputs": [
    {
     "name": "stdout",
     "output_type": "stream",
     "text": [
      "2550\n"
     ]
    }
   ],
   "source": [
    "\"\"\"\n",
    "用for循环实现1~100之间的偶数求和\n",
    "\n",
    "\"\"\"\n",
    "sum_=0\n",
    "for i in range(101):\n",
    "    if i%2==0:\n",
    "        sum_+=i\n",
    "print(sum_)"
   ]
  },
  {
   "cell_type": "code",
   "execution_count": null,
   "metadata": {},
   "outputs": [],
   "source": [
    "while循环"
   ]
  },
  {
   "cell_type": "code",
   "execution_count": null,
   "metadata": {},
   "outputs": [],
   "source": [
    "如果要构造不知道具体循环次数的循环结构，\n",
    "我们推荐使用while循环，while循环通过一个能够产生或转换出bool值的表达式来控制循环，\n",
    "表达式的值为True循环继续，表达式的值为False循环结束。"
   ]
  },
  {
   "cell_type": "code",
   "execution_count": null,
   "metadata": {},
   "outputs": [],
   "source": [
    "\"\"\"\n",
    "猜数字游戏\n",
    "计算机出一个1~100之间的随机数由人来猜\n",
    "计算机根据人猜的数字分别给出提示大一点/小一点/猜对了\n",
    "\n",
    "\"\"\""
   ]
  },
  {
   "cell_type": "code",
   "execution_count": 45,
   "metadata": {},
   "outputs": [
    {
     "name": "stdout",
     "output_type": "stream",
     "text": [
      "请输入你猜的数字：34\n",
      "小一点\n",
      "请输入你猜的数字：34\n",
      "小一点\n",
      "请输入你猜的数字：67\n",
      "小一点\n",
      "请输入你猜的数字：12\n",
      "大一点\n",
      "请输入你猜的数字：12\n",
      "大一点\n",
      "没有机会了\n",
      "你一共猜了5次\n"
     ]
    }
   ],
   "source": [
    "import  random\n",
    "a=random.randint(1,101)\n",
    "count1=0\n",
    "while 1:\n",
    "    count1+=1\n",
    "    b=int(input('请输入你猜的数字：'))\n",
    "    if a>b:\n",
    "        print('大一点')\n",
    "    elif a<b:\n",
    "        print('小一点')\n",
    "    else:\n",
    "        print('你猜对了')\n",
    "        break\n",
    "    if count1>4:\n",
    "        print('没有机会了')\n",
    "        break\n",
    "print('你一共猜了%d次'% count1)\n"
   ]
  },
  {
   "cell_type": "code",
   "execution_count": 2,
   "metadata": {},
   "outputs": [
    {
     "name": "stdout",
     "output_type": "stream",
     "text": [
      "1*1=1\t\n",
      "2*1=2\t2*2=4\t\n",
      "3*1=3\t3*2=6\t3*3=9\t\n",
      "4*1=4\t4*2=8\t4*3=12\t4*4=16\t\n",
      "5*1=5\t5*2=10\t5*3=15\t5*4=20\t5*5=25\t\n",
      "6*1=6\t6*2=12\t6*3=18\t6*4=24\t6*5=30\t6*6=36\t\n",
      "7*1=7\t7*2=14\t7*3=21\t7*4=28\t7*5=35\t7*6=42\t7*7=49\t\n",
      "8*1=8\t8*2=16\t8*3=24\t8*4=32\t8*5=40\t8*6=48\t8*7=56\t8*8=64\t\n",
      "9*1=9\t9*2=18\t9*3=27\t9*4=36\t9*5=45\t9*6=54\t9*7=63\t9*8=72\t9*9=81\t\n"
     ]
    }
   ],
   "source": [
    "\"\"\"\n",
    "输出乘法口诀表(九九表)\n",
    "\n",
    "\"\"\"\n",
    "\n",
    "for i in range(1, 10):\n",
    "    for j in range(1, i + 1):\n",
    "        print('%d*%d=%d' % (i, j, i * j), end='\\t')\n",
    "        #\\t为制表符\n",
    "    print()"
   ]
  },
  {
   "cell_type": "code",
   "execution_count": 18,
   "metadata": {},
   "outputs": [
    {
     "name": "stdout",
     "output_type": "stream",
     "text": [
      "请输入一个数:2\n",
      "2不是素数\n"
     ]
    }
   ],
   "source": [
    "\"\"\"\n",
    "练习1：输入一个数判断是不是素数。\n",
    "判断素数的方法：用一个数分别去除2到sqrt这个数，如果能被整除，则表明此数不是素数，反之是素数。\n",
    "\"\"\"\n",
    "import math\n",
    "num=int(input('请输入一个数:'))\n",
    "num1=int(math.sqrt(num))\n",
    "for x in range(2,num1 + 1):\n",
    "    if num%x==0:\n",
    "        break\n",
    "if num!=1:\n",
    "    print('%d不是素数' % num)\n",
    "else:  \n",
    "    print('%d是素数' % num)"
   ]
  },
  {
   "cell_type": "code",
   "execution_count": 9,
   "metadata": {
    "collapsed": true
   },
   "outputs": [
    {
     "name": "stdout",
     "output_type": "stream",
     "text": [
      "101\n",
      "102\n",
      "103\n",
      "104\n",
      "105\n",
      "106\n",
      "107\n",
      "108\n",
      "109\n",
      "110\n",
      "111\n",
      "112\n",
      "113\n",
      "114\n",
      "115\n",
      "116\n",
      "117\n",
      "118\n",
      "119\n",
      "120\n",
      "121\n",
      "122\n",
      "123\n",
      "124\n",
      "125\n",
      "126\n",
      "127\n",
      "128\n",
      "129\n",
      "130\n",
      "131\n",
      "132\n",
      "133\n",
      "134\n",
      "135\n",
      "136\n",
      "137\n",
      "138\n",
      "139\n",
      "140\n",
      "141\n",
      "142\n",
      "143\n",
      "144\n",
      "145\n",
      "146\n",
      "147\n",
      "148\n",
      "149\n",
      "150\n",
      "151\n",
      "152\n",
      "153\n",
      "154\n",
      "155\n",
      "156\n",
      "157\n",
      "158\n",
      "159\n",
      "160\n",
      "161\n",
      "162\n",
      "163\n",
      "164\n",
      "165\n",
      "166\n",
      "167\n",
      "168\n",
      "169\n",
      "170\n",
      "171\n",
      "172\n",
      "173\n",
      "174\n",
      "175\n",
      "176\n",
      "177\n",
      "178\n",
      "179\n",
      "180\n",
      "181\n",
      "182\n",
      "183\n",
      "184\n",
      "185\n",
      "186\n",
      "187\n",
      "188\n",
      "189\n",
      "190\n",
      "191\n",
      "192\n",
      "193\n",
      "194\n",
      "195\n",
      "196\n",
      "197\n",
      "198\n",
      "199\n"
     ]
    }
   ],
   "source": [
    "\"\"\"\n",
    "输出1到100之间的素数\n",
    "要求：以每行5个打印出来\n",
    "\n",
    "\"\"\"\n",
    "import math\n",
    "n=0\n",
    "for i in range(101,200):\n",
    "    k=int(math.sqrt(i))\n",
    "    for j in range(2,k+1):\n",
    "        if i%j==0 :\n",
    "            break\n",
    "    if i!=1:\n",
    "        print(i)\n",
    "\n",
    "            \n",
    "\n",
    "\n",
    "\n"
   ]
  },
  {
   "cell_type": "code",
   "execution_count": 17,
   "metadata": {},
   "outputs": [
    {
     "name": "stdout",
     "output_type": "stream",
     "text": [
      "输入第一个数字: 15\n",
      "输入第二个数字: 25\n",
      "最大公约数为 5\n",
      "最小公倍数： 25.0\n"
     ]
    }
   ],
   "source": [
    "\"\"\"\n",
    "\n",
    "练习2：输入两个正整数，计算最大公约数和最小公倍数。\n",
    "（1）最小公倍数=输入的俩个数之积除以他们的最大公约数\n",
    "（2）求最大公约数用辗转相除法（欧几里德算法）\n",
    "\n",
    "\"\"\"\n",
    "x= int(input(\"输入第一个数字: \"))\n",
    "y= int(input(\"输入第二个数字: \"))\n",
    "a=[]\n",
    "if x > y:\n",
    "    small = y\n",
    "else:\n",
    "    small = x\n",
    "for i in range(1,small + 1):\n",
    "    \n",
    "    if x % i == 0 and y % i == 0:\n",
    "        a.append(i)\n",
    "    \n",
    "print('最大公约数为',max(a))\n",
    "              \n",
    "print( '最小公倍数：',(x*y)/i)\n",
    "\n"
   ]
  },
  {
   "cell_type": "code",
   "execution_count": 3,
   "metadata": {},
   "outputs": [
    {
     "name": "stdout",
     "output_type": "stream",
     "text": [
      "请输入行数: 5\n",
      "* \n",
      "* * \n",
      "* * * \n",
      "* * * * \n",
      "* * * * * \n"
     ]
    }
   ],
   "source": [
    "\"\"\"\n",
    "\n",
    "练习3：打印三角形图案。\n",
    "#i表示第几行，j表示i行里的每个元素做怎么样的处理\n",
    "\"\"\"\n",
    "row = int(input('请输入行数: '))\n",
    "for i in range(row):\n",
    "    for j in range(i + 1):\n",
    "        print('*', end=' ')\n",
    "    print()"
   ]
  },
  {
   "cell_type": "code",
   "execution_count": 38,
   "metadata": {},
   "outputs": [
    {
     "name": "stdout",
     "output_type": "stream",
     "text": [
      "          * \n",
      "        * * \n",
      "      * * * \n",
      "    * * * * \n",
      "  * * * * * \n",
      "* * * * * * \n"
     ]
    }
   ],
   "source": [
    "\"\"\"\n",
    "\n",
    "练习3：打印三角形图案。\n",
    "\n",
    "\"\"\"\n",
    "for i in range(6):\n",
    "    for j in range(6):\n",
    "        if j < 6-i-1:\n",
    "            print(' ', end=' ')\n",
    "        else:\n",
    "            print('*', end=' ')\n",
    "    print()"
   ]
  },
  {
   "cell_type": "code",
   "execution_count": 34,
   "metadata": {},
   "outputs": [
    {
     "name": "stdout",
     "output_type": "stream",
     "text": [
      "    *\n",
      "   ***\n",
      "  *****\n",
      " *******\n",
      "*********\n",
      " *******\n",
      "  *****\n",
      "   ***\n",
      "    *\n"
     ]
    }
   ],
   "source": [
    "\"\"\"\n",
    "平行四边形\n",
    "\"\"\"\n",
    "for i in range(5):\n",
    "    for _ in range(5 - i - 1):\n",
    "        print(' ', end='')\n",
    "    for _ in range(2 * i + 1):\n",
    "        print('*', end='')\n",
    "    print()\n",
    "for j in range(4,0,-1):\n",
    "    for _ in range(5-j):\n",
    "        print(' ', end='')\n",
    "    for _ in range(2 * j-1 ):\n",
    "        print('*', end='')\n",
    "    print()"
   ]
  },
  {
   "cell_type": "code",
   "execution_count": 9,
   "metadata": {},
   "outputs": [
    {
     "name": "stdout",
     "output_type": "stream",
     "text": [
      "    *\n",
      "   ***\n",
      "  *****\n",
      " *******\n",
      "*********\n"
     ]
    }
   ],
   "source": [
    "for i in range(row):\n",
    "    for _ in range(row - i - 1):\n",
    "        print(' ', end='')\n",
    "    for _ in range(2 * i + 1):\n",
    "        print('*', end='')\n",
    "    print()"
   ]
  },
  {
   "cell_type": "code",
   "execution_count": 21,
   "metadata": {},
   "outputs": [
    {
     "name": "stdout",
     "output_type": "stream",
     "text": [
      "*\n",
      "**\n",
      "* *\n",
      "*  *\n",
      "*****\n"
     ]
    }
   ],
   "source": [
    "for i in range(0,5):\n",
    "    for j in range(i+1):\n",
    "        if i==4:\n",
    "            print('*',end='')\n",
    "            continue\n",
    "        if j==0 or j==i:\n",
    "            print('*',end='')\n",
    "        else:\n",
    "            print(' ',end='')\n",
    "    print()"
   ]
  },
  {
   "cell_type": "code",
   "execution_count": 4,
   "metadata": {},
   "outputs": [
    {
     "name": "stdout",
     "output_type": "stream",
     "text": [
      "******\n",
      " *    *\n",
      "  *    *\n",
      "   ******\n"
     ]
    }
   ],
   "source": [
    "\"\"\"\n",
    "平行四边形\n",
    "\"\"\"\n",
    "for i in range(0,7):\n",
    "    if i == 0 :\n",
    "        print('*'*6)\n",
    "    if i == 1 :\n",
    "        print(' '+'*'+' '*3 + ' '+'*')\n",
    "    if i == 2 :\n",
    "        print(' '*2+'*'+' '*3+' '+'*')\n",
    "    if i == 3 :\n",
    "        print(' '*3+'*'*6)"
   ]
  },
  {
   "cell_type": "code",
   "execution_count": null,
   "metadata": {},
   "outputs": [],
   "source": []
  },
  {
   "cell_type": "code",
   "execution_count": null,
   "metadata": {},
   "outputs": [],
   "source": []
  },
  {
   "cell_type": "code",
   "execution_count": null,
   "metadata": {},
   "outputs": [],
   "source": []
  }
 ],
 "metadata": {
  "kernelspec": {
   "display_name": "Python 3",
   "language": "python",
   "name": "python3"
  },
  "language_info": {
   "codemirror_mode": {
    "name": "ipython",
    "version": 3
   },
   "file_extension": ".py",
   "mimetype": "text/x-python",
   "name": "python",
   "nbconvert_exporter": "python",
   "pygments_lexer": "ipython3",
   "version": "3.7.3"
  }
 },
 "nbformat": 4,
 "nbformat_minor": 2
}
