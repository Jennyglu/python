{
 "cells": [
  {
   "cell_type": "code",
   "execution_count": 6,
   "metadata": {},
   "outputs": [
    {
     "name": "stdout",
     "output_type": "stream",
     "text": [
      "请输入华氏温度: 34\n",
      "34.00 华氏度 = 1.1 摄氏度\n"
     ]
    }
   ],
   "source": [
    "#将华氏温度转换为摄氏温度\n",
    "#F = 1.8C + 32\n",
    "f = float(input('请输入华氏温度: '))\n",
    "c = (f - 32) / 1.8\n",
    "print('%.2f 华氏度 = %.1f 摄氏度' % (f, c))#%是占位符后面跟的是占位符所占的内容\n",
    "#f是华氏度，c是摄氏度\n",
    "#%.1（几位数）f  代表了一个占位符，这个占位符的意思是这里是一个浮点型且保留几位小数的意思。"
   ]
  },
  {
   "cell_type": "code",
   "execution_count": null,
   "metadata": {},
   "outputs": [],
   "source": []
  },
  {
   "cell_type": "code",
   "execution_count": 2,
   "metadata": {},
   "outputs": [
    {
     "name": "stdout",
     "output_type": "stream",
     "text": [
      "请输入圆的半径: 2\n",
      "周长: 12.57\n",
      "面积: 12.57\n"
     ]
    }
   ],
   "source": [
    "#输入半径计算圆的周长和面积\n",
    "import math\n",
    "#导入math模块\n",
    "radius = float(input('请输入圆的半径: '))\n",
    "perimeter = 2 * math.pi * radius\n",
    "area = math.pi * radius * radius\n",
    "print('周长: %.2f' % perimeter)\n",
    "print('面积: %.2f' % area)\n",
    "#采用占位符的形式输出"
   ]
  },
  {
   "cell_type": "code",
   "execution_count": 9,
   "metadata": {},
   "outputs": [
    {
     "name": "stdout",
     "output_type": "stream",
     "text": [
      "请输入圆的半径: 12\n",
      "周长:  75.4\n",
      "面积:  452.39\n"
     ]
    }
   ],
   "source": [
    "#输入半径计算圆的周长和面积\n",
    "import math\n",
    "#导入math模块\n",
    "radius = float(input('请输入圆的半径: '))\n",
    "perimeter = 2 * math.pi * radius\n",
    "area = math.pi * radius * radius\n",
    "print('周长: ',round(perimeter,2))\n",
    "print('面积: ' ,round(area,2))"
   ]
  },
  {
   "cell_type": "code",
   "execution_count": 3,
   "metadata": {},
   "outputs": [
    {
     "name": "stdout",
     "output_type": "stream",
     "text": [
      "请输入年份: 2000\n",
      "True\n"
     ]
    }
   ],
   "source": [
    "#输入年份 如果是闰年输出True 否则输出False\n",
    "\n",
    "year = int(input('请输入年份: '))\n",
    "# 如果代码太长写成一行不便于阅读 可以使用\\或()折行\n",
    "is_leap = (year % 4 == 0 and year % 100 != 0 or\n",
    "           year % 400 == 0)\n",
    "print(is_leap)\n",
    "#直接返回的是布尔值。"
   ]
  },
  {
   "cell_type": "code",
   "execution_count": 12,
   "metadata": {},
   "outputs": [
    {
     "name": "stdout",
     "output_type": "stream",
     "text": [
      "请输入年份：2000\n",
      "是闰年\n"
     ]
    }
   ],
   "source": [
    "year=int(input('请输入年份：'))\n",
    "if year%4==0 and year%100!=0 or year%400==0:\n",
    "    print('是闰年')\n",
    "else:\n",
    "    print('不是闰年')"
   ]
  },
  {
   "cell_type": "code",
   "execution_count": null,
   "metadata": {},
   "outputs": [],
   "source": [
    "#使用input函数输入\n",
    "#使用int()进行类型转换\n",
    "#用占位符格式化输出的字符串\n",
    "\n",
    "\n",
    "a = int(input('a = '))\n",
    "b = int(input('b = '))\n",
    "print('%d + %d = %d' % (a, b, a + b))\n",
    "print('%d - %d = %d' % (a, b, a - b))\n",
    "print('%d * %d = %d' % (a, b, a * b))\n",
    "print('%d / %d = %f' % (a, b, a / b))\n",
    "print('%d // %d = %d' % (a, b, a // b))\n",
    "print('%d %% %d = %d' % (a, b, a % b))#%%后一个%是转义字符\n",
    "print('%d ** %d = %d' % (a, b, a ** b))\n"
   ]
  },
  {
   "cell_type": "code",
   "execution_count": 13,
   "metadata": {},
   "outputs": [
    {
     "name": "stdout",
     "output_type": "stream",
     "text": [
      "<class 'int'>\n",
      "<class 'float'>\n",
      "<class 'complex'>\n",
      "<class 'str'>\n",
      "<class 'bool'>\n"
     ]
    }
   ],
   "source": [
    "a = 100\n",
    "b = 12.345\n",
    "c = 1 + 5j\n",
    "d = 'hello, world'\n",
    "e = True\n",
    "print(type(a))\n",
    "print(type(b))\n",
    "print(type(c))\n",
    "print(type(d))\n",
    "print(type(e))\n",
    "#查看类型的函数"
   ]
  },
  {
   "cell_type": "code",
   "execution_count": 14,
   "metadata": {},
   "outputs": [
    {
     "name": "stdout",
     "output_type": "stream",
     "text": [
      "a =  9.6\n",
      "flag1 =  True\n",
      "flag2 =  False\n",
      "flag3 =  False\n",
      "flag4 =  True\n",
      "flag5 =  False\n",
      "True\n",
      "False\n"
     ]
    }
   ],
   "source": [
    "#运算符的使用 \n",
    "a = 5\n",
    "b = 10\n",
    "c = 3\n",
    "d = 4\n",
    "e = 5\n",
    "a += b\n",
    "a -= c\n",
    "a *= d\n",
    "a /= e\n",
    "print(\"a = \", a)\n",
    "\n",
    "flag1 = 3 > 2\n",
    "flag2 = 2 < 1\n",
    "flag3 = flag1 and flag2\n",
    "flag4 = flag1 or flag2\n",
    "flag5 = not flag1\n",
    "print(\"flag1 = \", flag1)\n",
    "print(\"flag2 = \", flag2)\n",
    "print(\"flag3 = \", flag3)\n",
    "print(\"flag4 = \", flag4)\n",
    "print(\"flag5 = \", flag5)\n",
    "print(flag1 is True)\n",
    "print(flag2 is not False)"
   ]
  },
  {
   "cell_type": "code",
   "execution_count": null,
   "metadata": {},
   "outputs": [],
   "source": []
  }
 ],
 "metadata": {
  "kernelspec": {
   "display_name": "Python 3",
   "language": "python",
   "name": "python3"
  },
  "language_info": {
   "codemirror_mode": {
    "name": "ipython",
    "version": 3
   },
   "file_extension": ".py",
   "mimetype": "text/x-python",
   "name": "python",
   "nbconvert_exporter": "python",
   "pygments_lexer": "ipython3",
   "version": "3.7.3"
  }
 },
 "nbformat": 4,
 "nbformat_minor": 2
}
