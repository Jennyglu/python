{
 "cells": [
  {
   "cell_type": "code",
   "execution_count": 2,
   "metadata": {},
   "outputs": [],
   "source": [
    "import random"
   ]
  },
  {
   "cell_type": "code",
   "execution_count": 8,
   "metadata": {
    "scrolled": true
   },
   "outputs": [
    {
     "name": "stdout",
     "output_type": "stream",
     "text": [
      "0.7612254586818362\n"
     ]
    }
   ],
   "source": [
    "#生成某一范围（0-1）内的随机小数\n",
    "print(random.random())"
   ]
  },
  {
   "cell_type": "code",
   "execution_count": null,
   "metadata": {},
   "outputs": [],
   "source": [
    "#randint也是random中的一个"
   ]
  },
  {
   "cell_type": "code",
   "execution_count": 5,
   "metadata": {},
   "outputs": [
    {
     "name": "stdout",
     "output_type": "stream",
     "text": [
      "87\n"
     ]
    }
   ],
   "source": [
    "#生成指定范围内的随机整数\n",
    "a=random.randint(0,100)\n",
    "print(a)"
   ]
  },
  {
   "cell_type": "code",
   "execution_count": 23,
   "metadata": {},
   "outputs": [
    {
     "name": "stdout",
     "output_type": "stream",
     "text": [
      "86749895605999\n"
     ]
    }
   ],
   "source": [
    "import random              #导入模块\n",
    "def my_randint(a,b):\n",
    "#     下面这一行代码中round()方法是返回浮点数x的四舍五入值\n",
    "#   　首先将random得到的0-1之间的小数乘以给定区间的插值，再加上给定区间的起始值，得到的是规定区间的浮点数，再用round函数四舍五入取整即可\n",
    "#     a = round(random.random()*(b-a)+a)\n",
    "#  　下面这一行代码里面的功能和上面一样，就是将round函数换成了int函数，相对来说没有round函数对每一个小数那么平等，但是也能实现任意区间相对随机生成一个整数\n",
    "#     a = int(random.random()*(b-a)+a)\n",
    "# 下面这两行代码：是将产生的规定区间小数转换成字符串，然后用split()函数按照小数点进行切割，生成列表,列表下标为0的部分是整数部分，下表为1的部分是小数部分\n",
    "    a = (random.random()*(b-a)+a)\n",
    "    a = str(a).split(\".\")\n",
    "    #只需要返回列表下标为0的元素即可\n",
    "    return int(a[1])\n",
    "#    转换成字符串只是换了一种处理浮点数到整数的一种思路而已，并不是唯一且高效的方法\n",
    "print(my_randint(99,158))"
   ]
  },
  {
   "cell_type": "code",
   "execution_count": 31,
   "metadata": {},
   "outputs": [
    {
     "name": "stdout",
     "output_type": "stream",
     "text": [
      "34567\n"
     ]
    }
   ],
   "source": [
    "#分离整数部位和小数部位\n",
    "a=12.34567\n",
    "a=str(a).split(\".\")#转化成字符串以小数点分离,生成列表。\n",
    "print(int(a[1]))#利用索引（下标）来分别查看整数部位和小数部位"
   ]
  },
  {
   "cell_type": "code",
   "execution_count": 33,
   "metadata": {},
   "outputs": [
    {
     "name": "stdout",
     "output_type": "stream",
     "text": [
      "76153745976822\n"
     ]
    }
   ],
   "source": [
    "#随机产生浮点数\n",
    "import random              \n",
    "def my_randint(a,b):\n",
    "    a = (random.random()*(b-a)+a)\n",
    "    a = str(a).split(\".\")\n",
    "    return int(a[1])\n",
    "print(my_randint(99,198))"
   ]
  },
  {
   "cell_type": "code",
   "execution_count": null,
   "metadata": {},
   "outputs": [],
   "source": [
    "#randrange() 函数"
   ]
  },
  {
   "cell_type": "code",
   "execution_count": null,
   "metadata": {},
   "outputs": [],
   "source": [
    "randrange() 方法返回指定递增基数集合中的一个随机数，基数缺省值为1"
   ]
  },
  {
   "cell_type": "code",
   "execution_count": null,
   "metadata": {},
   "outputs": [],
   "source": [
    "#语法\n",
    "import random\n",
    "random.randrange ([start,] stop [,step])\n",
    "#注意：randrange()是不能直接访问的，需要导入 random 模块，\n",
    "#然后通过 random 静态对象调用该方法。\n",
    "\n",
    "参数\n",
    "start -- 指定范围内的开始值，包含在范围内。 \n",
    "stop -- 指定范围内的结束值，不包含在范围内。 \n",
    "step -- 指定递增基数。 \n",
    "\n",
    "#返回值\n",
    "从给定的范围返回随机项。 "
   ]
  },
  {
   "cell_type": "code",
   "execution_count": 22,
   "metadata": {},
   "outputs": [
    {
     "name": "stdout",
     "output_type": "stream",
     "text": [
      "randrange(100, 1000, 2) :  680\n",
      "randrange(100, 1000, 3) :  637\n"
     ]
    }
   ],
   "source": [
    "import random\n",
    "\n",
    "# 输出 100 <= number < 1000 间的偶数\n",
    "print (\"randrange(100, 1000, 2) : \", random.randrange(100, 1000, 2))\n",
    "\n",
    "# 输出 100 <= number < 1000 间的其他数\n",
    "print (\"randrange(100, 1000, 3) : \", random.randrange(100, 1000,3))"
   ]
  }
 ],
 "metadata": {
  "kernelspec": {
   "display_name": "Python 3",
   "language": "python",
   "name": "python3"
  },
  "language_info": {
   "codemirror_mode": {
    "name": "ipython",
    "version": 3
   },
   "file_extension": ".py",
   "mimetype": "text/x-python",
   "name": "python",
   "nbconvert_exporter": "python",
   "pygments_lexer": "ipython3",
   "version": "3.7.3"
  }
 },
 "nbformat": 4,
 "nbformat_minor": 2
}
