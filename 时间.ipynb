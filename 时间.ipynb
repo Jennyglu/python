{
 "cells": [
  {
   "cell_type": "code",
   "execution_count": null,
   "metadata": {},
   "outputs": [],
   "source": [
    "Time   时间模块\n",
    "#要使用一个模块，首先要把模块导进来\n"
   ]
  },
  {
   "cell_type": "code",
   "execution_count": 5,
   "metadata": {},
   "outputs": [
    {
     "name": "stdout",
     "output_type": "stream",
     "text": [
      "开始\n",
      "结束\n"
     ]
    }
   ],
   "source": [
    "import time\n",
    "print(\"开始\")\n",
    "time.sleep(1)#从开始到结束，中间会停留5秒，sleep后面的括号里面填的数字就是秒数\n",
    "print(\"结束\")"
   ]
  },
  {
   "cell_type": "code",
   "execution_count": 6,
   "metadata": {},
   "outputs": [
    {
     "name": "stdout",
     "output_type": "stream",
     "text": [
      "1559482424.7271721\n"
     ]
    }
   ],
   "source": [
    "#--time：获取时间戳\n",
    "import time\n",
    "t = time.time()\n",
    "print(t)\n",
    "#这段代码是获取时间戳(从1970-01-01 00:00:00到你输入代码运行时的秒数)"
   ]
  },
  {
   "cell_type": "code",
   "execution_count": 9,
   "metadata": {},
   "outputs": [
    {
     "name": "stdout",
     "output_type": "stream",
     "text": [
      "time.struct_time(tm_year=2019, tm_mon=6, tm_mday=2, tm_hour=21, tm_min=35, tm_sec=46, tm_wday=6, tm_yday=153, tm_isdst=0)\n",
      "2019\n",
      "35\n"
     ]
    }
   ],
   "source": [
    "#--localtime：将时间戳转换为对象\n",
    "\n",
    "import time\n",
    "local_time = time.localtime()\n",
    "print(local_time)\n",
    "#会打印出此时此刻的年月日时分秒\n",
    "print(local_time.tm_year)\n",
    "#指定输出对应的年份\n",
    "print(local_time[4])\n",
    "#也可以指定下标输出年份"
   ]
  },
  {
   "cell_type": "code",
   "execution_count": 10,
   "metadata": {},
   "outputs": [
    {
     "name": "stdout",
     "output_type": "stream",
     "text": [
      "1559482810.0\n"
     ]
    }
   ],
   "source": [
    "#mktime：根据年月日等信息转换为时间戳\n",
    "import time\n",
    "new_time = time.mktime((2019, 6, 2, 21, 40, 10, 2, 190, 0))#年，月，日，时，分，秒\n",
    "#上面括号里面是填写自定义的时间，要写够9个数字\n",
    "print(new_time)\n",
    "#输出的时1970-01-01 00:00:00到自定义时间的秒数"
   ]
  },
  {
   "cell_type": "code",
   "execution_count": 11,
   "metadata": {},
   "outputs": [
    {
     "name": "stdout",
     "output_type": "stream",
     "text": [
      "time.struct_time(tm_year=2019, tm_mon=6, tm_mday=2, tm_hour=13, tm_min=41, tm_sec=16, tm_wday=6, tm_yday=153, tm_isdst=0)\n"
     ]
    }
   ],
   "source": [
    "#gmtime：功能同localtime\n",
    "import time\n",
    "gt = time.gmtime()\n",
    "print(gt)\n",
    "#输出当前时间的年月日时分秒"
   ]
  },
  {
   "cell_type": "code",
   "execution_count": 12,
   "metadata": {},
   "outputs": [
    {
     "name": "stdout",
     "output_type": "stream",
     "text": [
      "-8.0\n"
     ]
    }
   ],
   "source": [
    "#timezone：0时区到你所在的时区的相差秒数（/3600 = 小时）\n",
    "import time\n",
    "print(time.timezone/3600)\n",
    "#我所在的是东8区，所以输出的是-8.0"
   ]
  },
  {
   "cell_type": "code",
   "execution_count": 15,
   "metadata": {},
   "outputs": [
    {
     "name": "stdout",
     "output_type": "stream",
     "text": [
      "2019-06-02 21:44:52 21\n",
      "06/02/19\n",
      "Sun Jun  2 21:44:52 2019\n"
     ]
    }
   ],
   "source": [
    "#strftime：将time.struct_time对象格式化显示\n",
    "\n",
    "import time\n",
    "local_time = time.localtime()\n",
    "# 格式化显示\n",
    "print(time.strftime('%Y-%m-%d %H:%M:%S %W', local_time))\n",
    "#规定输出的格式\n",
    "\n",
    "print(time.strftime('%D', local_time))\n",
    "#\\D是一种特定的显示格式 月/日/年\n",
    "\n",
    "#%Y：年(4位), %y：年(2位), %m：月, %d：日, %D：月/日/年, %H：时\n",
    "#%M：分, %S：秒, %w：星期(1~7), %W：本周是今年的第几周\n",
    "# 特定的显示格式\n",
    "print(time.asctime())\n",
    "#格式输出当前的时间"
   ]
  },
  {
   "cell_type": "code",
   "execution_count": null,
   "metadata": {},
   "outputs": [],
   "source": [
    "# 特定的显示格式\n",
    "%Y：年(4位), %y：年(2位), %m：月, %d：日, %D：月/日/年, %H：时\n",
    "%M：分, %S：秒, %w：星期(1~7), %W：本周是今年的第几周\n",
    "特定的显示格式"
   ]
  }
 ],
 "metadata": {
  "kernelspec": {
   "display_name": "Python 3",
   "language": "python",
   "name": "python3"
  },
  "language_info": {
   "codemirror_mode": {
    "name": "ipython",
    "version": 3
   },
   "file_extension": ".py",
   "mimetype": "text/x-python",
   "name": "python",
   "nbconvert_exporter": "python",
   "pygments_lexer": "ipython3",
   "version": "3.7.3"
  }
 },
 "nbformat": 4,
 "nbformat_minor": 2
}
