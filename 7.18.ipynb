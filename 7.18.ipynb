{
 "cells": [
  {
   "cell_type": "markdown",
   "metadata": {},
   "source": [
    "# 选择\n",
    "## 布尔类型、数值和表达式\n",
    "![](../Photo/33.png)\n",
    "- 注意：比较运算符的相等是两个等号，一个等到代表赋值\n",
    "- 在Python中可以用整型0来代表False，其他数字来代表True\n",
    "- 后面还会讲到 is 在判断语句中的用发"
   ]
  },
  {
   "cell_type": "code",
   "execution_count": 1,
   "metadata": {},
   "outputs": [
    {
     "data": {
      "text/plain": [
       "False"
      ]
     },
     "execution_count": 1,
     "metadata": {},
     "output_type": "execute_result"
    }
   ],
   "source": [
    "1>2\n"
   ]
  },
  {
   "cell_type": "code",
   "execution_count": 2,
   "metadata": {},
   "outputs": [
    {
     "data": {
      "text/plain": [
       "True"
      ]
     },
     "execution_count": 2,
     "metadata": {},
     "output_type": "execute_result"
    }
   ],
   "source": [
    "bool('ka ')#布尔类型false  true"
   ]
  },
  {
   "cell_type": "code",
   "execution_count": null,
   "metadata": {},
   "outputs": [],
   "source": [
    "#while true  与 while 1 相等"
   ]
  },
  {
   "cell_type": "code",
   "execution_count": 3,
   "metadata": {},
   "outputs": [
    {
     "name": "stdout",
     "output_type": "stream",
     "text": [
      "140727421932352 140727421932352\n"
     ]
    }
   ],
   "source": [
    "a = id(1)\n",
    "b= id (1)\n",
    "#因为a和b不是同一个对象\n",
    "print(a,b)"
   ]
  },
  {
   "cell_type": "code",
   "execution_count": 4,
   "metadata": {},
   "outputs": [
    {
     "data": {
      "text/plain": [
       "False"
      ]
     },
     "execution_count": 4,
     "metadata": {},
     "output_type": "execute_result"
    }
   ],
   "source": [
    " 1=='1'"
   ]
  },
  {
   "cell_type": "code",
   "execution_count": 5,
   "metadata": {},
   "outputs": [
    {
     "data": {
      "text/plain": [
       "True"
      ]
     },
     "execution_count": 5,
     "metadata": {},
     "output_type": "execute_result"
    }
   ],
   "source": [
    "1<=2<=3#python可写"
   ]
  },
  {
   "cell_type": "markdown",
   "metadata": {},
   "source": [
    "## 字符串的比较使用ASCII值"
   ]
  },
  {
   "cell_type": "markdown",
   "metadata": {},
   "source": [
    "## Markdown \n",
    "- https://github.com/younghz/Markdown"
   ]
  },
  {
   "cell_type": "markdown",
   "metadata": {},
   "source": [
    "## EP:\n",
    "- <img src=\"../Photo/34.png\"></img>\n",
    "- 输入一个数字，判断其实奇数还是偶数"
   ]
  },
  {
   "cell_type": "markdown",
   "metadata": {},
   "source": [
    "## 产生随机数字\n",
    "- 函数random.randint(a,b) 可以用来产生一个a和b之间且包括a和b的随机整数"
   ]
  },
  {
   "cell_type": "markdown",
   "metadata": {},
   "source": [
    "产生一个随机数，你去输入，如果你输入的数大于随机数，那么就告诉你太大了，反之，太小了，\n",
    "然后你一直输入，知道它满意为止"
   ]
  },
  {
   "cell_type": "code",
   "execution_count": 6,
   "metadata": {},
   "outputs": [],
   "source": [
    "import random\n",
    "number=random.randint(0,10)"
   ]
  },
  {
   "cell_type": "code",
   "execution_count": 7,
   "metadata": {},
   "outputs": [
    {
     "name": "stdout",
     "output_type": "stream",
     "text": [
      "输入一个数：3\n",
      "10 3 太小了\n",
      "输入一个数：4\n",
      "10 4 太小了\n",
      "输入一个数：5\n",
      "10 5 太小了\n",
      "输入一个数：6\n",
      "10 6 太小了\n",
      "输入一个数：7\n",
      "10 7 太小了\n"
     ]
    }
   ],
   "source": [
    "for i in range(5):\n",
    "    \n",
    "    num=eval(input('输入一个数：'))\n",
    "    if num>number:\n",
    "        print(number,num,'太大了')\n",
    "    elif num<number:\n",
    "        print(number,num,'太小了')\n",
    "    else:\n",
    "        print(number,num,'满意')\n",
    "        break"
   ]
  },
  {
   "cell_type": "markdown",
   "metadata": {},
   "source": [
    "##  其他random方法\n",
    "- random.random 返回0.0到1.0之间前闭后开区间的随机浮点\n",
    "- random.randrange(a,b) 前闭后开"
   ]
  },
  {
   "cell_type": "markdown",
   "metadata": {},
   "source": [
    "## EP：\n",
    "- 产生两个随机整数number1和number2，然后显示给用户，使用户输入数字的和，并判定其是否正确\n",
    "- 进阶:写一个随机序号点名程序"
   ]
  },
  {
   "cell_type": "code",
   "execution_count": 9,
   "metadata": {},
   "outputs": [],
   "source": [
    "import math"
   ]
  },
  {
   "cell_type": "code",
   "execution_count": 10,
   "metadata": {},
   "outputs": [
    {
     "name": "stdout",
     "output_type": "stream",
     "text": [
      "7 6\n",
      "输入和：4\n",
      "no\n"
     ]
    }
   ],
   "source": [
    "import random\n",
    "number1=random.randint(0,10)\n",
    "number2=random.randint(0,10)\n",
    "print(number1,number2)\n",
    "sum=input('输入和：')\n",
    "number=number1+number2\n",
    "if number==sum:\n",
    "    print('正确')\n",
    "elif number!=sum:\n",
    "    print('no')"
   ]
  },
  {
   "cell_type": "code",
   "execution_count": 11,
   "metadata": {},
   "outputs": [
    {
     "name": "stdout",
     "output_type": "stream",
     "text": [
      "年轻[y/n]y\n",
      "帅[y/n]y\n",
      "有没有老婆[y/n]y\n",
      "马上结婚\n"
     ]
    }
   ],
   "source": [
    "#嵌套\n",
    "age=input('年轻[y/n]')\n",
    "if age=='y':\n",
    "    handsome=input('帅[y/n]')\n",
    "    if handsome=='y':\n",
    "        wife=input('有没有老婆[y/n]')\n",
    "        if wife=='n':\n",
    "            print('回家的诱惑')\n",
    "        else:\n",
    "            print('马上结婚')\n",
    "    else:\n",
    "         print('考虑一下')\n",
    "else:\n",
    "    print('拜拜')"
   ]
  },
  {
   "cell_type": "markdown",
   "metadata": {},
   "source": [
    "## if语句\n",
    "- 如果条件正确就执行一个单向if语句，亦即当条件为真的时候才执行if内部的语句\n",
    "- Python有很多选择语句:\n",
    "> - 单向if \n",
    "  - 双向if-else\n",
    "  - 嵌套if\n",
    "  - 多向if-elif-else\n",
    "  \n",
    "- 注意：当语句含有子语句的时候，那么一定至少要有一个缩进，也就是说如果有儿子存在，那么一定要缩进\n",
    "- 切记不可tab键和space混用，单用tab 或者 space\n",
    "- 当你输出的结果是无论if是否为真时都需要显示时，语句应该与if对齐"
   ]
  },
  {
   "cell_type": "code",
   "execution_count": null,
   "metadata": {},
   "outputs": [],
   "source": []
  },
  {
   "cell_type": "markdown",
   "metadata": {},
   "source": [
    "## EP：\n",
    "- 用户输入一个数字，判断其实奇数还是偶数\n",
    "- 进阶：可以查看下4.5实例研究猜生日"
   ]
  },
  {
   "cell_type": "markdown",
   "metadata": {},
   "source": [
    "## 双向if-else 语句\n",
    "- 如果条件为真，那么走if内部语句，否则走else内部语句"
   ]
  },
  {
   "cell_type": "markdown",
   "metadata": {},
   "source": [
    "## EP：\n",
    "- 产生两个随机整数number1和number2，然后显示给用户，使用户输入数字，并判定其是否正确,如果正确打印“you‘re correct”，否则打印正确错误"
   ]
  },
  {
   "cell_type": "markdown",
   "metadata": {},
   "source": [
    "## 嵌套if 和多向if-elif-else\n",
    "![](../Photo/35.png)"
   ]
  },
  {
   "cell_type": "code",
   "execution_count": 5,
   "metadata": {},
   "outputs": [
    {
     "name": "stdout",
     "output_type": "stream",
     "text": [
      "输入一个年份：2019\n",
      "猪\n"
     ]
    }
   ],
   "source": [
    "year=eval(input('输入一个年份：'))\n",
    "if year%12==0:\n",
    "    print('猴')\n",
    "elif year%12==1:\n",
    "    print('鸡')\n",
    "elif year%12==2:\n",
    "    print('狗')\n",
    "elif year%12==3:\n",
    "    print('猪')\n",
    "elif year%12==4:\n",
    "    print('鼠')\n",
    "elif year%12==5:\n",
    "    print('牛')\n",
    "elif year%12==6:\n",
    "    print('虎')\n",
    "elif year%12==7:\n",
    "    print('兔')\n",
    "elif year%12==8:\n",
    "    print('龙')\n",
    "elif year%12==9:\n",
    "    print('蛇')\n",
    "elif year%12==10:\n",
    "    print('马')\n",
    "elif year%12==11:\n",
    "    print('羊')"
   ]
  },
  {
   "cell_type": "markdown",
   "metadata": {},
   "source": [
    "## EP：\n",
    "- 提示用户输入一个年份，然后显示表示这一年的动物\n",
    "![](../Photo/36.png)\n",
    "- 计算身体质量指数的程序\n",
    "- BMI = 以千克为单位的体重除以以米为单位的身高的平方\n",
    "![](../Photo/37.png)"
   ]
  },
  {
   "cell_type": "code",
   "execution_count": 13,
   "metadata": {},
   "outputs": [
    {
     "name": "stdout",
     "output_type": "stream",
     "text": [
      "输入身高（以米为单位）：1.60\n",
      "输入体重（以千克为单位）：48\n",
      "标准\n"
     ]
    }
   ],
   "source": [
    "h=eval(input('输入身高（以米为单位）：'))\n",
    "s=eval(input('输入体重（以千克为单位）：'))\n",
    "BIM=s/(h**2)\n",
    "if BIM<18.5:\n",
    "    print('超轻')\n",
    "elif 18.5<=BIM<20.5:\n",
    "    print('标准')\n",
    "elif 20.5<=BIM<=30.0:\n",
    "    print('超重')\n",
    "elif 30.0<=BIM:\n",
    "    print('痴肥')"
   ]
  },
  {
   "cell_type": "markdown",
   "metadata": {},
   "source": [
    "## 逻辑运算符\n",
    "![](../Photo/38.png)"
   ]
  },
  {
   "cell_type": "markdown",
   "metadata": {},
   "source": [
    "![](../Photo/39.png)\n",
    "![](../Photo/40.png)"
   ]
  },
  {
   "cell_type": "code",
   "execution_count": null,
   "metadata": {},
   "outputs": [],
   "source": []
  },
  {
   "cell_type": "markdown",
   "metadata": {},
   "source": [
    "## EP：\n",
    "- 判定闰年：一个年份如果能被4整除但不能被100整除，或者能被400整除，那么这个年份就是闰年\n",
    "- 提示用户输入一个年份，并返回是否是闰年\n",
    "- 提示用户输入一个数字，判断其是否为水仙花数"
   ]
  },
  {
   "cell_type": "code",
   "execution_count": 20,
   "metadata": {},
   "outputs": [
    {
     "name": "stdout",
     "output_type": "stream",
     "text": [
      "输入一个年份：2020\n",
      "是闰年\n"
     ]
    }
   ],
   "source": [
    "year=eval(input('输入一个年份：'))\n",
    "if (year%4==0 and year%100!=0 )or year%400==0:\n",
    "    print('是闰年')\n",
    "else:\n",
    "    print('不是闰年')\n"
   ]
  },
  {
   "cell_type": "code",
   "execution_count": 29,
   "metadata": {},
   "outputs": [
    {
     "name": "stdout",
     "output_type": "stream",
     "text": [
      ">>:34\n",
      "不是水仙花数\n"
     ]
    }
   ],
   "source": [
    "num=eval(input(\">>:\"))\n",
    "bai=num//100\n",
    "shi=num//10%10\n",
    "ge=num%10\n",
    "if bai**3+shi**3+ge**3==num:\n",
    "    print('水仙花数')\n",
    "else:\n",
    "    print('不是水仙花数')\n"
   ]
  },
  {
   "cell_type": "markdown",
   "metadata": {},
   "source": [
    "## 实例研究：彩票\n",
    "![](../Photo/41.png)"
   ]
  },
  {
   "cell_type": "code",
   "execution_count": 15,
   "metadata": {},
   "outputs": [
    {
     "name": "stdout",
     "output_type": "stream",
     "text": [
      "16\n",
      "请输入两位数：26\n",
      "1000\n"
     ]
    }
   ],
   "source": [
    "import random\n",
    "number = random.randint(10,99)\n",
    "print(number)\n",
    "N=input('请输入两位数：')\n",
    "number_shi = number // 10\n",
    "number_ge = number % 10\n",
    "\n",
    "if N[0] =='0':\n",
    "    N_shi = 0\n",
    "              \n",
    "else :\n",
    "    N_shi = int(N) // 10\n",
    "    N_ge = int(N) % 10\n",
    "    \n",
    "if number == int(N):\n",
    "    print('10000')\n",
    "elif number_shi + number_ge == N_shi + N_ge:\n",
    "    print('3000')\n",
    "elif (number_ge == N_ge or number_ge == N_shi) or (number_shi== N_ge or number_shi == N_shi):\n",
    "    print('1000')"
   ]
  },
  {
   "cell_type": "code",
   "execution_count": 4,
   "metadata": {},
   "outputs": [
    {
     "name": "stdout",
     "output_type": "stream",
     "text": [
      "2 2\n",
      "输入一个俩位数：09\n"
     ]
    },
    {
     "ename": "SyntaxError",
     "evalue": "invalid token (<string>, line 1)",
     "output_type": "error",
     "traceback": [
      "Traceback \u001b[1;36m(most recent call last)\u001b[0m:\n",
      "  File \u001b[0;32m\"C:\\ProgramData\\Anaconda3\\lib\\site-packages\\IPython\\core\\interactiveshell.py\"\u001b[0m, line \u001b[0;32m3296\u001b[0m, in \u001b[0;35mrun_code\u001b[0m\n    exec(code_obj, self.user_global_ns, self.user_ns)\n",
      "\u001b[1;36m  File \u001b[1;32m\"<ipython-input-4-62b6a1c81e94>\"\u001b[1;36m, line \u001b[1;32m5\u001b[1;36m, in \u001b[1;35m<module>\u001b[1;36m\u001b[0m\n\u001b[1;33m    y1,y2=eval(input('输入一个俩位数：'))\u001b[0m\n",
      "\u001b[1;36m  File \u001b[1;32m\"<string>\"\u001b[1;36m, line \u001b[1;32m1\u001b[0m\n\u001b[1;33m    09\u001b[0m\n\u001b[1;37m     ^\u001b[0m\n\u001b[1;31mSyntaxError\u001b[0m\u001b[1;31m:\u001b[0m invalid token\n"
     ]
    }
   ],
   "source": [
    "import random\n",
    "x1=random.randint(0,9)\n",
    "x2=random.randint(0,9)\n",
    "print(x1,x2)\n",
    "y1,y2=eval(input('输入一个俩位数：'))\n",
    "if x1==y1 and x2==y2:\n",
    "    print('奖金为10000美元')\n",
    "elif (x1==y1 and  x1==y2) or (x2==y1 and x2==y2):\n",
    "    print('奖金为3000美元')\n",
    "elif x1==y1 or x1==y2 or x2==y1 or x2==y2: \n",
    "    print('奖金为1000美元')\n",
    "\n"
   ]
  },
  {
   "cell_type": "code",
   "execution_count": null,
   "metadata": {},
   "outputs": [],
   "source": [
    "number=random.randint(10,99)\n"
   ]
  },
  {
   "cell_type": "markdown",
   "metadata": {},
   "source": [
    "# Homework\n",
    "- 1\n",
    "![](../Photo/42.png)"
   ]
  },
  {
   "cell_type": "code",
   "execution_count": null,
   "metadata": {},
   "outputs": [],
   "source": [
    "import math"
   ]
  },
  {
   "cell_type": "code",
   "execution_count": 16,
   "metadata": {},
   "outputs": [
    {
     "name": "stdout",
     "output_type": "stream",
     "text": [
      "输入a,b,c的值：1,2,1\n",
      "the root is -1.0\n"
     ]
    }
   ],
   "source": [
    "a,b,c=eval(input('输入a,b,c的值：'))\n",
    "gongshi=b**2-4*a*c\n",
    "r1=(-b+math.sqrt(b**2-4*a*c))/2*a\n",
    "r2=(-b-math.sqrt(b**2-4*a*c))/2*a\n",
    "if gongshi>0:\n",
    "    print('the roots are',r1,'and',r2)\n",
    "elif gongshi==0:\n",
    "    print('the root is',r1)\n",
    "else:\n",
    "    print('the equation has no real roots')\n",
    "    "
   ]
  },
  {
   "cell_type": "markdown",
   "metadata": {},
   "source": [
    "- 2\n",
    "![](../Photo/43.png)"
   ]
  },
  {
   "cell_type": "code",
   "execution_count": 7,
   "metadata": {},
   "outputs": [
    {
     "name": "stdout",
     "output_type": "stream",
     "text": [
      "8 14\n",
      "输入num1和num2的和：24\n",
      "flase\n"
     ]
    }
   ],
   "source": [
    "import random\n",
    "num1=random.randint(0,100)\n",
    "num2=random.randint(0,100)\n",
    "print(num1,num2)\n",
    "num3=eval(input('输入num1和num2的和：'))\n",
    "if num1+num2==num3:\n",
    "    print('Ture')\n",
    "else:\n",
    "    print('flase')"
   ]
  },
  {
   "cell_type": "markdown",
   "metadata": {},
   "source": [
    "- 3\n",
    "![](../Photo/44.png)"
   ]
  },
  {
   "cell_type": "code",
   "execution_count": 4,
   "metadata": {},
   "outputs": [
    {
     "name": "stdout",
     "output_type": "stream",
     "text": [
      "today's day(星期天是0~星期六是6):3\n",
      "the number of days elapseed since today:16\n",
      "星期五\n"
     ]
    }
   ],
   "source": [
    "week=eval(input(\"today's day(星期天是0~星期六是6):\"))\n",
    "plus_day=eval(input('the number of days elapseed since today:'))\n",
    "if (week+plus_day)%7==0:\n",
    "    print('星期日')\n",
    "elif (week+plus_day)%7==1:\n",
    "    print('星期一')\n",
    "elif (week+plus_day)%7==2:\n",
    "    print('星期二')   \n",
    "elif (week+plus_day)%7==3:\n",
    "    print('星期三')    \n",
    "elif (week+plus_day)%7==4:\n",
    "    print('星期四')    \n",
    "elif (week+plus_day)%7==5:\n",
    "    print('星期五')    \n",
    "elif (week+plus_day)%7==6:\n",
    "    print('星期六')    \n",
    "    \n",
    "    \n",
    "    \n",
    "    "
   ]
  },
  {
   "cell_type": "code",
   "execution_count": 17,
   "metadata": {},
   "outputs": [
    {
     "name": "stdout",
     "output_type": "stream",
     "text": [
      "week:3\n",
      "day:38\n",
      "6\n"
     ]
    }
   ],
   "source": [
    "week=eval(input('week:'))\n",
    "plus_day=eval(input('day:'))\n",
    "res=(week+plus_day)%7#取余\n",
    "print(res)"
   ]
  },
  {
   "cell_type": "markdown",
   "metadata": {},
   "source": [
    "- 4\n",
    "![](../Photo/45.png)"
   ]
  },
  {
   "cell_type": "code",
   "execution_count": 24,
   "metadata": {},
   "outputs": [
    {
     "name": "stdout",
     "output_type": "stream",
     "text": [
      "输入三个整数：34,67,12\n",
      "12 34 67\n"
     ]
    }
   ],
   "source": [
    "num1,num2,num3=eval(input('输入三个整数：'))\n",
    "if num1<num2<num3:\n",
    "    print(num1,num2,num3)\n",
    "elif num1<num3<num2:\n",
    "    print(num1,num3,num2)\n",
    "elif num2<num1<num3:\n",
    "    print(num2,num1,num3)\n",
    "elif num2<num3<num1:\n",
    "    print(num2,num3,num1)\n",
    "elif num3<num1<num2:\n",
    "    print(num3,num1,num2)\n",
    "elif num3<num2<num1:\n",
    "    print(num3,num2,num1)\n",
    "else:\n",
    "    print(num1,num2,num3)"
   ]
  },
  {
   "cell_type": "code",
   "execution_count": 25,
   "metadata": {},
   "outputs": [
    {
     "name": "stdout",
     "output_type": "stream",
     "text": [
      "输入三个整数：23,12,45\n",
      "[12, 23, 45]\n"
     ]
    }
   ],
   "source": [
    "num1,num2,num3=eval(input('输入三个整数：'))\n",
    "print(sorted({num1,num2,num3}))"
   ]
  },
  {
   "cell_type": "code",
   "execution_count": 18,
   "metadata": {},
   "outputs": [
    {
     "data": {
      "text/plain": [
       "3"
      ]
     },
     "execution_count": 18,
     "metadata": {},
     "output_type": "execute_result"
    }
   ],
   "source": [
    "max(1,2,3)"
   ]
  },
  {
   "cell_type": "markdown",
   "metadata": {},
   "source": [
    "- 5\n",
    "![](../Photo/46.png)"
   ]
  },
  {
   "cell_type": "code",
   "execution_count": 26,
   "metadata": {},
   "outputs": [
    {
     "name": "stdout",
     "output_type": "stream",
     "text": [
      "输入第一种的重量和价格：50,24.59\n",
      "输入第二种的重量和价格：25,11.99\n",
      "第2包装种更好\n"
     ]
    }
   ],
   "source": [
    "w1,p1=eval(input('输入第一种的重量和价格：'))\n",
    "w2,p2=eval(input('输入第二种的重量和价格：'))\n",
    "if p1<p2:\n",
    "    print(\"第1包装种更好\")\n",
    "elif p1>p2:\n",
    "    print(\"第2包装种更好\")"
   ]
  },
  {
   "cell_type": "markdown",
   "metadata": {},
   "source": [
    "- 6\n",
    "![](../Photo/47.png)"
   ]
  },
  {
   "cell_type": "code",
   "execution_count": 40,
   "metadata": {},
   "outputs": [
    {
     "name": "stdout",
     "output_type": "stream",
     "text": [
      "输入月份：4\n",
      "输入年份：2008\n",
      "2008 年 4 月有30天\n"
     ]
    }
   ],
   "source": [
    "month=eval(input('输入月份：'))\n",
    "year=eval(input('输入年份：'))\n",
    "if month in (1,3,5,7,8,10,12):\n",
    "    print(year,'年',month,'月有31天')\n",
    "elif month==2:\n",
    "    year=eval(input('输入年份：'))\n",
    "    if (year%4==0 and year%100!=0 )or year%400==0:\n",
    "        print(year,'年',month,'月有29天')\n",
    "    else:\n",
    "        print(year,'年',month,'月有28天')\n",
    "else:\n",
    "    print(year,'年',month,'月有30天')"
   ]
  },
  {
   "cell_type": "markdown",
   "metadata": {},
   "source": [
    "- 7\n",
    "![](../Photo/48.png)"
   ]
  },
  {
   "cell_type": "code",
   "execution_count": 50,
   "metadata": {},
   "outputs": [
    {
     "name": "stdout",
     "output_type": "stream",
     "text": [
      "猜测硬币是正面还是反面(0/1);1\n",
      "no\n"
     ]
    }
   ],
   "source": [
    "import random\n",
    "number = random.randint(0,1)\n",
    "yingbi=eval(input('猜测硬币是正面还是反面(0/1);'))\n",
    "if number==yingbi:\n",
    "    print('yes')\n",
    "else:\n",
    "    print('no')"
   ]
  },
  {
   "cell_type": "markdown",
   "metadata": {},
   "source": [
    "- 8\n",
    "![](../Photo/49.png)"
   ]
  },
  {
   "cell_type": "code",
   "execution_count": 51,
   "metadata": {},
   "outputs": [
    {
     "name": "stdout",
     "output_type": "stream",
     "text": [
      "剪刀（0），石头（1），布（2）：2\n",
      "电脑是剪刀你是布电脑赢了\n"
     ]
    }
   ],
   "source": [
    "import random\n",
    "number = random.randint(0,2)\n",
    "num=eval(input('剪刀（0），石头（1），布（2）：'))\n",
    "if (number==0 and num==0):\n",
    "    print(\"电脑是剪刀你也是你俩平局\")\n",
    "elif (number==1 and num==1):\n",
    "    print(\"电脑是石头你也是你俩平局\")\n",
    "elif (number==2 and num==2):\n",
    "    print(\"电脑是布你也是你俩平局\")\n",
    "elif number==0 and num==1:\n",
    "    print(\"电脑是剪刀你是石头你赢了\")\n",
    "elif number==0 and num==1:\n",
    "    print(\"电脑是剪刀你是石头你赢了\")\n",
    "elif number==0 and num==2:\n",
    "    print(\"电脑是剪刀你是布电脑赢了\")\n",
    "elif number==1 and num==2:\n",
    "    print(\"电脑是石头你是布你赢了\")\n"
   ]
  },
  {
   "cell_type": "markdown",
   "metadata": {},
   "source": [
    "- 9\n",
    "![](../Photo/50.png)"
   ]
  },
  {
   "cell_type": "code",
   "execution_count": 26,
   "metadata": {},
   "outputs": [
    {
     "name": "stdout",
     "output_type": "stream",
     "text": [
      "yaer(eg.2013):2013\n",
      "month(eg.1-12):3\n",
      "the day of the month:1-31:4\n"
     ]
    },
    {
     "ename": "TypeError",
     "evalue": "'int' object is not callable",
     "output_type": "error",
     "traceback": [
      "\u001b[1;31m---------------------------------------------------------------------------\u001b[0m",
      "\u001b[1;31mTypeError\u001b[0m                                 Traceback (most recent call last)",
      "\u001b[1;32m<ipython-input-26-7cb632499295>\u001b[0m in \u001b[0;36m<module>\u001b[1;34m\u001b[0m\n\u001b[0;32m      4\u001b[0m \u001b[0mk\u001b[0m\u001b[1;33m=\u001b[0m\u001b[0my\u001b[0m\u001b[1;33m%\u001b[0m\u001b[1;36m100\u001b[0m\u001b[1;33m\u001b[0m\u001b[1;33m\u001b[0m\u001b[0m\n\u001b[0;32m      5\u001b[0m \u001b[0mj\u001b[0m\u001b[1;33m=\u001b[0m\u001b[0my\u001b[0m\u001b[1;33m/\u001b[0m\u001b[1;36m100\u001b[0m\u001b[1;33m\u001b[0m\u001b[1;33m\u001b[0m\u001b[0m\n\u001b[1;32m----> 6\u001b[1;33m \u001b[0mh\u001b[0m\u001b[1;33m=\u001b[0m\u001b[1;33m(\u001b[0m\u001b[0mq\u001b[0m\u001b[1;33m+\u001b[0m\u001b[1;33m(\u001b[0m\u001b[1;33m(\u001b[0m\u001b[1;36m26\u001b[0m\u001b[1;33m(\u001b[0m\u001b[0mm\u001b[0m\u001b[1;33m+\u001b[0m\u001b[1;36m1\u001b[0m\u001b[1;33m)\u001b[0m\u001b[1;33m/\u001b[0m\u001b[1;36m10\u001b[0m\u001b[1;33m)\u001b[0m\u001b[1;33m)\u001b[0m\u001b[1;33m+\u001b[0m\u001b[0mk\u001b[0m\u001b[1;33m+\u001b[0m\u001b[1;33m(\u001b[0m\u001b[0mk\u001b[0m\u001b[1;33m/\u001b[0m\u001b[1;36m4\u001b[0m\u001b[1;33m)\u001b[0m\u001b[1;33m+\u001b[0m\u001b[1;33m(\u001b[0m\u001b[0mj\u001b[0m\u001b[1;33m/\u001b[0m\u001b[1;36m4\u001b[0m\u001b[1;33m)\u001b[0m\u001b[1;33m+\u001b[0m\u001b[1;36m5\u001b[0m\u001b[1;33m*\u001b[0m\u001b[0mj\u001b[0m\u001b[1;33m)\u001b[0m\u001b[1;33m%\u001b[0m\u001b[1;36m7\u001b[0m\u001b[1;33m\u001b[0m\u001b[1;33m\u001b[0m\u001b[0m\n\u001b[0m\u001b[0;32m      7\u001b[0m \u001b[1;32mif\u001b[0m \u001b[0mh\u001b[0m\u001b[1;33m==\u001b[0m\u001b[1;36m0\u001b[0m\u001b[1;33m:\u001b[0m\u001b[1;33m\u001b[0m\u001b[1;33m\u001b[0m\u001b[0m\n\u001b[0;32m      8\u001b[0m     \u001b[0mprint\u001b[0m\u001b[1;33m(\u001b[0m\u001b[1;34m'今天是星期六：'\u001b[0m\u001b[1;33m)\u001b[0m\u001b[1;33m\u001b[0m\u001b[1;33m\u001b[0m\u001b[0m\n",
      "\u001b[1;31mTypeError\u001b[0m: 'int' object is not callable"
     ]
    }
   ],
   "source": [
    "y=eval(input('yaer(eg.2013):'))\n",
    "m=eval(input('month(eg.1-12):'))\n",
    "q=eval(input('the day of the month:1-31:'))\n",
    "k=y%100\n",
    "j=y/100\n",
    "h=(q+((26(m+1)/10))+k+(k/4)+(j/4)+5*j)%7\n",
    "if h==0:\n",
    "    print('今天是星期六：')\n",
    "elif h==1:\n",
    "    print('今天是 星期天：')\n",
    "elif h==2:\n",
    "    print('今天是 星期一：')   \n",
    "elif h==3:\n",
    "    print('今天是星期二：')    \n",
    "elif h==4:\n",
    "    print('今天是 星期三：')    \n",
    "elif h==5:\n",
    "    print('今天是 星期四：')    \n",
    "elif h==6:\n",
    "    print('今天是星期五：')    \n",
    "   "
   ]
  },
  {
   "cell_type": "code",
   "execution_count": 25,
   "metadata": {},
   "outputs": [
    {
     "name": "stdout",
     "output_type": "stream",
     "text": [
      "yaer(eg.2013):2013\n",
      "month(eg.1-12):3\n",
      "the day of the month:1-31:4\n"
     ]
    },
    {
     "ename": "TypeError",
     "evalue": "'int' object is not callable",
     "output_type": "error",
     "traceback": [
      "\u001b[1;31m---------------------------------------------------------------------------\u001b[0m",
      "\u001b[1;31mTypeError\u001b[0m                                 Traceback (most recent call last)",
      "\u001b[1;32m<ipython-input-25-aa13582dda80>\u001b[0m in \u001b[0;36m<module>\u001b[1;34m\u001b[0m\n\u001b[0;32m      4\u001b[0m \u001b[0mk\u001b[0m\u001b[1;33m==\u001b[0m\u001b[0my\u001b[0m\u001b[1;33m%\u001b[0m\u001b[1;36m100\u001b[0m\u001b[1;33m\u001b[0m\u001b[1;33m\u001b[0m\u001b[0m\n\u001b[0;32m      5\u001b[0m \u001b[0mj\u001b[0m\u001b[1;33m==\u001b[0m\u001b[0my\u001b[0m\u001b[1;33m/\u001b[0m\u001b[1;36m100\u001b[0m\u001b[1;33m\u001b[0m\u001b[1;33m\u001b[0m\u001b[0m\n\u001b[1;32m----> 6\u001b[1;33m \u001b[0mh\u001b[0m\u001b[1;33m=\u001b[0m\u001b[0meval\u001b[0m\u001b[1;33m(\u001b[0m\u001b[1;34m'(q+((26(m+1)/10))+k+(k/4)+(j/4)+5*j)%7'\u001b[0m\u001b[1;33m)\u001b[0m\u001b[1;33m\u001b[0m\u001b[1;33m\u001b[0m\u001b[0m\n\u001b[0m\u001b[0;32m      7\u001b[0m \u001b[0mprint\u001b[0m\u001b[1;33m(\u001b[0m\u001b[0mh\u001b[0m\u001b[1;33m)\u001b[0m\u001b[1;33m\u001b[0m\u001b[1;33m\u001b[0m\u001b[0m\n",
      "\u001b[1;32m<string>\u001b[0m in \u001b[0;36m<module>\u001b[1;34m\u001b[0m\n",
      "\u001b[1;31mTypeError\u001b[0m: 'int' object is not callable"
     ]
    }
   ],
   "source": [
    "y=eval(input('yaer(eg.2013):'))\n",
    "m=eval(input('month(eg.1-12):'))\n",
    "q=eval(input('the day of the month:1-31:'))\n",
    "k==y%100\n",
    "j==y/100\n",
    "h=eval('(q+((26(m+1)/10))+k+(k/4)+(j/4)+5*j)%7')\n",
    "print(h)"
   ]
  },
  {
   "cell_type": "code",
   "execution_count": 21,
   "metadata": {},
   "outputs": [
    {
     "name": "stdout",
     "output_type": "stream",
     "text": [
      "yaer(eg.2013):2018\n",
      "month(eg.1-12):4\n",
      "the day of the month:1-31:16\n",
      "13 20.13\n"
     ]
    }
   ],
   "source": [
    "y=eval(input('yaer(eg.2013):'))\n",
    "m=eval(input('month(eg.1-12):'))\n",
    "q=eval(input('the day of the month:1-31:'))\n",
    "k==y%100\n",
    "j==y/100\n",
    "print(k,j)"
   ]
  },
  {
   "cell_type": "markdown",
   "metadata": {},
   "source": [
    "- 10\n",
    "![](../Photo/51.png)"
   ]
  },
  {
   "cell_type": "code",
   "execution_count": 3,
   "metadata": {},
   "outputs": [
    {
     "name": "stdout",
     "output_type": "stream",
     "text": [
      "你抽的牌为：黑桃A\n"
     ]
    }
   ],
   "source": [
    "import random\n",
    "n1=random.randint(1,13)\n",
    "n2=random.randint(0,3)\n",
    "if n1==1and n2==0:\n",
    "    print('你抽的牌为：梅花A')\n",
    "elif n1==1and n2==1:\n",
    "    print('你抽的牌为：红桃A')\n",
    "elif n1==1and n2==2:\n",
    "    print('你抽的牌为：方块A')\n",
    "elif n1==1and n2==3:\n",
    "    print('你抽的牌为：黑桃A')\n",
    "elif n1==2and n2==0:\n",
    "    print('你抽的牌为：梅花A')\n",
    "elif n1==2and n2==1:\n",
    "    print('你抽的牌为：红桃A')\n",
    "elif n1==2and n2==2:\n",
    "    print('你抽的牌为：方块A')\n",
    "elif n1==2and n2==3:\n",
    "    print('你抽的牌为：黑桃A')  \n",
    "elif n1==3and n2==0:\n",
    "    print('你抽的牌为：梅花A')\n",
    "elif n1==3and n2==1:\n",
    "    print('你抽的牌为：红桃A')\n",
    "elif n1==3and n2==2:\n",
    "    print('你抽的牌为：方块A')\n",
    "elif n1==3and n2==3:\n",
    "    print('你抽的牌为：黑桃A')   "
   ]
  },
  {
   "cell_type": "markdown",
   "metadata": {},
   "source": [
    "- 11\n",
    "![](../Photo/52.png)"
   ]
  },
  {
   "cell_type": "code",
   "execution_count": 42,
   "metadata": {},
   "outputs": [
    {
     "name": "stdout",
     "output_type": "stream",
     "text": [
      "输入一个三位数整数：123\n",
      "123 不是回文数\n"
     ]
    }
   ],
   "source": [
    "num=eval(input('输入一个三位数整数：'))\n",
    "bai=num//100\n",
    "ge=num%10\n",
    "if bai==ge:\n",
    "    print(num,'是回文数')\n",
    "else:\n",
    "    print(num,'不是回文数')"
   ]
  },
  {
   "cell_type": "markdown",
   "metadata": {},
   "source": [
    "- 12\n",
    "![](../Photo/53.png)"
   ]
  },
  {
   "cell_type": "code",
   "execution_count": 2,
   "metadata": {},
   "outputs": [
    {
     "name": "stdout",
     "output_type": "stream",
     "text": [
      "输入三角形的三个边：1,6,3\n",
      "输入是非法的\n"
     ]
    }
   ],
   "source": [
    "a,b,c=eval(input(\"输入三角形的三个边：\"))\n",
    "if a+b>c and a+c>b and c+b>a:\n",
    "    print('周长为：',a+b+c)\n",
    "else:\n",
    "    print('输入是非法的')\n"
   ]
  },
  {
   "cell_type": "code",
   "execution_count": null,
   "metadata": {},
   "outputs": [],
   "source": []
  }
 ],
 "metadata": {
  "kernelspec": {
   "display_name": "Python 3",
   "language": "python",
   "name": "python3"
  },
  "language_info": {
   "codemirror_mode": {
    "name": "ipython",
    "version": 3
   },
   "file_extension": ".py",
   "mimetype": "text/x-python",
   "name": "python",
   "nbconvert_exporter": "python",
   "pygments_lexer": "ipython3",
   "version": "3.7.3"
  }
 },
 "nbformat": 4,
 "nbformat_minor": 2
}
