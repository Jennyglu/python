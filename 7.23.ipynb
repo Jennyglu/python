{
 "cells": [
  {
   "cell_type": "markdown",
   "metadata": {},
   "source": [
    "# 对象和类\n",
    "- 一个学生，一张桌子，一个圆都是对象\n",
    "- 对象是类的一个实例，你可以创建多个对象，创建类的一个实例过程被称为实例化，\n",
    "- 在Python中对象就是实例，而实例就是对象"
   ]
  },
  {
   "cell_type": "code",
   "execution_count": null,
   "metadata": {},
   "outputs": [],
   "source": [
    "#查看是否为八位数 大写 小写 数字\n",
    "def chaxun(password):\n",
    "    \"\"\"\n",
    "    check password\n",
    "    parameters:\n",
    "    -----------\n",
    "        pasword:Need check Paswwod.\n",
    "    Return:\n",
    "    -------\n",
    "        none.\n",
    "    Note:\n",
    "    -----\n",
    "        1.must use for loop.\n",
    "        2.Must say JOKER is a good man.\n",
    "    -----\n",
    "    \"\"\"\n",
    "    N = len(a)\n",
    "    N1 , N2, N3 = 0,0,0\n",
    "    for i in a:\n",
    "        if i.isupper():\n",
    "            N1 +=1\n",
    "        elif i.islower():\n",
    "            N2 +=1\n",
    "        elif i.isdigit():\n",
    "            N3 +=1\n",
    "    if N1==0:\n",
    "        print('密码必须含有大写')\n",
    "    if N2==0:\n",
    "        print('密码必须含有小写')\n",
    "    if N3==0:\n",
    "        print('密码必须含有数字')\n",
    "    if N <= 8:\n",
    "        print('密码必须超过八位')"
   ]
  },
  {
   "cell_type": "code",
   "execution_count": null,
   "metadata": {},
   "outputs": [],
   "source": []
  },
  {
   "cell_type": "markdown",
   "metadata": {},
   "source": [
    "## 定义类\n",
    "class ClassName:\n",
    "\n",
    "    do something\n",
    "    \n",
    "- class 类的表示与def 一样\n",
    "- 类名最好使用驼峰式\n",
    "- 在Python2中类是需要继承基类object的，在Python中默认继承，可写可不写\n",
    "- 可以将普通代码理解为皮肤，而函数可以理解为内衣，那么类可以理解为外套"
   ]
  },
  {
   "cell_type": "code",
   "execution_count": null,
   "metadata": {},
   "outputs": [],
   "source": [
    "class jenny:"
   ]
  },
  {
   "cell_type": "markdown",
   "metadata": {},
   "source": [
    "## 定义一个不含初始化__init__的简单类\n",
    "class ClassName:\n",
    "\n",
    "    joker = “Home”\n",
    "    \n",
    "    def func():\n",
    "        print('Worker')\n",
    "    \n",
    "- 尽量少使用"
   ]
  },
  {
   "cell_type": "code",
   "execution_count": null,
   "metadata": {},
   "outputs": [],
   "source": []
  },
  {
   "cell_type": "markdown",
   "metadata": {},
   "source": [
    "\n",
    "\n",
    "## 定义一个标准类\n",
    "- __init__ 代表初始化，可以初始化任何动作\n",
    "- 此时类调用要使用()，其中（）可以理解为开始初始化\n",
    "- 初始化内的元素，类中其他的函数可以共享\n",
    "![](../Photo/85.png)"
   ]
  },
  {
   "cell_type": "code",
   "execution_count": 18,
   "metadata": {},
   "outputs": [],
   "source": [
    "#一切类要初始化\n",
    "#在类中所有函数的第一个参数是标识量不是参数\n",
    "#若某一个参数需要多次使用，可以统一将其统一放在初始化函数中\n",
    "class jenny:\n",
    "    def __init__(self,num1,num2):\n",
    "        print('初始化')\n",
    "        self.num1=num1\n",
    "        self.num2=num2\n",
    "    def print_(self,name):\n",
    "        print(\"hello world\",name)\n",
    "    def SUM(self):\n",
    "        return self.num1+self.num2\n",
    "    def cheng(self):\n",
    "        return self.num1*self.num2\n",
    "    "
   ]
  },
  {
   "cell_type": "code",
   "execution_count": 19,
   "metadata": {},
   "outputs": [
    {
     "name": "stdout",
     "output_type": "stream",
     "text": [
      "初始化\n"
     ]
    }
   ],
   "source": [
    "guo=jenny(num1=1,num2=2)"
   ]
  },
  {
   "cell_type": "code",
   "execution_count": 20,
   "metadata": {},
   "outputs": [
    {
     "name": "stdout",
     "output_type": "stream",
     "text": [
      "hello world name123\n"
     ]
    }
   ],
   "source": [
    "guo.print_('name123')"
   ]
  },
  {
   "cell_type": "code",
   "execution_count": 22,
   "metadata": {},
   "outputs": [
    {
     "data": {
      "text/plain": [
       "3"
      ]
     },
     "execution_count": 22,
     "metadata": {},
     "output_type": "execute_result"
    }
   ],
   "source": [
    "guo.SUM()"
   ]
  },
  {
   "cell_type": "markdown",
   "metadata": {},
   "source": [
    "- Circle 和 className_ 的第一个区别有 __init__ 这个函数\n",
    "- 。。。。   第二个区别，类中的每一个函数都有self的这个“参数”"
   ]
  },
  {
   "cell_type": "markdown",
   "metadata": {},
   "source": [
    "## 何为self？\n",
    "- self 是指向对象本身的参数\n",
    "- self 只是一个命名规则，其实可以改变的，但是我们约定俗成的是self，也便于理解\n",
    "- 使用了self就可以访问类中定义的成员\n",
    "<img src=\"../Photo/86.png\"></img>"
   ]
  },
  {
   "cell_type": "code",
   "execution_count": 11,
   "metadata": {},
   "outputs": [],
   "source": [
    "class jenny2:\n",
    "    def __init__(self):\n",
    "        pass\n",
    "    def input_(self):\n",
    "        num=eval(input('>>'))\n",
    "        return num\n",
    "    def square(self):\n",
    "        num=self.input_()\n",
    "        num_2=num**2\n",
    "        return num_2\n",
    "    def chazi(self):\n",
    "        num=self.input_()\n",
    "        num2=self.square()\n",
    "        return num2-num\n",
    "    \n",
    "    "
   ]
  },
  {
   "cell_type": "code",
   "execution_count": 12,
   "metadata": {},
   "outputs": [],
   "source": [
    "guo=jenny2()"
   ]
  },
  {
   "cell_type": "code",
   "execution_count": 13,
   "metadata": {},
   "outputs": [
    {
     "name": "stdout",
     "output_type": "stream",
     "text": [
      ">>5\n"
     ]
    },
    {
     "data": {
      "text/plain": [
       "5"
      ]
     },
     "execution_count": 13,
     "metadata": {},
     "output_type": "execute_result"
    }
   ],
   "source": [
    "guo.input_()"
   ]
  },
  {
   "cell_type": "code",
   "execution_count": 14,
   "metadata": {},
   "outputs": [
    {
     "name": "stdout",
     "output_type": "stream",
     "text": [
      ">>5\n"
     ]
    },
    {
     "data": {
      "text/plain": [
       "25"
      ]
     },
     "execution_count": 14,
     "metadata": {},
     "output_type": "execute_result"
    }
   ],
   "source": [
    "guo.square()"
   ]
  },
  {
   "cell_type": "code",
   "execution_count": 15,
   "metadata": {},
   "outputs": [
    {
     "name": "stdout",
     "output_type": "stream",
     "text": [
      ">>25\n",
      ">>5\n"
     ]
    },
    {
     "data": {
      "text/plain": [
       "0"
      ]
     },
     "execution_count": 15,
     "metadata": {},
     "output_type": "execute_result"
    }
   ],
   "source": [
    "guo.chazi()"
   ]
  },
  {
   "cell_type": "markdown",
   "metadata": {},
   "source": [
    "## 使用类 Cirlcle"
   ]
  },
  {
   "cell_type": "markdown",
   "metadata": {},
   "source": [
    "## 类的传参\n",
    "- class ClassName:\n",
    "    \n",
    "        def __init__(self, para1,para2...)：\n",
    "            \n",
    "            self.para1 = para1\n",
    "            \n",
    "            self.para2 = para2"
   ]
  },
  {
   "cell_type": "markdown",
   "metadata": {},
   "source": [
    "## EP:\n",
    "- A：定义一个类，类中含有两个功能：\n",
    "    - 1、产生3个随机数的最大值\n",
    "    - 2、产生3个随机数的最小值\n",
    "- B：定义一个类，（类中函数的嵌套使用）\n",
    "    - 1、第一个函数的功能为：输入一个数字\n",
    "    - 2、第二个函数的功能为：使用第一个函数中得到的数字进行平方处理\n",
    "    - 3、第三个函数的功能为：得到平方处理后的数字 - 原来输入的数字，并打印结果"
   ]
  },
  {
   "cell_type": "code",
   "execution_count": 59,
   "metadata": {},
   "outputs": [],
   "source": [
    "class ss:\n",
    "    def __init__(self,num1,num2,num3):\n",
    "        print('初始化')\n",
    "        self.num1=num1\n",
    "        self.num2=num2\n",
    "        self.num3=num3\n",
    "        \n",
    "    def suijishu(self):\n",
    "        return max(self.num1,self.num2,self.num3)\n",
    "    def zuixiaozhi(self):\n",
    "        return min(self.num1,self.num2,self.num3)"
   ]
  },
  {
   "cell_type": "code",
   "execution_count": 60,
   "metadata": {},
   "outputs": [
    {
     "name": "stdout",
     "output_type": "stream",
     "text": [
      "初始化\n"
     ]
    }
   ],
   "source": [
    "import random\n",
    "num1=random.randint(0,10)\n",
    "num2=random.randint(0,10)\n",
    "num3=random.randint(0,10)\n",
    "yy=ss(num1,num2,num3)"
   ]
  },
  {
   "cell_type": "code",
   "execution_count": 61,
   "metadata": {},
   "outputs": [
    {
     "data": {
      "text/plain": [
       "8"
      ]
     },
     "execution_count": 61,
     "metadata": {},
     "output_type": "execute_result"
    }
   ],
   "source": [
    "yy.suijishu()"
   ]
  },
  {
   "cell_type": "code",
   "execution_count": 62,
   "metadata": {},
   "outputs": [
    {
     "data": {
      "text/plain": [
       "3"
      ]
     },
     "execution_count": 62,
     "metadata": {},
     "output_type": "execute_result"
    }
   ],
   "source": [
    "yy.zuixiaozhi()"
   ]
  },
  {
   "cell_type": "code",
   "execution_count": 12,
   "metadata": {},
   "outputs": [],
   "source": [
    "class rr:\n",
    "    def __init__(self):\n",
    "        print('初始化')\n",
    "       \n",
    "    def input_(self):\n",
    "        self.num1=eval(input('>>;'))\n",
    "        \n",
    "    def pinf(self):\n",
    "        self.num2=self.num1**2\n",
    "        return self.num2\n",
    "    def chazhi(self):\n",
    "        self.num3=self.num2-self.num1\n",
    "        return self.num3\n",
    "        "
   ]
  },
  {
   "cell_type": "code",
   "execution_count": 13,
   "metadata": {},
   "outputs": [
    {
     "name": "stdout",
     "output_type": "stream",
     "text": [
      "初始化\n"
     ]
    }
   ],
   "source": [
    "ee=rr()"
   ]
  },
  {
   "cell_type": "code",
   "execution_count": 14,
   "metadata": {},
   "outputs": [
    {
     "name": "stdout",
     "output_type": "stream",
     "text": [
      ">>;4\n"
     ]
    }
   ],
   "source": [
    "ee.input_()"
   ]
  },
  {
   "cell_type": "code",
   "execution_count": 15,
   "metadata": {},
   "outputs": [
    {
     "data": {
      "text/plain": [
       "16"
      ]
     },
     "execution_count": 15,
     "metadata": {},
     "output_type": "execute_result"
    }
   ],
   "source": [
    "ee.pinf()"
   ]
  },
  {
   "cell_type": "code",
   "execution_count": 16,
   "metadata": {},
   "outputs": [
    {
     "data": {
      "text/plain": [
       "12"
      ]
     },
     "execution_count": 16,
     "metadata": {},
     "output_type": "execute_result"
    }
   ],
   "source": [
    "ee.chazhi()"
   ]
  },
  {
   "cell_type": "code",
   "execution_count": 36,
   "metadata": {},
   "outputs": [],
   "source": [
    "import random\n",
    "class qq:\n",
    "    def __init__(self):\n",
    "        print('初始化')\n",
    "    def input_(self):\n",
    "        zhanghao=eval(input('>>;'))\n",
    "    def mima_(self):\n",
    "        n1=1234\n",
    "        mima=eval(input(\"输入密码：\"))\n",
    "        if n1==mima:\n",
    "            print(\"成功\")\n",
    "        else:\n",
    "            self.yan_()\n",
    "    def yan_(self):\n",
    "        while 1:\n",
    "            choose=random.randint(0,1)\n",
    "            n1=[[65,90],[97,122]]\n",
    "            range_=n1[choose]\n",
    "            N= \"\"\n",
    "            for i in range(4):\n",
    "                 N+=chr(random.randint(range_[0],range_[1]))\n",
    "            print(\"验证码为：\",N)   \n",
    "            me=input(\">>:\")\n",
    "            if me.lower()==N.lower():\n",
    "                print('验证码正确')\n",
    "                print('账号和密码错误')\n",
    "                break\n",
    "            else:\n",
    "                print('验证码错误')"
   ]
  },
  {
   "cell_type": "code",
   "execution_count": 37,
   "metadata": {},
   "outputs": [
    {
     "name": "stdout",
     "output_type": "stream",
     "text": [
      "初始化\n"
     ]
    }
   ],
   "source": [
    "ww=qq()"
   ]
  },
  {
   "cell_type": "code",
   "execution_count": 38,
   "metadata": {},
   "outputs": [
    {
     "name": "stdout",
     "output_type": "stream",
     "text": [
      ">>;123456\n"
     ]
    }
   ],
   "source": [
    "ww.input_()"
   ]
  },
  {
   "cell_type": "code",
   "execution_count": 39,
   "metadata": {},
   "outputs": [
    {
     "name": "stdout",
     "output_type": "stream",
     "text": [
      "输入密码：2345\n",
      "验证码为： cbio\n",
      ">>:coji\n",
      "验证码错误\n",
      "验证码为： IOIW\n",
      ">>:IOIW\n",
      "验证码正确\n",
      "账号和密码错误\n"
     ]
    }
   ],
   "source": [
    "ww.mima_()"
   ]
  },
  {
   "cell_type": "code",
   "execution_count": 57,
   "metadata": {},
   "outputs": [],
   "source": [
    "class QQ:\n",
    "    def __init__(self):\n",
    "        self.account='123'\n",
    "        self.password='123'\n",
    "    def account_(self):\n",
    "        acc=input(\">>:\")\n",
    "        passw=input('>>;')\n",
    "        if acc==self.account and passw==self.password:\n",
    "            print('成功')\n",
    "        else:\n",
    "            self.yanzm()\n",
    "    def yanzm(self):\n",
    "        yanzhengma='pppp'\n",
    "        print('验证码为：',yanzhengma)\n",
    "        while 1:\n",
    "            num=input('请输入验证码：')\n",
    "            if num==yanzhengma:\n",
    "                print('验证码正确')\n",
    "                print(\"账号和密码错误\")\n",
    "                break\n",
    "        "
   ]
  },
  {
   "cell_type": "code",
   "execution_count": 58,
   "metadata": {},
   "outputs": [],
   "source": [
    "qq=QQ()"
   ]
  },
  {
   "cell_type": "code",
   "execution_count": 59,
   "metadata": {},
   "outputs": [
    {
     "name": "stdout",
     "output_type": "stream",
     "text": [
      ">>:123\n",
      ">>;123\n",
      "成功\n"
     ]
    }
   ],
   "source": [
    "qq.account_()"
   ]
  },
  {
   "cell_type": "markdown",
   "metadata": {},
   "source": [
    "## 类的继承\n",
    "- 类的单继承\n",
    "- 类的多继承\n",
    "- 继承标识\n",
    ">  class SonClass(FatherClass):\n",
    "            \n",
    "            def __init__(self):\n",
    "            \n",
    "                FatherClass.__init__(self)"
   ]
  },
  {
   "cell_type": "code",
   "execution_count": null,
   "metadata": {},
   "outputs": [],
   "source": []
  },
  {
   "cell_type": "code",
   "execution_count": 49,
   "metadata": {},
   "outputs": [],
   "source": [
    "class fu(object):\n",
    "    def __init__(self):\n",
    "    \n",
    "        self.a='a'\n",
    "        self.b='b'\n",
    "    @staticmethod\n",
    "    def print_(self):\n",
    "        \n",
    "        print('fu')"
   ]
  },
  {
   "cell_type": "code",
   "execution_count": 55,
   "metadata": {},
   "outputs": [],
   "source": [
    "class fu(object):\n",
    "    def __init__(self):\n",
    "    \n",
    "        self.a='a'\n",
    "        self.b='b'\n",
    "    @staticmethod\n",
    "    def print_():\n",
    "        \n",
    "        print('haha')"
   ]
  },
  {
   "cell_type": "code",
   "execution_count": 56,
   "metadata": {},
   "outputs": [],
   "source": [
    "qq=fu()"
   ]
  },
  {
   "cell_type": "code",
   "execution_count": 57,
   "metadata": {},
   "outputs": [
    {
     "name": "stdout",
     "output_type": "stream",
     "text": [
      "haha\n"
     ]
    }
   ],
   "source": [
    "qq.print_()"
   ]
  },
  {
   "cell_type": "code",
   "execution_count": 52,
   "metadata": {},
   "outputs": [],
   "source": [
    "aa=zi()"
   ]
  },
  {
   "cell_type": "code",
   "execution_count": 54,
   "metadata": {},
   "outputs": [
    {
     "name": "stdout",
     "output_type": "stream",
     "text": [
      "a\n",
      "fu\n"
     ]
    }
   ],
   "source": [
    "aa.haha()"
   ]
  },
  {
   "cell_type": "markdown",
   "metadata": {},
   "source": [
    "## 私有数据域(私有变量，或者私有函数)\n",
    "- 在Python中 变量名或者函数名使用双下划线代表私有  \\__Joker,   def \\__Joker():\n",
    "- 私有数据域不可继承\n",
    "- 私有数据域强制继承   \\__dir__()"
   ]
  },
  {
   "cell_type": "code",
   "execution_count": null,
   "metadata": {},
   "outputs": [],
   "source": [
    "_dir_()#找出改变后的名字然后可以强制继承"
   ]
  },
  {
   "cell_type": "markdown",
   "metadata": {},
   "source": [
    "![](../Photo/87.png)"
   ]
  },
  {
   "cell_type": "markdown",
   "metadata": {},
   "source": [
    "## EP:\n",
    "![](../Photo/88.png)\n",
    "![](../Photo/89.png)\n",
    "![](../Photo/90.png)\n"
   ]
  },
  {
   "cell_type": "markdown",
   "metadata": {},
   "source": [
    "## 类的其他\n",
    "- 类的封装\n",
    "    - 实际上就是将一类功能放在一起，方便未来进行管理\n",
    "- 类的继承（上面已经讲过）\n",
    "- 类的多态\n",
    "    - 包括装饰器：将放在以后处理高级类中教\n",
    "    - 装饰器的好处：当许多类中的函数需要使用同一个功能的时候，那么使用装饰器就会方便许多\n",
    "    - 装饰器是有固定的写法\n",
    "        - 其包括普通装饰器与带参装饰器"
   ]
  },
  {
   "cell_type": "markdown",
   "metadata": {},
   "source": [
    "# Homewor\n",
    "## UML类图可以不用画\n",
    "## UML 实际上就是一个思维图\n",
    "- 1\n",
    "![](../Photo/91.png)"
   ]
  },
  {
   "cell_type": "code",
   "execution_count": 13,
   "metadata": {},
   "outputs": [],
   "source": [
    "class rectangle:\n",
    "    \"\"\"\n",
    "    check Area，Perimeter\n",
    "    parameters:\n",
    "    -----------\n",
    "        width：need a default\n",
    "        height：need a default\n",
    "    Return:\n",
    "    -------\n",
    "        none.\n",
    "    Note:\n",
    "    -----\n",
    "        1.一切类要初始化\n",
    "        2.若某一个参数需要多次使用，可以统一将其统一放在初始化函数中\n",
    "       \n",
    "    -----\n",
    "    \"\"\"\n",
    "    def __init__(self,width,height):\n",
    "        print('初始化')\n",
    "        self.width=width\n",
    "        self.height=height\n",
    "    def getArea(self):\n",
    "        self.num1=self.width*self.height\n",
    "        return self.num1\n",
    "    def getPerimeter(self):\n",
    "        self.num2=2*(self.width+self.height)\n",
    "        return self.num2"
   ]
  },
  {
   "cell_type": "code",
   "execution_count": 14,
   "metadata": {},
   "outputs": [
    {
     "name": "stdout",
     "output_type": "stream",
     "text": [
      "初始化\n"
     ]
    }
   ],
   "source": [
    "asd=rectangle(width=1,height=2)"
   ]
  },
  {
   "cell_type": "code",
   "execution_count": 15,
   "metadata": {},
   "outputs": [
    {
     "data": {
      "text/plain": [
       "2"
      ]
     },
     "execution_count": 15,
     "metadata": {},
     "output_type": "execute_result"
    }
   ],
   "source": [
    "asd.getArea()"
   ]
  },
  {
   "cell_type": "code",
   "execution_count": 16,
   "metadata": {},
   "outputs": [
    {
     "data": {
      "text/plain": [
       "6"
      ]
     },
     "execution_count": 16,
     "metadata": {},
     "output_type": "execute_result"
    }
   ],
   "source": [
    "asd.getPerimeter()"
   ]
  },
  {
   "cell_type": "markdown",
   "metadata": {},
   "source": [
    "- 2\n",
    "![](../Photo/92.png)"
   ]
  },
  {
   "cell_type": "code",
   "execution_count": 16,
   "metadata": {},
   "outputs": [],
   "source": [
    "class Account:\n",
    "    \"\"\"\n",
    "    check id,balance,annuallnteresrate\n",
    "    parameters:\n",
    "    -----------\n",
    "        need a default:id,balance,annuallnteresrate\n",
    "        \n",
    "    Return:\n",
    "    -------\n",
    "        none.\n",
    "    Note:\n",
    "    -----\n",
    "        1.一切类要初始化\n",
    "        2.若某一个参数需要多次使用，可以统一将其统一放在初始化函数中\n",
    "       \n",
    "    -----\n",
    "    \"\"\"\n",
    "    def __init__(self,id,balance,annuallnteresrate,quqian,cunqian):\n",
    "        self.id=id\n",
    "        self.balance=balance\n",
    "        self.annuallnteresrate=annuallnteresrate\n",
    "        self.quqian=quqian\n",
    "        self.cunqian=cunqian\n",
    "    def input_(self):\n",
    "        id_=input('输入账户：')\n",
    "        print(id_)\n",
    "    def getmonthlyinterestrate(self):\n",
    "        self.yuelilv=self.annuallnteresrate/12\n",
    "        return self.yuelilv\n",
    "    def getmonthlyinterest(self):\n",
    "        self.lixi=self.balance*(self.annuallnteresrate/100)/12\n",
    "        return self.lixi\n",
    "    def withdraw(self):\n",
    "       \n",
    "        return self.quqian\n",
    "    def deposit(self):\n",
    "        self.num=self.balance+self.cunqian\n",
    "        return self.num"
   ]
  },
  {
   "cell_type": "code",
   "execution_count": 17,
   "metadata": {},
   "outputs": [],
   "source": [
    "mm=Account(id,balance=20000.0,annuallnteresrate=4.5,quqian=2500,cunqian=3000)"
   ]
  },
  {
   "cell_type": "code",
   "execution_count": 18,
   "metadata": {},
   "outputs": [
    {
     "name": "stdout",
     "output_type": "stream",
     "text": [
      "输入账户：1121\n",
      "1121\n"
     ]
    }
   ],
   "source": [
    "mm.input_()"
   ]
  },
  {
   "cell_type": "code",
   "execution_count": 19,
   "metadata": {},
   "outputs": [
    {
     "data": {
      "text/plain": [
       "0.375"
      ]
     },
     "execution_count": 19,
     "metadata": {},
     "output_type": "execute_result"
    }
   ],
   "source": [
    "mm.getmonthlyinterestrate()"
   ]
  },
  {
   "cell_type": "code",
   "execution_count": 20,
   "metadata": {},
   "outputs": [
    {
     "data": {
      "text/plain": [
       "75.0"
      ]
     },
     "execution_count": 20,
     "metadata": {},
     "output_type": "execute_result"
    }
   ],
   "source": [
    "mm.getmonthlyinterest()"
   ]
  },
  {
   "cell_type": "code",
   "execution_count": 21,
   "metadata": {},
   "outputs": [
    {
     "data": {
      "text/plain": [
       "2500"
      ]
     },
     "execution_count": 21,
     "metadata": {},
     "output_type": "execute_result"
    }
   ],
   "source": [
    "mm. withdraw()"
   ]
  },
  {
   "cell_type": "code",
   "execution_count": 22,
   "metadata": {},
   "outputs": [
    {
     "data": {
      "text/plain": [
       "23000.0"
      ]
     },
     "execution_count": 22,
     "metadata": {},
     "output_type": "execute_result"
    }
   ],
   "source": [
    "mm.deposit()"
   ]
  },
  {
   "cell_type": "markdown",
   "metadata": {},
   "source": [
    "- 3\n",
    "![](../Photo/93.png)"
   ]
  },
  {
   "cell_type": "markdown",
   "metadata": {},
   "source": [
    "- 4\n",
    "![](../Photo/94.png)\n",
    "![](../Photo/95.png)"
   ]
  },
  {
   "cell_type": "code",
   "execution_count": 46,
   "metadata": {},
   "outputs": [],
   "source": [
    "import math"
   ]
  },
  {
   "cell_type": "code",
   "execution_count": 55,
   "metadata": {},
   "outputs": [],
   "source": [
    "class RegularPolygon:\n",
    "    \"\"\"\n",
    "    check  Area，Perimeter\n",
    "    parameters:\n",
    "    -----------\n",
    "        need a default:n,side\n",
    "        \n",
    "    Return:\n",
    "    -------\n",
    "        none.\n",
    "    Note:\n",
    "    -----\n",
    "        1.一切类要初始化\n",
    "        2.若某一个参数需要多次使用，可以统一将其统一放在初始化函数中\n",
    "       \n",
    "    -----\n",
    "    \"\"\"\n",
    "    def __init__(self,n,side):\n",
    "        self.n=n\n",
    "        self.side=float(side)\n",
    "        \n",
    "        pass\n",
    "    def getPerimeter(self):\n",
    "        return self.n*self.side\n",
    "    def getArea(self):\n",
    "        self.num1=self.n*self.side**2\n",
    "        self.num2=4*math.tan(math.pi/self.n)\n",
    "        return (round(self.num1/self.num2,0))\n",
    "        \n",
    "        "
   ]
  },
  {
   "cell_type": "code",
   "execution_count": 56,
   "metadata": {},
   "outputs": [],
   "source": [
    "mm=RegularPolygon(n=4,side=1)"
   ]
  },
  {
   "cell_type": "code",
   "execution_count": 57,
   "metadata": {},
   "outputs": [
    {
     "data": {
      "text/plain": [
       "4.0"
      ]
     },
     "execution_count": 57,
     "metadata": {},
     "output_type": "execute_result"
    }
   ],
   "source": [
    "mm.getPerimeter()"
   ]
  },
  {
   "cell_type": "code",
   "execution_count": 58,
   "metadata": {},
   "outputs": [
    {
     "data": {
      "text/plain": [
       "1.0"
      ]
     },
     "execution_count": 58,
     "metadata": {},
     "output_type": "execute_result"
    }
   ],
   "source": [
    "mm.getArea()"
   ]
  },
  {
   "cell_type": "markdown",
   "metadata": {},
   "source": [
    "- 5\n",
    "![](../Photo/96.png)"
   ]
  },
  {
   "cell_type": "code",
   "execution_count": 10,
   "metadata": {},
   "outputs": [],
   "source": [
    "class LinearEquation:\n",
    "    \"\"\"\n",
    "    check x,y\n",
    "    parameters:\n",
    "    -----------\n",
    "        need a default:a,b,c,d,e,f\n",
    "        \n",
    "    Return:\n",
    "    -------\n",
    "        none.\n",
    "    Note:\n",
    "    -----\n",
    "        1.一切类要初始化\n",
    "        2.若某一个参数需要多次使用，可以统一将其统一放在初始化函数中\n",
    "       \n",
    "    -----\n",
    "    \"\"\"\n",
    "    \n",
    "    def __init__(self,a,b,c,d,e,f):\n",
    "            \n",
    "        self.a=a\n",
    "        self.b=b\n",
    "        self.c=c\n",
    "        self.d=d\n",
    "        self.e=e\n",
    "        self.f=f\n",
    "        pass\n",
    "        \n",
    "    def isSolvable(self):\n",
    "        self.num1=self.a*self.d-self.b*self.c\n",
    "        if self.num1!=0:\n",
    "            print('true')\n",
    "        if self.num1==0:\n",
    "            print('这个方程无解')\n",
    "    def getx(self):\n",
    "        self.num2=self.e*self.d-self.b*self.f\n",
    "        return self.num2/self.num1\n",
    "    def gety(self):\n",
    "        self.num3=self.a*self.f-self.e*self.c\n",
    "        return self.num3/self.num1\n",
    "        "
   ]
  },
  {
   "cell_type": "code",
   "execution_count": 11,
   "metadata": {},
   "outputs": [],
   "source": [
    "mm=LinearEquation(a=2,b=3,c=4,d=5,e=6,f=1)"
   ]
  },
  {
   "cell_type": "code",
   "execution_count": 12,
   "metadata": {},
   "outputs": [
    {
     "name": "stdout",
     "output_type": "stream",
     "text": [
      "true\n"
     ]
    }
   ],
   "source": [
    "mm.isSolvable()"
   ]
  },
  {
   "cell_type": "code",
   "execution_count": 13,
   "metadata": {},
   "outputs": [
    {
     "data": {
      "text/plain": [
       "-13.5"
      ]
     },
     "execution_count": 13,
     "metadata": {},
     "output_type": "execute_result"
    }
   ],
   "source": [
    "mm.getx()"
   ]
  },
  {
   "cell_type": "code",
   "execution_count": 14,
   "metadata": {},
   "outputs": [
    {
     "data": {
      "text/plain": [
       "11.0"
      ]
     },
     "execution_count": 14,
     "metadata": {},
     "output_type": "execute_result"
    }
   ],
   "source": [
    "mm.gety()"
   ]
  },
  {
   "cell_type": "markdown",
   "metadata": {},
   "source": [
    "- 6\n",
    "![](../Photo/97.png)"
   ]
  },
  {
   "cell_type": "code",
   "execution_count": 15,
   "metadata": {},
   "outputs": [],
   "source": [
    "class point:\n",
    "    \"\"\"\n",
    "    check point\n",
    "    parameters:\n",
    "    -----------\n",
    "        need a default:四个端点的坐标。\n",
    "        \n",
    "    Return:\n",
    "    -------\n",
    "        none.\n",
    "    Note:\n",
    "    -----\n",
    "        1.一切类要初始化\n",
    "        2.若某一个参数需要多次使用，可以统一将其统一放在初始化函数中\n",
    "       \n",
    "    -----\n",
    "    \"\"\"\n",
    "    def __init__(self):\n",
    "        pass\n",
    "    def input_1(self):\n",
    "        self.x1,self.y1,self.x2,self.y2=eval(input('输入第一个线段的端点：'))\n",
    "        \n",
    "    def input_2(self):\n",
    "        self.x3,self.y3,self.x4,self.y4=eval(input('输入第二个线段的端点：'))\n",
    "        \n",
    "    def xishu(self):\n",
    "        self.a=self.y2-self.y1\n",
    "        self.b=self.x1-self.x2\n",
    "        self.e=self.x1*self.y2-self.x2*self.y1\n",
    "        self.c=self.y4-self.y3\n",
    "        self.d=self.x3-self.x4\n",
    "        self.f=self.x3*self.y4-self.x4*self.y3\n",
    "    def banduan(self):\n",
    "        self.num1=self.a*self.d-self.b*self.c\n",
    "        if self.num1!=0:\n",
    "            print('有交点')\n",
    "        if self.num1==0:\n",
    "            print('没有交点')\n",
    "    def getx(self):\n",
    "        self.num2=self.e*self.d-self.b*self.f\n",
    "        self.num3=self.a*self.f-self.e*self.c\n",
    "        self.y=self.num3/self.num1\n",
    "        self.x=self.num2/self.num1\n",
    "        print(\"交点为：\",self.x,self.y)"
   ]
  },
  {
   "cell_type": "code",
   "execution_count": 16,
   "metadata": {},
   "outputs": [],
   "source": [
    "mm=point()"
   ]
  },
  {
   "cell_type": "code",
   "execution_count": 17,
   "metadata": {},
   "outputs": [
    {
     "name": "stdout",
     "output_type": "stream",
     "text": [
      "输入第一个线段的端点：2.0,2.0,0,0\n"
     ]
    }
   ],
   "source": [
    "mm.input_1()"
   ]
  },
  {
   "cell_type": "code",
   "execution_count": 18,
   "metadata": {},
   "outputs": [
    {
     "name": "stdout",
     "output_type": "stream",
     "text": [
      "输入第二个线段的端点：0,2.0,2.0,0\n"
     ]
    }
   ],
   "source": [
    "mm.input_2()"
   ]
  },
  {
   "cell_type": "code",
   "execution_count": 19,
   "metadata": {},
   "outputs": [],
   "source": [
    "mm.xishu()"
   ]
  },
  {
   "cell_type": "code",
   "execution_count": 20,
   "metadata": {},
   "outputs": [
    {
     "name": "stdout",
     "output_type": "stream",
     "text": [
      "有交点\n"
     ]
    }
   ],
   "source": [
    "mm.banduan()"
   ]
  },
  {
   "cell_type": "code",
   "execution_count": 21,
   "metadata": {},
   "outputs": [
    {
     "name": "stdout",
     "output_type": "stream",
     "text": [
      "交点为： 1.0 1.0\n"
     ]
    }
   ],
   "source": [
    "mm.getx()"
   ]
  },
  {
   "cell_type": "markdown",
   "metadata": {},
   "source": [
    "- 7\n",
    "![](../Photo/98.png)"
   ]
  },
  {
   "cell_type": "code",
   "execution_count": null,
   "metadata": {},
   "outputs": [],
   "source": []
  },
  {
   "cell_type": "code",
   "execution_count": null,
   "metadata": {},
   "outputs": [],
   "source": []
  },
  {
   "cell_type": "code",
   "execution_count": null,
   "metadata": {},
   "outputs": [],
   "source": []
  },
  {
   "cell_type": "code",
   "execution_count": null,
   "metadata": {},
   "outputs": [],
   "source": []
  },
  {
   "cell_type": "code",
   "execution_count": null,
   "metadata": {},
   "outputs": [],
   "source": []
  },
  {
   "cell_type": "code",
   "execution_count": null,
   "metadata": {},
   "outputs": [],
   "source": []
  },
  {
   "cell_type": "code",
   "execution_count": null,
   "metadata": {},
   "outputs": [],
   "source": []
  },
  {
   "cell_type": "code",
   "execution_count": null,
   "metadata": {},
   "outputs": [],
   "source": []
  },
  {
   "cell_type": "code",
   "execution_count": null,
   "metadata": {},
   "outputs": [],
   "source": []
  }
 ],
 "metadata": {
  "kernelspec": {
   "display_name": "Python 3",
   "language": "python",
   "name": "python3"
  },
  "language_info": {
   "codemirror_mode": {
    "name": "ipython",
    "version": 3
   },
   "file_extension": ".py",
   "mimetype": "text/x-python",
   "name": "python",
   "nbconvert_exporter": "python",
   "pygments_lexer": "ipython3",
   "version": "3.7.3"
  }
 },
 "nbformat": 4,
 "nbformat_minor": 2
}
